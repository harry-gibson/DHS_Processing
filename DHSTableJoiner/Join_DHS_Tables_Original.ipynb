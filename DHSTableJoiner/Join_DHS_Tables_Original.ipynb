{
 "cells": [
  {
   "cell_type": "markdown",
   "metadata": {},
   "source": [
    "# DHS recode generator"
   ]
  },
  {
   "cell_type": "markdown",
   "metadata": {},
   "source": [
    "This file contains code for producing custom output \"recode\" tables from DHS tables that have first been processed out into individual files for each survey and table (record type). \n",
    "\n",
    "Essentially it provides a means of \"joining\" tables that are stored in flat CSV files, just like executing a join query on data held in a DB. The joining is done by loading each of the input tables to an in-memory SQLite database, building the output table there, and dumping the output table back to a CSV file.\n",
    "\n",
    "The code for actually constructing the SQL that builds the in-memory database, and performs the joins, is implemented in an external module that should be in the same directory as this notebook. This notebook just contains the necessary code to read the input requirements and data, and write the output files.\n",
    "\n",
    "This was developed by Harry Gibson for extracting information (potentially) related to Under 5 Mortality for Donal Bisanzio. However it should be applicable for creating any \"flat\" joined output tables from DHS data that has been parsed into separate tables from the CSPro format."
   ]
  },
  {
   "cell_type": "markdown",
   "metadata": {},
   "source": [
    "## Usage"
   ]
  },
  {
   "cell_type": "markdown",
   "metadata": {},
   "source": [
    "The main input is a list of tables / variables that should go into the output, specified in a CSV file. This has one row for each output column, and it should have the columns \"Name\" and \"RecordName\" which specify the variable name and table name respectively.\n",
    "\n",
    "A second input CSV file provides a list of survey IDs (in a \"DHS_id\" column) that data should be extracted from.\n",
    "\n",
    "Finally a directory of the parsed DHS survey tables (produced using the DHS survey parsing code) must be provided. The survey id and record name from the above inputs will be used to select CSV files from this directory."
   ]
  },
  {
   "cell_type": "code",
   "execution_count": 1,
   "metadata": {
    "collapsed": false
   },
   "outputs": [],
   "source": [
    "import csv\n",
    "import glob\n",
    "from collections import defaultdict\n",
    "import sqlite3\n",
    "import os"
   ]
  },
  {
   "cell_type": "code",
   "execution_count": 2,
   "metadata": {
    "collapsed": false
   },
   "outputs": [],
   "source": [
    "from DHSTableManagement import *\n",
    "from UnicodeWriter import UnicodeWriter"
   ]
  },
  {
   "cell_type": "markdown",
   "metadata": {},
   "source": [
    "### Specify input file locations / patterns"
   ]
  },
  {
   "cell_type": "code",
   "execution_count": 3,
   "metadata": {
    "collapsed": false
   },
   "outputs": [],
   "source": [
    "varsFile = r'\\\\129.67.26.176\\map_data\\DHS_Automation\\Processing\\U5M_TheUniverse_And_Everything_201510\\Info\\variables_chosen_with_lengthandtype.csv'\n",
    "#varsFile = r'\\\\129.67.26.176\\map_data\\DHS_Automation\\Processing\\HIV_Pilot\\Info\\259_Variables_Chosen.csv'\n",
    "svyFile = r'\\\\129.67.26.176\\map_data\\DHS_Automation\\Processing\\U5M_TheUniverse_And_Everything_201510\\Info\\survey_db_list.csv'\n",
    "#tblPattern = r'\\\\129.67.26.176\\map_data\\DHS_Automation\\DataExtraction\\20150626_FullSiteScrape\\ProcessedTables\\{0}.*.{1}.csv'\n",
    "tblPattern = r'\\\\129.67.26.176\\map_data\\DHS_Automation\\DataExtraction\\20160307_Updates\\ProcessedTables\\{0}.*.{1}.csv'\n",
    "#tblPattern = r'\\\\129.67.26.176\\map_data\\DHS_Automation\\Acquisition\\AdditionalDownloads\\259\\OutTables\\{0}.*.{1}.csv'\n",
    "outputFilenameTag = \"U5M_Extra_Surveys\""
   ]
  },
  {
   "cell_type": "code",
   "execution_count": 4,
   "metadata": {
    "collapsed": false
   },
   "outputs": [],
   "source": [
    "#varsFile = r'\\\\129.67.26.176\\map_data\\DHS_Automation\\Processing\\HouseholdElectricity_201511\\Info\\variables_for_hh_electric.csv'\n",
    "#svyFile = r'\\\\129.67.26.176\\map_data\\DHS_Automation\\Processing\\U5M_Universe_And_Everything_201510\\Info\\survey_db_list.csv'\n",
    "#tblPattern = r'\\\\129.67.26.176\\map_data\\DHS_Automation\\DataExtraction\\20150626_FullSiteScrape\\ProcessedTables\\{0}.*.{1}.csv'"
   ]
  },
  {
   "cell_type": "code",
   "execution_count": 4,
   "metadata": {
    "collapsed": false
   },
   "outputs": [],
   "source": [
    "#outDir = r'\\\\129.67.26.176\\map_data\\hsg\\Donal'\n",
    "outDir = r'\\\\129.67.26.176\\map_data\\DHS_Automation\\Processing\\U5M_TheUniverse_And_Everything_201510\\Outputs_Extra'\n",
    "#outDir = r'\\\\129.67.26.176\\map_data\\DHS_Automation\\Processing\\HIV_Pilot\\out'"
   ]
  },
  {
   "cell_type": "code",
   "execution_count": 6,
   "metadata": {
    "collapsed": false
   },
   "outputs": [],
   "source": [
    "#outDir = r'\\\\129.67.26.176\\map_data\\DHS_Automation\\Processing\\HouseholdElectricity_201511\\Out'"
   ]
  },
  {
   "cell_type": "code",
   "execution_count": 5,
   "metadata": {
    "collapsed": false
   },
   "outputs": [],
   "source": [
    "outFNPattern = os.path.join(outDir,outputFilenameTag+\".{0!s}.csv\")"
   ]
  },
  {
   "cell_type": "code",
   "execution_count": 29,
   "metadata": {
    "collapsed": false
   },
   "outputs": [],
   "source": [
    "# allTables = [\"REC01\",\"REC11\",\"REC21\",\"REC22\",\"REC41\",\"REC42\",\"REC43\",\"REC44\",\"REC51\",\n",
    "#             \"REC71\",\"REC75\",\"REC91\",\"REC94\",\"REC95\",\"RECH0\",\"RECH1\",\"RECH2\",\"RECH3\",\n",
    "#             \"RECH4\",\"RECHM2\"]\n",
    "# \"RECH5\",\"RECH6\", missed as they contain nothing new"
   ]
  },
  {
   "cell_type": "markdown",
   "metadata": {},
   "source": [
    "### Specify master table"
   ]
  },
  {
   "cell_type": "code",
   "execution_count": 32,
   "metadata": {
    "collapsed": false
   },
   "outputs": [],
   "source": [
    "# All other tables must be capable of joining to this table either 1:1 or M:1. Any that join \n",
    "# 1:M would result in duplicate rows from the left outer join, possibly exponentially many if\n",
    "# there are several such tables.\n",
    "masterTable = \"REC21\" #\"RECH1\" #\"REC21\""
   ]
  },
  {
   "cell_type": "code",
   "execution_count": 33,
   "metadata": {
    "collapsed": false
   },
   "outputs": [],
   "source": [
    "# Build a dictionary of the columns that have been requested for each table\n",
    "# Key is the tablename and value is a list (because order matters) of the \n",
    "# column names/lengths (each in a 2-item dict).\n",
    "tableVars = defaultdict(list)\n",
    "with open(varsFile) as varfile:\n",
    "    reader = csv.DictReader(varfile,delimiter=',') # delim ; in original\n",
    "    for row in reader:\n",
    "        varname = row['Name']\n",
    "        recname = row['RecordName']\n",
    "        varlength = row['Len']# if 'Len' in row else 10\n",
    "        if 1:#recname in allTables:\n",
    "            tableVars[recname].append(ColumnInfo({\"Name\": varname, \"Length\": varlength}))\n",
    "            "
   ]
  },
  {
   "cell_type": "code",
   "execution_count": 38,
   "metadata": {
    "collapsed": false
   },
   "outputs": [],
   "source": [
    "# Ensure that we are always adding the iditems and joinable column for each table\n",
    "#fullSpecFile = r'\\\\129.67.26.176\\map_data\\DHS_Automation\\Acquisition\\AdditionalDownloads\\259\\OutSpecs\\259.szir51.FlatRecordSpec.csv'\n",
    "#specFileTemplate = r'\\\\129.67.26.176\\map_data\\DHS_Automation\\DataExtraction\\20160307_Updates\\ParsedSpecs\\{0}.*.FlatRecordSpec.csv'\n",
    "fullSpecFile = r'\\\\129.67.26.176\\map_data\\DHS_Automation\\DataExtraction\\20150626_FullSiteScrape\\SchemaMappingSupport\\SchemaMapperTableSpecs_AllTables_AllSurveys_InclTypes.csv'\n",
    "# Now build a similar thing for tableIDs so we know how to join each table to each other one\n",
    "tableIds = defaultdict(list)\n",
    "with open(fullSpecFile) as specfile:\n",
    "    reader = csv.DictReader(specfile, delimiter = ',')\n",
    "    for row in reader:\n",
    "        recname = row['RecordName']\n",
    "        if (recname in tableVars and \n",
    "            (row['ItemType'] in ['IdItem', 'JoinableItem']\n",
    "             )): #or row['Label'].startswith('Index'))):\n",
    "             #or 'line num' in row['Label'].lower())):\n",
    "            varname = row['Name']\n",
    "            varlength = row['Len']\n",
    "            colInfo = ColumnInfo({\"Name\": varname, \"Length\":varlength})\n",
    "            if colInfo not in tableIds[recname]:\n",
    "            #if not sum(i.Name == varname for i in tableVars[recname]):\n",
    "            #    tableVars[recname].insert(0, ColumnInfo({\"Name\": varname, \"Length\":varlength}))\n",
    "                tableIds[recname].append(ColumnInfo({\"Name\": varname, \"Length\":varlength}))    \n"
   ]
  },
  {
   "cell_type": "code",
   "execution_count": 71,
   "metadata": {
    "collapsed": false
   },
   "outputs": [
    {
     "data": {
      "text/plain": [
       "False"
      ]
     },
     "execution_count": 71,
     "metadata": {},
     "output_type": "execute_result"
    }
   ],
   "source": [
    "s.startswith('Inde')"
   ]
  },
  {
   "cell_type": "code",
   "execution_count": 39,
   "metadata": {
    "collapsed": false
   },
   "outputs": [],
   "source": [
    "tableIds['REC01'].append(ColumnInfo({\"Name\":\"V003\", \"Length\":3}))"
   ]
  },
  {
   "cell_type": "code",
   "execution_count": 40,
   "metadata": {
    "collapsed": false
   },
   "outputs": [
    {
     "data": {
      "text/plain": [
       "['CASEID', 'V003']"
      ]
     },
     "execution_count": 40,
     "metadata": {},
     "output_type": "execute_result"
    }
   ],
   "source": [
    "[c.Name for c in tableIds['REC01']]"
   ]
  },
  {
   "cell_type": "code",
   "execution_count": 41,
   "metadata": {
    "collapsed": false
   },
   "outputs": [
    {
     "data": {
      "text/plain": [
       "['HHID', 'HVIDX']"
      ]
     },
     "execution_count": 41,
     "metadata": {},
     "output_type": "execute_result"
    }
   ],
   "source": [
    "[c.Name for c in tableIds['RECH1']]"
   ]
  },
  {
   "cell_type": "code",
   "execution_count": 37,
   "metadata": {
    "collapsed": false
   },
   "outputs": [],
   "source": [
    "# get files to read from survey_db_list\n",
    "with open(svyFile) as svyfile:\n",
    "    reader = csv.DictReader(svyfile)\n",
    "    svys = [row['DHS_id'] for row in reader]\n"
   ]
  },
  {
   "cell_type": "code",
   "execution_count": 32,
   "metadata": {
    "collapsed": false
   },
   "outputs": [],
   "source": [
    "svys = [259]\n",
    "svys = [393, 421,239,311,425,437,451,473,457,450]\n",
    "# or do all that are available\n",
    "# svys= [os.path.basename(f).split('.')[0] \n",
    "#       for f in glob.glob(tblPattern.format(\"*\", \"RECH0\"))]"
   ]
  },
  {
   "cell_type": "markdown",
   "metadata": {},
   "source": [
    "### Process the surveys"
   ]
  },
  {
   "cell_type": "code",
   "execution_count": 42,
   "metadata": {
    "collapsed": false
   },
   "outputs": [],
   "source": [
    "skipDB = False\n",
    "skipBlanks = False"
   ]
  },
  {
   "cell_type": "markdown",
   "metadata": {},
   "source": [
    "* Load all CSV files for a survey into individual tables in the in-memory DB \n",
    "* Create indexes\n",
    "* Create an output table that is the result of joining them all\n",
    "* Write that to disk."
   ]
  },
  {
   "cell_type": "code",
   "execution_count": 43,
   "metadata": {
    "collapsed": false
   },
   "outputs": [
    {
     "name": "stdout",
     "output_type": "stream",
     "text": [
      "Survey 450\n",
      "REC21...  RECML...  REC22...  RECH3...  REC51...  RECH1...  RECH0...  REC11...  RECH2...  REC01...  REC91...  RECH4...  REC94...  REC95...  REC75...  REC43...  REC42...  REC41...  REC71...  Survey 450 table RECHM2 does not exist or is not well specified!\n",
      "REC44...  397\n",
      "397\n"
     ]
    }
   ],
   "source": [
    "for svyID in [450]:#svys:\n",
    "    print \"Survey \"+str(svyID)\n",
    "    # Use an in-memory sqlite db to load the tables and join them \n",
    "    db = sqlite3.connect(':memory:')\n",
    "    cursor = db.cursor()\n",
    "    srcTableInfos = {}\n",
    "    outname = outFNPattern.format(svyID)\n",
    "    for tblName, tblCols in tableVars.iteritems():\n",
    "        # Load one table of one survey into the database. \n",
    "        tblIdCols = tableIds[tblName]\n",
    "        # Find the individual file required\n",
    "        tblFiles = glob.glob(tblPattern.format(svyID, tblName))\n",
    "        if len(tblFiles) != 1:\n",
    "            print (\"Survey \"+str(svyID)+\" table \"+tblName+\" does not exist or is not well specified!\")\n",
    "            continue\n",
    "        print tblName +\"... \",\n",
    "        tblFile = tblFiles[0]\n",
    "        \n",
    "        # build a TableInfo for working with the file and use it to load the data to a DB table\n",
    "        with open(tblFile) as tbl:\n",
    "            reader = csv.DictReader(tbl)\n",
    "            # Ensure we get the ID (join) variables, which are CASEID or HIDX / BIDX etc,\n",
    "            # regardless of what is specified in the output spec file.\n",
    "            \n",
    "            # Note that there are also HA0 and HC0 as IDs in RECH5/RECH6 but we don't \n",
    "            # actually need those tables (The only cols so far requested from those tables \n",
    "            # are duplicated in the woman tables).\n",
    "            # So for now we'll just look for any columns with ID in the name. To do it \n",
    "            # \"properly\" we would have to go back to the DCF parsing code and pull out the \n",
    "            # relationship info there.\n",
    "            # Note that the relative order of the id columns between the tables is important\n",
    "            # as it is used by the joiner code to figure out which columns match to which\n",
    "            # The fieldnames in the parsed files do give them in a consistent order,\n",
    "            # but it might be more relaxing to actually check that here (CASEID first then \n",
    "            # BIDX or whatever)\n",
    "            #ids = [{\"Name\":v, \"Length\":1} for v in reader.fieldnames if v.find(\"ID\") != -1]\n",
    "            #for i in ids:\n",
    "            #    if i not in tblCols:\n",
    "            #        tblCols.insert(0, {\"Name\": i[\"Name\"], \"Length\":1})\n",
    "            # Create a tableinfo object which will handle building the sql necessary\n",
    "            # for interacting with this table in the database\n",
    "            srcTable = TableInfo(tblName, tblIdCols, tblCols)\n",
    "            \n",
    "            if (skipDB):\n",
    "                # For debugging of TableInfo\n",
    "                continue\n",
    "\n",
    "            # Get the sql to create the table in the database\n",
    "            createSql = srcTable.GetCreateTableSQL()\n",
    "            orderedCols = srcTable.AllColumns()\n",
    "            \n",
    "            # Populate the data into the DB from the CSV reader\n",
    "            insertSql = srcTable.GetInsertSQLTemplate()\n",
    "            # Use \"N/A\" for any columns that are not present in this survey\n",
    "            data = [([row.get(i, 'N/A') for i in orderedCols]) for row in reader ]\n",
    "            \n",
    "            # if a table doesn't have any of the columns we asked for then don't just \n",
    "            # include its ID columns, just skip dealing with it altogether\n",
    "            gotData = False\n",
    "            for i in data:\n",
    "                if i.count('N/A') < (len(i) - len(tblIdCols)):\n",
    "                    gotData = True\n",
    "                    break\n",
    "            if skipBlanks and not gotData:\n",
    "                print \"Skipping table {0} as none of the required cols are present\".format(\n",
    "                    tblName)\n",
    "                continue\n",
    "                \n",
    "            # otherwise save the tableinfo\n",
    "            srcTableInfos[tblName] = srcTable\n",
    "            # and put the data into the db\n",
    "            cursor.execute(createSql)\n",
    "            cursor.executemany(insertSql, data)\n",
    "            # and create indexes in the DB on the relevant join columns\n",
    "            idxSql = srcTable.GetCreateIndexSQL()\n",
    "            cursor.executescript(idxSql)\n",
    "        db.commit()\n",
    "        \n",
    "    # Move the \"master table\" - i.e. the left one on the left outer join - \n",
    "    # to the start of the list as required by MultiTableJoiner\n",
    "    tblNames = [i for i in sorted(srcTableInfos) if i != masterTable]\n",
    "    if masterTable in srcTableInfos:\n",
    "        tblNames[0] = masterTable\n",
    "    else:\n",
    "        print \"Warning: requested master table {0} isn't present! Join may fail!\"\n",
    "    # Note that we also don't actually check here if the join is appropriate. \n",
    "    # For example from a Child master table we can join to its parents table and the household \n",
    "    # table. But we couldn't do the reverse as for each household there are many children.\n",
    "    # If we tried, we'd get repeated rows (probably) on the left join.\n",
    "    # If there was more than one such table then we would get an exploding number of rows.\n",
    " \n",
    "    if (len(tblNames)) == 0:\n",
    "        print \"Nothing for survey \" + str(svyID)\n",
    "        continue\n",
    "    \n",
    "    # Perform the join!\n",
    "    multi = MultiTableJoiner(\"outputTbl\", [srcTableInfos[n] for n in tblNames] )\n",
    "    # Use GetCreateIntoSQL(QualifyFieldNames=True) to name output fields like \n",
    "    # RECH2_HV270 rather than just HV270\n",
    "    joinEmAllSQL = multi.GetCreateIntoSQL(QualifyFieldNames=True)\n",
    "    # Bodge for Donal's data where we want to join the household schedule table to the child table. This uses \n",
    "    # a different join column in the child tables (REC21.B16) and there is no way that I can see of automatically \n",
    "    # inferring this from the .DCF specification files.\n",
    "    joinEmAllSQL = joinEmAllSQL.replace (\n",
    "        'LEFT JOIN RECH1 ON substr(REC21.CASEID, 1, length(REC21.CASEID)-3) = RECH1.HHID and REC21.BIDX = RECH1.HVIDX',\n",
    "        'LEFT JOIN RECH1 ON substr(REC21.CASEID, 1, length(REC21.CASEID)-3) = RECH1.HHID and REC21.B16 = RECH1.HVIDX'\n",
    "    )\n",
    "    continue\n",
    "    cursor.execute(joinEmAllSQL)\n",
    "    \n",
    "    # Write the results out to CSV\n",
    "    cursor.execute(\"select * from outputTbl\")\n",
    "    colNames = [description[0] for description in cursor.description]\n",
    "    # TODO a given column should always appear in the same table but occasionally \n",
    "    # this is not the case. So we have to specify in the input file all the places it \n",
    "    # could come from, which will generate multiple columns in the output.\n",
    "    # e.g. some surveys have HV270 in RECH3 rather than RECH2 and so we need to specify \n",
    "    # both if we are running for all surveys.\n",
    "    # Ideally we would check here for these duplicates and write out only the one which \n",
    "    # doesn't have \"N/A\" in the values. But that would need to inspect each row, and thus \n",
    "    # would be much slower.\n",
    "    with open(outname, \"wb\") as f:\n",
    "        writer = UnicodeWriter(f)\n",
    "        writer.writerow(colNames)\n",
    "    #print \"\"\n",
    "        writer.writerows(cursor)\n",
    "    db.close()"
   ]
  },
  {
   "cell_type": "code",
   "execution_count": 27,
   "metadata": {
    "collapsed": false
   },
   "outputs": [],
   "source": [
    "m = MultiTableJoiner(\"test\", [srcTableInfos['REC21'],srcTableInfos['REC22']])\n"
   ]
  },
  {
   "cell_type": "code",
   "execution_count": 44,
   "metadata": {
    "collapsed": false
   },
   "outputs": [
    {
     "name": "stdout",
     "output_type": "stream",
     "text": [
      "18\n",
      "18\n",
      "CREATE TABLE test AS SELECT \n",
      "REC21.CASEID as REC21_CASEID, REC21.BIDX as REC21_BIDX, REC21.B0 as REC21_B0, REC21.B1 as REC21_B1, REC21.B11 as REC21_B11, REC21.B12 as REC21_B12, REC21.B15 as REC21_B15, REC21.B16 as REC21_B16, REC21.B2 as REC21_B2, REC21.B3 as REC21_B3, REC21.B4 as REC21_B4, REC21.B5 as REC21_B5, REC21.B6 as REC21_B6, REC21.B7 as REC21_B7, REC21.B8 as REC21_B8, REC21.BORD as REC21_BORD, REC22.V201 as REC22_V201, REC22.V218 as REC22_V218 FROM \n",
      " REC21 \n",
      "LEFT JOIN REC22 ON REC21.CASEID = REC22.CASEID\n"
     ]
    }
   ],
   "source": [
    "print m.GetCreateIntoSQL(QualifyFieldNames=True)"
   ]
  },
  {
   "cell_type": "code",
   "execution_count": 45,
   "metadata": {
    "collapsed": false
   },
   "outputs": [
    {
     "name": "stdout",
     "output_type": "stream",
     "text": [
      "CREATE TABLE outputTbl AS SELECT \n",
      "REC21.CASEID as REC21_CASEID, REC21.BIDX as REC21_BIDX, REC21.B0 as REC21_B0, REC21.B1 as REC21_B1, REC21.B11 as REC21_B11, REC21.B12 as REC21_B12, REC21.B15 as REC21_B15, REC21.B16 as REC21_B16, REC21.B2 as REC21_B2, REC21.B3 as REC21_B3, REC21.B4 as REC21_B4, REC21.B5 as REC21_B5, REC21.B6 as REC21_B6, REC21.B7 as REC21_B7, REC21.B8 as REC21_B8, REC21.BORD as REC21_BORD, REC11.V104 as REC11_V104, REC11.V106 as REC11_V106, REC11.V107 as REC11_V107, REC11.V113 as REC11_V113, REC11.V115 as REC11_V115, REC11.V116 as REC11_V116, REC11.V119 as REC11_V119, REC11.V120 as REC11_V120, REC11.V121 as REC11_V121, REC11.V122 as REC11_V122, REC11.V123 as REC11_V123, REC11.V124 as REC11_V124, REC11.V125 as REC11_V125, REC11.V127 as REC11_V127, REC11.V128 as REC11_V128, REC11.V129 as REC11_V129, REC11.V134 as REC11_V134, REC11.V135 as REC11_V135, REC11.V136 as REC11_V136, REC11.V137 as REC11_V137, REC11.V138 as REC11_V138, REC11.V139 as REC11_V139, REC11.V140 as REC11_V140, REC11.V141 as REC11_V141, REC11.V150 as REC11_V150, REC11.V153 as REC11_V153, REC11.V155 as REC11_V155, REC11.V160 as REC11_V160, REC11.V161 as REC11_V161, REC22.V201 as REC22_V201, REC22.V218 as REC22_V218, REC41.MIDX as REC41_MIDX, REC41.M1 as REC41_M1, REC41.M15 as REC41_M15, REC41.M17 as REC41_M17, REC41.M18 as REC41_M18, REC41.M19 as REC41_M19, REC41.M19A as REC41_M19A, REC41.M27 as REC41_M27, REC41.M28 as REC41_M28, REC41.M2A as REC41_M2A, REC41.M2B as REC41_M2B, REC41.M2C as REC41_M2C, REC41.M2D as REC41_M2D, REC41.M2E as REC41_M2E, REC41.M2F as REC41_M2F, REC41.M2G as REC41_M2G, REC41.M2H as REC41_M2H, REC41.M2I as REC41_M2I, REC41.M2J as REC41_M2J, REC41.M2K as REC41_M2K, REC41.M2L as REC41_M2L, REC41.M2M as REC41_M2M, REC41.M2N as REC41_M2N, REC41.M3A as REC41_M3A, REC41.M3B as REC41_M3B, REC41.M3C as REC41_M3C, REC41.M3D as REC41_M3D, REC41.M3E as REC41_M3E, REC41.M3F as REC41_M3F, REC41.M3G as REC41_M3G, REC41.M3H as REC41_M3H, REC41.M3I as REC41_M3I, REC41.M3J as REC41_M3J, REC41.M3K as REC41_M3K, REC41.M3L as REC41_M3L, REC41.M3M as REC41_M3M, REC41.M3N as REC41_M3N, REC41.M49A as REC41_M49A, REC41.M49B as REC41_M49B, REC41.M49C as REC41_M49C, REC41.M49D as REC41_M49D, REC41.M49E as REC41_M49E, REC41.M49F as REC41_M49F, REC41.M49G as REC41_M49G, REC41.M49X as REC41_M49X, REC41.M49Z as REC41_M49Z, REC41.M54 as REC41_M54, REC42.V447A as REC42_V447A, REC42.V453 as REC42_V453, REC42.V456 as REC42_V456, REC42.V457 as REC42_V457, REC42.V458 as REC42_V458, REC42.V463A as REC42_V463A, REC42.V463B as REC42_V463B, REC42.V463C as REC42_V463C, REC42.V463D as REC42_V463D, REC42.V463E as REC42_V463E, REC42.V463F as REC42_V463F, REC42.V463G as REC42_V463G, REC42.V463Z as REC42_V463Z, REC42.V464 as REC42_V464, REC42.V465 as REC42_V465, REC42.V466 as REC42_V466, REC42.V467A as REC42_V467A, REC42.V467B as REC42_V467B, REC42.V467C as REC42_V467C, REC42.V467D as REC42_V467D, REC42.V467E as REC42_V467E, REC42.V467F as REC42_V467F, REC42.V467G as REC42_V467G, REC43.HIDX as REC43_HIDX, REC43.H0 as REC43_H0, REC43.H1 as REC43_H1, REC43.H10 as REC43_H10, REC43.H11 as REC43_H11, REC43.H12A as REC43_H12A, REC43.H12B as REC43_H12B, REC43.H12C as REC43_H12C, REC43.H12D as REC43_H12D, REC43.H12E as REC43_H12E, REC43.H12F as REC43_H12F, REC43.H12G as REC43_H12G, REC43.H12H as REC43_H12H, REC43.H12I as REC43_H12I, REC43.H12J as REC43_H12J, REC43.H12K as REC43_H12K, REC43.H12L as REC43_H12L, REC43.H12M as REC43_H12M, REC43.H12N as REC43_H12N, REC43.H12O as REC43_H12O, REC43.H12P as REC43_H12P, REC43.H12Q as REC43_H12Q, REC43.H12R as REC43_H12R, REC43.H12S as REC43_H12S, REC43.H12T as REC43_H12T, REC43.H12U as REC43_H12U, REC43.H12V as REC43_H12V, REC43.H12W as REC43_H12W, REC43.H12X as REC43_H12X, REC43.H12Y as REC43_H12Y, REC43.H12Z as REC43_H12Z, REC43.H13 as REC43_H13, REC43.H14 as REC43_H14, REC43.H15 as REC43_H15, REC43.H15A as REC43_H15A, REC43.H15B as REC43_H15B, REC43.H15C as REC43_H15C, REC43.H15D as REC43_H15D, REC43.H15E as REC43_H15E, REC43.H15F as REC43_H15F, REC43.H15G as REC43_H15G, REC43.H15H as REC43_H15H, REC43.H2 as REC43_H2, REC43.H20 as REC43_H20, REC43.H21 as REC43_H21, REC43.H21A as REC43_H21A, REC43.H22 as REC43_H22, REC43.H3 as REC43_H3, REC43.H31 as REC43_H31, REC43.H31B as REC43_H31B, REC43.H32A as REC43_H32A, REC43.H32B as REC43_H32B, REC43.H32C as REC43_H32C, REC43.H32D as REC43_H32D, REC43.H32E as REC43_H32E, REC43.H32F as REC43_H32F, REC43.H32G as REC43_H32G, REC43.H32H as REC43_H32H, REC43.H32I as REC43_H32I, REC43.H32J as REC43_H32J, REC43.H32K as REC43_H32K, REC43.H32L as REC43_H32L, REC43.H32M as REC43_H32M, REC43.H32N as REC43_H32N, REC43.H32O as REC43_H32O, REC43.H32P as REC43_H32P, REC43.H32Q as REC43_H32Q, REC43.H32R as REC43_H32R, REC43.H32S as REC43_H32S, REC43.H32T as REC43_H32T, REC43.H32U as REC43_H32U, REC43.H32V as REC43_H32V, REC43.H32W as REC43_H32W, REC43.H32X as REC43_H32X, REC43.H32Y as REC43_H32Y, REC43.H32Z as REC43_H32Z, REC43.H33 as REC43_H33, REC43.H37A as REC43_H37A, REC43.H37B as REC43_H37B, REC43.H37C as REC43_H37C, REC43.H37D as REC43_H37D, REC43.H37E as REC43_H37E, REC43.H37F as REC43_H37F, REC43.H37G as REC43_H37G, REC43.H37H as REC43_H37H, REC43.H37X as REC43_H37X, REC43.H37Y as REC43_H37Y, REC43.H37Z as REC43_H37Z, REC43.H38 as REC43_H38, REC43.H39 as REC43_H39, REC43.H4 as REC43_H4, REC43.H5 as REC43_H5, REC43.H6 as REC43_H6, REC43.H7 as REC43_H7, REC43.H8 as REC43_H8, REC43.H9 as REC43_H9, REC44.HWIDX as REC44_HWIDX, REC44.HW1 as REC44_HW1, REC44.HW10 as REC44_HW10, REC44.HW16 as REC44_HW16, REC44.HW17 as REC44_HW17, REC44.HW18 as REC44_HW18, REC44.HW19 as REC44_HW19, REC44.HW2 as REC44_HW2, REC44.HW3 as REC44_HW3, REC44.HW4 as REC44_HW4, REC44.HW53 as REC44_HW53, REC44.HW55 as REC44_HW55, REC44.HW56 as REC44_HW56, REC44.HW57 as REC44_HW57, REC44.HW58 as REC44_HW58, REC44.HW7 as REC44_HW7, REC51.V501 as REC51_V501, REC51.V502 as REC51_V502, REC51.V503 as REC51_V503, REC51.V504 as REC51_V504, REC51.V505 as REC51_V505, REC51.V506 as REC51_V506, REC51.V535 as REC51_V535, REC71.V702 as REC71_V702, REC71.V704 as REC71_V704, REC71.V705 as REC71_V705, REC71.V714 as REC71_V714, REC71.V716 as REC71_V716, REC71.V717 as REC71_V717, REC71.V719 as REC71_V719, REC71.V721 as REC71_V721, REC71.V730 as REC71_V730, REC71.V732 as REC71_V732, REC75.CASEID as REC75_CASEID, REC75.V763A as REC75_V763A, REC75.V763B as REC75_V763B, REC75.V763C as REC75_V763C, REC75.V763D as REC75_V763D, REC75.V763E as REC75_V763E, REC75.V763F as REC75_V763F, REC75.V763G as REC75_V763G, REC75.V770 as REC75_V770, REC75.V770A as REC75_V770A, REC75.V770B as REC75_V770B, REC75.V770C as REC75_V770C, REC75.V770D as REC75_V770D, REC75.V770E as REC75_V770E, REC75.V770F as REC75_V770F, REC75.V770G as REC75_V770G, REC75.V770H as REC75_V770H, REC75.V770I as REC75_V770I, REC91.V190 as REC91_V190, REC91.V191 as REC91_V191, REC94.IDX94 as REC94_IDX94, REC94.M57A as REC94_M57A, REC94.M57B as REC94_M57B, REC94.M57C as REC94_M57C, REC94.M57D as REC94_M57D, REC94.M57E as REC94_M57E, REC94.M57G as REC94_M57G, REC94.M57H as REC94_M57H, REC94.M57I as REC94_M57I, REC94.M57J as REC94_M57J, REC94.M57K as REC94_M57K, REC94.M57L as REC94_M57L, REC94.M57M as REC94_M57M, REC94.M57N as REC94_M57N, REC94.M57O as REC94_M57O, REC94.M57P as REC94_M57P, REC94.M57Q as REC94_M57Q, REC94.M57R as REC94_M57R, REC94.M57S as REC94_M57S, REC94.M57T as REC94_M57T, REC94.M57U as REC94_M57U, REC94.M57V as REC94_M57V, REC94.M57X as REC94_M57X, REC95.IDX95 as REC95_IDX95, REC95.ML1 as REC95_ML1, REC95.ML11 as REC95_ML11, REC95.ML12 as REC95_ML12, REC95.ML13A as REC95_ML13A, REC95.ML13B as REC95_ML13B, REC95.ML13C as REC95_ML13C, REC95.ML13D as REC95_ML13D, REC95.ML13E as REC95_ML13E, REC95.ML13F as REC95_ML13F, REC95.ML13G as REC95_ML13G, REC95.ML13I as REC95_ML13I, REC95.ML13J as REC95_ML13J, REC95.ML13K as REC95_ML13K, REC95.ML13L as REC95_ML13L, REC95.ML13M as REC95_ML13M, REC95.ML13N as REC95_ML13N, REC95.ML13O as REC95_ML13O, REC95.ML13P as REC95_ML13P, REC95.ML13X as REC95_ML13X, REC95.ML13Y as REC95_ML13Y, REC95.ML13Z as REC95_ML13Z, REC95.ML14A as REC95_ML14A, REC95.ML14B as REC95_ML14B, REC95.ML14Y as REC95_ML14Y, REC95.ML14Z as REC95_ML14Z, REC95.ML15A as REC95_ML15A, REC95.ML15B as REC95_ML15B, REC95.ML15C as REC95_ML15C, REC95.ML16A as REC95_ML16A, REC95.ML16B as REC95_ML16B, REC95.ML16C as REC95_ML16C, REC95.ML17A as REC95_ML17A, REC95.ML17B as REC95_ML17B, REC95.ML17C as REC95_ML17C, REC95.ML18A as REC95_ML18A, REC95.ML18B as REC95_ML18B, REC95.ML18C as REC95_ML18C, REC95.ML19A as REC95_ML19A, REC95.ML19B as REC95_ML19B, REC95.ML19C as REC95_ML19C, REC95.ML19D as REC95_ML19D, REC95.ML19E as REC95_ML19E, REC95.ML19F as REC95_ML19F, REC95.ML19X as REC95_ML19X, REC95.ML19Y as REC95_ML19Y, REC95.ML19Z as REC95_ML19Z, REC95.ML2 as REC95_ML2, REC95.ML20A as REC95_ML20A, REC95.ML20B as REC95_ML20B, REC95.ML20C as REC95_ML20C, REC95.ML21A as REC95_ML21A, REC95.ML21B as REC95_ML21B, REC95.ML21C as REC95_ML21C, REC95.ML22A as REC95_ML22A, REC95.ML22B as REC95_ML22B, REC95.ML22C as REC95_ML22C, REC95.ML23A as REC95_ML23A, REC95.ML23B as REC95_ML23B, REC95.ML23C as REC95_ML23C, RECH0.HV000 as RECH0_HV000, RECH0.HV001 as RECH0_HV001, RECH0.HV002 as RECH0_HV002, RECH0.HV003 as RECH0_HV003, RECH0.HV005 as RECH0_HV005, RECH0.HV006 as RECH0_HV006, RECH0.HV007 as RECH0_HV007, RECH0.HV008 as RECH0_HV008, RECH0.HV009 as RECH0_HV009, RECH0.HV010 as RECH0_HV010, RECH0.HV011 as RECH0_HV011, RECH0.HV012 as RECH0_HV012, RECH0.HV013 as RECH0_HV013, RECH0.HV014 as RECH0_HV014, RECH0.HV016 as RECH0_HV016, RECH0.HV024 as RECH0_HV024, RECH0.HV025 as RECH0_HV025, RECH0.HV026 as RECH0_HV026, RECH0.HV042 as RECH0_HV042, RECH1.HVIDX as RECH1_HVIDX, RECH1.HV101 as RECH1_HV101, RECH1.HV102 as RECH1_HV102, RECH1.HV106 as RECH1_HV106, RECH1.HV107 as RECH1_HV107, RECH1.HV115 as RECH1_HV115, RECH2.HV201 as RECH2_HV201, RECH2.HV204 as RECH2_HV204, RECH2.HV205 as RECH2_HV205, RECH2.HV206 as RECH2_HV206, RECH2.HV207 as RECH2_HV207, RECH2.HV208 as RECH2_HV208, RECH2.HV209 as RECH2_HV209, RECH2.HV210 as RECH2_HV210, RECH2.HV211 as RECH2_HV211, RECH2.HV212 as RECH2_HV212, RECH2.HV213 as RECH2_HV213, RECH2.HV214 as RECH2_HV214, RECH2.HV215 as RECH2_HV215, RECH2.HV217 as RECH2_HV217, RECH2.HV221 as RECH2_HV221, RECH2.HV225 as RECH2_HV225, RECH2.HV226 as RECH2_HV226, RECH2.HV270 as RECH2_HV270, RECH2.HV271 as RECH2_HV271, RECH3.HV270 as RECH3_HV270, RECH3.HV271 as RECH3_HV271, RECH4.IDXH4 as RECH4_IDXH4, RECML.ML13H as RECML_ML13H FROM \n",
      " REC21 \n",
      "LEFT JOIN REC11 ON REC21.CASEID = REC11.CASEID \n",
      "LEFT JOIN REC22 ON REC21.CASEID = REC22.CASEID \n",
      "LEFT JOIN REC41 ON REC21.CASEID = REC41.CASEID and substr(REC21.BIDX, 1, length(REC21.BIDX)-1) = REC41.MIDX \n",
      "LEFT JOIN REC42 ON REC21.CASEID = REC42.CASEID \n",
      "LEFT JOIN REC43 ON REC21.CASEID = REC43.CASEID and substr(REC21.BIDX, 1, length(REC21.BIDX)-1) = REC43.HIDX \n",
      "LEFT JOIN REC44 ON REC21.CASEID = REC44.CASEID and substr(REC21.BIDX, 1, length(REC21.BIDX)-1) = REC44.HWIDX \n",
      "LEFT JOIN REC51 ON REC21.CASEID = REC51.CASEID \n",
      "LEFT JOIN REC71 ON REC21.CASEID = REC71.CASEID \n",
      "LEFT JOIN REC75 ON REC21.CASEID = REC75.CASEID \n",
      "LEFT JOIN REC91 ON REC21.CASEID = REC91.CASEID \n",
      "LEFT JOIN REC94 ON REC21.CASEID = REC94.CASEID and substr(REC21.BIDX, 1, length(REC21.BIDX)-1) = REC94.IDX94 \n",
      "LEFT JOIN REC95 ON REC21.CASEID = REC95.CASEID and substr(REC21.BIDX, 1, length(REC21.BIDX)-1) = REC95.IDX95 \n",
      "LEFT JOIN RECH0 ON substr(REC21.CASEID, 1, length(REC21.CASEID)-3) = RECH0.HHID \n",
      "LEFT JOIN RECH1 ON substr(REC21.CASEID, 1, length(REC21.CASEID)-3) = RECH1.HHID and REC21.B16 = RECH1.HVIDX \n",
      "LEFT JOIN RECH2 ON substr(REC21.CASEID, 1, length(REC21.CASEID)-3) = RECH2.HHID \n",
      "LEFT JOIN RECH3 ON substr(REC21.CASEID, 1, length(REC21.CASEID)-3) = RECH3.HHID \n",
      "LEFT JOIN RECH4 ON substr(REC21.CASEID, 1, length(REC21.CASEID)-3) = RECH4.HHID and REC21.BIDX = RECH4.IDXH4 \n",
      "LEFT JOIN RECML ON REC21.CASEID = RECML.CASEID and substr(REC21.BIDX, 1, length(REC21.BIDX)-1) = RECML.IDXML\n"
     ]
    }
   ],
   "source": [
    "print joinEmAllSQL"
   ]
  },
  {
   "cell_type": "code",
   "execution_count": 60,
   "metadata": {
    "collapsed": false
   },
   "outputs": [],
   "source": [
    "s = s.replace ('LEFT JOIN RECH1 ON substr(REC21.CASEID, 1, length(REC21.CASEID)-3) = RECH1.HHID and REC21.BIDX = RECH1.HVIDX',\n",
    "           'LEFT JOIN RECH1 ON substr(REC21.CASEID, 1, length(REC21.CASEID)-3) = RECH1.HHID and REC21.B16 = RECH1.HVIDX')"
   ]
  },
  {
   "cell_type": "code",
   "execution_count": 62,
   "metadata": {
    "collapsed": false
   },
   "outputs": [
    {
     "ename": "ProgrammingError",
     "evalue": "Cannot operate on a closed database.",
     "output_type": "error",
     "traceback": [
      "\u001b[1;31m---------------------------------------------------------------------------\u001b[0m\n\u001b[1;31mProgrammingError\u001b[0m                          Traceback (most recent call last)",
      "\u001b[1;32m<ipython-input-62-b17b7b60b80e>\u001b[0m in \u001b[0;36m<module>\u001b[1;34m()\u001b[0m\n\u001b[1;32m----> 1\u001b[1;33m \u001b[0mcursor\u001b[0m\u001b[1;33m.\u001b[0m\u001b[0mexecute\u001b[0m\u001b[1;33m(\u001b[0m\u001b[0ms\u001b[0m\u001b[1;33m)\u001b[0m\u001b[1;33m\u001b[0m\u001b[0m\n\u001b[0m",
      "\u001b[1;31mProgrammingError\u001b[0m: Cannot operate on a closed database."
     ]
    }
   ],
   "source": [
    "cursor.execute(s)"
   ]
  },
  {
   "cell_type": "code",
   "execution_count": 66,
   "metadata": {
    "collapsed": false
   },
   "outputs": [
    {
     "data": {
      "text/plain": [
       "450"
      ]
     },
     "execution_count": 66,
     "metadata": {},
     "output_type": "execute_result"
    }
   ],
   "source": [
    "svyID"
   ]
  },
  {
   "cell_type": "code",
   "execution_count": null,
   "metadata": {
    "collapsed": false
   },
   "outputs": [],
   "source": [
    "multi = MultiTableJoiner(\"outputTbl\", [srcTableInfos[n] for n in tblNames] )"
   ]
  },
  {
   "cell_type": "code",
   "execution_count": 40,
   "metadata": {
    "collapsed": false
   },
   "outputs": [
    {
     "name": "stdout",
     "output_type": "stream",
     "text": [
      "397\n",
      "397\n"
     ]
    },
    {
     "data": {
      "text/plain": [
       "'CREATE TABLE outputTbl AS SELECT REC21.CASEID, REC21.BIDX, REC21.B0, REC21.B1, REC21.B11, REC21.B12, REC21.B15, REC21.B16, REC21.B2, REC21.B3, REC21.B4, REC21.B5, REC21.B6, REC21.B7, REC21.B8, REC21.BORD, REC11.V104, REC11.V106, REC11.V107, REC11.V113, REC11.V115, REC11.V116, REC11.V119, REC11.V120, REC11.V121, REC11.V122, REC11.V123, REC11.V124, REC11.V125, REC11.V127, REC11.V128, REC11.V129, REC11.V134, REC11.V135, REC11.V136, REC11.V137, REC11.V138, REC11.V139, REC11.V140, REC11.V141, REC11.V150, REC11.V153, REC11.V155, REC11.V160, REC11.V161, REC22.V201, REC22.V218, REC41.MIDX, REC41.M1, REC41.M15, REC41.M17, REC41.M18, REC41.M19, REC41.M19A, REC41.M27, REC41.M28, REC41.M2A, REC41.M2B, REC41.M2C, REC41.M2D, REC41.M2E, REC41.M2F, REC41.M2G, REC41.M2H, REC41.M2I, REC41.M2J, REC41.M2K, REC41.M2L, REC41.M2M, REC41.M2N, REC41.M3A, REC41.M3B, REC41.M3C, REC41.M3D, REC41.M3E, REC41.M3F, REC41.M3G, REC41.M3H, REC41.M3I, REC41.M3J, REC41.M3K, REC41.M3L, REC41.M3M, REC41.M3N, REC41.M49A, REC41.M49B, REC41.M49C, REC41.M49D, REC41.M49E, REC41.M49F, REC41.M49G, REC41.M49X, REC41.M49Z, REC41.M54, REC42.V447A, REC42.V453, REC42.V456, REC42.V457, REC42.V458, REC42.V463A, REC42.V463B, REC42.V463C, REC42.V463D, REC42.V463E, REC42.V463F, REC42.V463G, REC42.V463Z, REC42.V464, REC42.V465, REC42.V466, REC42.V467A, REC42.V467B, REC42.V467C, REC42.V467D, REC42.V467E, REC42.V467F, REC42.V467G, REC43.HIDX, REC43.H0, REC43.H1, REC43.H10, REC43.H11, REC43.H12A, REC43.H12B, REC43.H12C, REC43.H12D, REC43.H12E, REC43.H12F, REC43.H12G, REC43.H12H, REC43.H12I, REC43.H12J, REC43.H12K, REC43.H12L, REC43.H12M, REC43.H12N, REC43.H12O, REC43.H12P, REC43.H12Q, REC43.H12R, REC43.H12S, REC43.H12T, REC43.H12U, REC43.H12V, REC43.H12W, REC43.H12X, REC43.H12Y, REC43.H12Z, REC43.H13, REC43.H14, REC43.H15, REC43.H15A, REC43.H15B, REC43.H15C, REC43.H15D, REC43.H15E, REC43.H15F, REC43.H15G, REC43.H15H, REC43.H2, REC43.H20, REC43.H21, REC43.H21A, REC43.H22, REC43.H3, REC43.H31, REC43.H31B, REC43.H32A, REC43.H32B, REC43.H32C, REC43.H32D, REC43.H32E, REC43.H32F, REC43.H32G, REC43.H32H, REC43.H32I, REC43.H32J, REC43.H32K, REC43.H32L, REC43.H32M, REC43.H32N, REC43.H32O, REC43.H32P, REC43.H32Q, REC43.H32R, REC43.H32S, REC43.H32T, REC43.H32U, REC43.H32V, REC43.H32W, REC43.H32X, REC43.H32Y, REC43.H32Z, REC43.H33, REC43.H37A, REC43.H37B, REC43.H37C, REC43.H37D, REC43.H37E, REC43.H37F, REC43.H37G, REC43.H37H, REC43.H37X, REC43.H37Y, REC43.H37Z, REC43.H38, REC43.H39, REC43.H4, REC43.H5, REC43.H6, REC43.H7, REC43.H8, REC43.H9, REC44.HWIDX, REC44.HW1, REC44.HW10, REC44.HW16, REC44.HW17, REC44.HW18, REC44.HW19, REC44.HW2, REC44.HW3, REC44.HW4, REC44.HW53, REC44.HW55, REC44.HW56, REC44.HW57, REC44.HW58, REC44.HW7, REC51.V501, REC51.V502, REC51.V503, REC51.V504, REC51.V505, REC51.V506, REC51.V535, REC71.V702, REC71.V704, REC71.V705, REC71.V714, REC71.V716, REC71.V717, REC71.V719, REC71.V721, REC71.V730, REC71.V732, REC75.CASEID, REC75.V763A, REC75.V763B, REC75.V763C, REC75.V763D, REC75.V763E, REC75.V763F, REC75.V763G, REC75.V770, REC75.V770A, REC75.V770B, REC75.V770C, REC75.V770D, REC75.V770E, REC75.V770F, REC75.V770G, REC75.V770H, REC75.V770I, REC91.V190, REC91.V191, REC94.IDX94, REC94.M57A, REC94.M57B, REC94.M57C, REC94.M57D, REC94.M57E, REC94.M57G, REC94.M57H, REC94.M57I, REC94.M57J, REC94.M57K, REC94.M57L, REC94.M57M, REC94.M57N, REC94.M57O, REC94.M57P, REC94.M57Q, REC94.M57R, REC94.M57S, REC94.M57T, REC94.M57U, REC94.M57V, REC94.M57X, REC95.IDX95, REC95.ML1, REC95.ML11, REC95.ML12, REC95.ML13A, REC95.ML13B, REC95.ML13C, REC95.ML13D, REC95.ML13E, REC95.ML13F, REC95.ML13G, REC95.ML13I, REC95.ML13J, REC95.ML13K, REC95.ML13L, REC95.ML13M, REC95.ML13N, REC95.ML13O, REC95.ML13P, REC95.ML13X, REC95.ML13Y, REC95.ML13Z, REC95.ML14A, REC95.ML14B, REC95.ML14Y, REC95.ML14Z, REC95.ML15A, REC95.ML15B, REC95.ML15C, REC95.ML16A, REC95.ML16B, REC95.ML16C, REC95.ML17A, REC95.ML17B, REC95.ML17C, REC95.ML18A, REC95.ML18B, REC95.ML18C, REC95.ML19A, REC95.ML19B, REC95.ML19C, REC95.ML19D, REC95.ML19E, REC95.ML19F, REC95.ML19X, REC95.ML19Y, REC95.ML19Z, REC95.ML2, REC95.ML20A, REC95.ML20B, REC95.ML20C, REC95.ML21A, REC95.ML21B, REC95.ML21C, REC95.ML22A, REC95.ML22B, REC95.ML22C, REC95.ML23A, REC95.ML23B, REC95.ML23C, RECH0.HV000, RECH0.HV001, RECH0.HV002, RECH0.HV003, RECH0.HV005, RECH0.HV006, RECH0.HV007, RECH0.HV008, RECH0.HV009, RECH0.HV010, RECH0.HV011, RECH0.HV012, RECH0.HV013, RECH0.HV014, RECH0.HV016, RECH0.HV024, RECH0.HV025, RECH0.HV026, RECH0.HV042, RECH1.HVIDX, RECH1.HV102, RECH1.HV101, RECH1.HV106, RECH1.HV107, RECH1.HV115, RECH2.HV270, RECH2.HV271, RECH2.HV201, RECH2.HV204, RECH2.HV205, RECH2.HV206, RECH2.HV207, RECH2.HV208, RECH2.HV209, RECH2.HV210, RECH2.HV211, RECH2.HV212, RECH2.HV213, RECH2.HV214, RECH2.HV215, RECH2.HV217, RECH2.HV221, RECH2.HV225, RECH2.HV226, RECH3.HV270, RECH3.HV271, RECH4.IDXH4, RECML.ML13H from REC21 LEFT JOIN REC11 ON REC21.CASEID = REC11.CASEID LEFT JOIN REC22 ON REC21.CASEID = REC22.CASEID and REC21.BIDX = REC22.V235 LEFT JOIN REC41 ON REC21.CASEID = REC41.CASEID and substr(REC21.BIDX, 1, length(REC21.BIDX)-1) = REC41.MIDX LEFT JOIN REC42 ON REC21.CASEID = REC42.CASEID and REC21.BIDX = substr(REC42.V445, 1, length(REC42.V445)-2) LEFT JOIN REC43 ON REC21.CASEID = REC43.CASEID and substr(REC21.BIDX, 1, length(REC21.BIDX)-1) = REC43.HIDX LEFT JOIN REC44 ON REC21.CASEID = REC44.CASEID and substr(REC21.BIDX, 1, length(REC21.BIDX)-1) = REC44.HWIDX LEFT JOIN REC51 ON REC21.CASEID = REC51.CASEID LEFT JOIN REC71 ON REC21.CASEID = REC71.CASEID LEFT JOIN REC75 ON REC21.CASEID = REC75.CASEID LEFT JOIN REC91 ON REC21.CASEID = REC91.CASEID and REC21.BIDX = REC91.S562A LEFT JOIN REC94 ON REC21.CASEID = REC94.CASEID and substr(REC21.BIDX, 1, length(REC21.BIDX)-1) = REC94.IDX94 LEFT JOIN REC95 ON REC21.CASEID = REC95.CASEID and substr(REC21.BIDX, 1, length(REC21.BIDX)-1) = REC95.IDX95 LEFT JOIN RECH0 ON substr(REC21.CASEID, 1, length(REC21.CASEID)-3) = RECH0.HHID LEFT JOIN RECH1 ON substr(REC21.CASEID, 1, length(REC21.CASEID)-3) = RECH1.HHID and REC21.BIDX = RECH1.HVIDX LEFT JOIN RECH2 ON substr(REC21.CASEID, 1, length(REC21.CASEID)-3) = RECH2.HHID and substr(REC21.BIDX, 1, length(REC21.BIDX)-1) = RECH2.HV270 LEFT JOIN RECH3 ON substr(REC21.CASEID, 1, length(REC21.CASEID)-3) = RECH3.HHID and substr(REC21.BIDX, 1, length(REC21.BIDX)-1) = RECH3.HV270 LEFT JOIN RECH4 ON substr(REC21.CASEID, 1, length(REC21.CASEID)-3) = RECH4.HHID and REC21.BIDX = RECH4.IDXH4 LEFT JOIN RECML ON REC21.CASEID = RECML.CASEID and substr(REC21.BIDX, 1, length(REC21.BIDX)-1) = RECML.IDXML'"
      ]
     },
     "execution_count": 40,
     "metadata": {},
     "output_type": "execute_result"
    }
   ],
   "source": [
    "multi.GetCreateIntoSQL()"
   ]
  },
  {
   "cell_type": "code",
   "execution_count": 22,
   "metadata": {
    "collapsed": false
   },
   "outputs": [
    {
     "data": {
      "text/plain": [
       "'REC01'"
      ]
     },
     "execution_count": 22,
     "metadata": {},
     "output_type": "execute_result"
    }
   ],
   "source": [
    "multi._MasterTable.Name()"
   ]
  },
  {
   "cell_type": "code",
   "execution_count": 25,
   "metadata": {
    "collapsed": false
   },
   "outputs": [
    {
     "data": {
      "text/plain": [
       "['CASEID']"
      ]
     },
     "execution_count": 25,
     "metadata": {},
     "output_type": "execute_result"
    }
   ],
   "source": [
    "srcTableInfos['REC01'].JoinColumns()\n"
   ]
  },
  {
   "cell_type": "code",
   "execution_count": 26,
   "metadata": {
    "collapsed": false
   },
   "outputs": [
    {
     "data": {
      "text/plain": [
       "['HHID', 'HA0']"
      ]
     },
     "execution_count": 26,
     "metadata": {},
     "output_type": "execute_result"
    }
   ],
   "source": [
    "srcTableInfos['RECH5'].JoinColumns()"
   ]
  },
  {
   "cell_type": "code",
   "execution_count": 24,
   "metadata": {
    "collapsed": false
   },
   "outputs": [
    {
     "data": {
      "text/plain": [
       "['REC01',\n",
       " 'REC42',\n",
       " 'REC51',\n",
       " 'REC71',\n",
       " 'REC75',\n",
       " 'REC80',\n",
       " 'REC91',\n",
       " 'RECH0',\n",
       " 'RECH1',\n",
       " 'RECH2',\n",
       " 'RECH5',\n",
       " 'RECHCH',\n",
       " 'RECHEL',\n",
       " 'RECHMA',\n",
       " 'RECHYT']"
      ]
     },
     "execution_count": 24,
     "metadata": {},
     "output_type": "execute_result"
    }
   ],
   "source": [
    "tblNames"
   ]
  },
  {
   "cell_type": "code",
   "execution_count": 14,
   "metadata": {
    "collapsed": false
   },
   "outputs": [],
   "source": [
    "d = [ColumnInfo(p) for p in l]"
   ]
  },
  {
   "cell_type": "code",
   "execution_count": 16,
   "metadata": {
    "collapsed": false
   },
   "outputs": [
    {
     "data": {
      "text/plain": [
       "['HHID', {'Length': '1', 'Name': 'HA60'}]"
      ]
     },
     "execution_count": 16,
     "metadata": {},
     "output_type": "execute_result"
    }
   ],
   "source": [
    "tblCols"
   ]
  },
  {
   "cell_type": "code",
   "execution_count": 23,
   "metadata": {
    "collapsed": false
   },
   "outputs": [
    {
     "data": {
      "text/plain": [
       "{'HA60': '1'}"
      ]
     },
     "execution_count": 23,
     "metadata": {},
     "output_type": "execute_result"
    }
   ],
   "source": [
    "tblCols"
   ]
  },
  {
   "cell_type": "code",
   "execution_count": null,
   "metadata": {
    "collapsed": false
   },
   "outputs": [],
   "source": [
    "multi.GetCreateIntoSQL()"
   ]
  },
  {
   "cell_type": "markdown",
   "metadata": {},
   "source": [
    "### Workings below this point - all redundant"
   ]
  },
  {
   "cell_type": "markdown",
   "metadata": {},
   "source": [
    "Now the best thing to do would be then to join each of the other tables in turn and update, for example:"
   ]
  },
  {
   "cell_type": "code",
   "execution_count": null,
   "metadata": {
    "collapsed": false
   },
   "outputs": [],
   "source": [
    "inTable = srcTableInfos['REC43']\n",
    "cp = TableToTableFieldCopier(outTable, inTable, inTable.OutputColumns())\n",
    "\n",
    "update = cp.GetUpdateSQL_Join()\n",
    "cursor.execute(update)\n",
    "db.commit()"
   ]
  },
  {
   "cell_type": "markdown",
   "metadata": {},
   "source": [
    "But that doesn't work because it turns out SQLite doesn't support join in an update query. Nice to know."
   ]
  },
  {
   "cell_type": "code",
   "execution_count": null,
   "metadata": {
    "collapsed": false
   },
   "outputs": [],
   "source": [
    "inTable = srcTableInfos['REC43']\n",
    "cp = TableToTableFieldCopier(outTable, inTable, inTable.OutputColumns())\n"
   ]
  },
  {
   "cell_type": "markdown",
   "metadata": {},
   "source": [
    "Instead we might try REPLACE INTO. But that doesn't work because it adds duplicate rows."
   ]
  },
  {
   "cell_type": "code",
   "execution_count": null,
   "metadata": {
    "collapsed": false
   },
   "outputs": [],
   "source": [
    "inTable = srcTableInfos['REC43']\n",
    "cp = TableToTableFieldCopier(outTable, inTable, inTable.OutputColumns())\n",
    "\n",
    "update = cp.GetUpdateSQL_Replace()\n",
    "cursor.execute(update)\n",
    "db.commit()\n"
   ]
  }
 ],
 "metadata": {
  "kernelspec": {
   "display_name": "Python 2",
   "language": "python",
   "name": "python2"
  },
  "language_info": {
   "codemirror_mode": {
    "name": "ipython",
    "version": 2
   },
   "file_extension": ".py",
   "mimetype": "text/x-python",
   "name": "python",
   "nbconvert_exporter": "python",
   "pygments_lexer": "ipython2",
   "version": "2.7.5"
  }
 },
 "nbformat": 4,
 "nbformat_minor": 0
}
