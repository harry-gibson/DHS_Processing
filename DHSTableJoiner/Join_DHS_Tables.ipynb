{
 "metadata": {
  "name": "",
  "signature": "sha256:88343c64ed9aea9a7ca519924c2b3e9c4147e560b1b87d68c099600a275089c3"
 },
 "nbformat": 3,
 "nbformat_minor": 0,
 "worksheets": [
  {
   "cells": [
    {
     "cell_type": "heading",
     "level": 1,
     "metadata": {},
     "source": [
      "Donal's Death Data"
     ]
    },
    {
     "cell_type": "markdown",
     "metadata": {},
     "source": [
      "This file contains code for producing custom output \"recode\" tables from DHS tables that have first been processed out into individual files for each survey and table (record type). \n",
      "\n",
      "Essentially it provides a means of \"joining\" tables given a specific master table (e.g. Child records or Woman records) and a list of tables / variables that should go into the output.\n",
      "\n",
      "The code for actually constructing the SQL that performs the joins is implemented in an external module that should be in the same directory as this notebook.\n",
      "\n",
      "This was developed by Harry Gibson for extracting information (potentially) related to Under 5 Mortality for Donal Bisanzio."
     ]
    },
    {
     "cell_type": "code",
     "collapsed": false,
     "input": [
      "import csv\n",
      "import glob\n",
      "from collections import defaultdict\n",
      "import sqlite3\n",
      "import os"
     ],
     "language": "python",
     "metadata": {},
     "outputs": [],
     "prompt_number": 1
    },
    {
     "cell_type": "code",
     "collapsed": false,
     "input": [
      "from DHSTableManagement import *\n",
      "from UnicodeWriter import UnicodeWriter"
     ],
     "language": "python",
     "metadata": {},
     "outputs": []
    },
    {
     "cell_type": "code",
     "collapsed": false,
     "input": [
      "varsFile = r'\\\\129.67.26.176\\map_data\\DHS_Automation\\Processing\\U5M_Universe_And_Everything_201510\\Info\\variables_chosen_edits.csv'\n",
      "svyFile = r'\\\\129.67.26.176\\map_data\\DHS_Automation\\Processing\\U5M_Universe_And_Everything_201510\\Info\\survey_db_list.csv'\n",
      "tblPattern = r'\\\\129.67.26.176\\map_data\\DHS_Automation\\DataExtraction\\20150626_FullSiteScrape\\ProcessedTables\\{0}.*.{1}.csv'"
     ],
     "language": "python",
     "metadata": {},
     "outputs": [],
     "prompt_number": 3
    },
    {
     "cell_type": "code",
     "collapsed": false,
     "input": [
      "outDir = r'\\\\129.67.26.176\\map_data\\hsg\\Donal'"
     ],
     "language": "python",
     "metadata": {},
     "outputs": []
    },
    {
     "cell_type": "heading",
     "level": 3,
     "metadata": {},
     "source": [
      "Load requirements from files provided by Donal"
     ]
    },
    {
     "cell_type": "code",
     "collapsed": false,
     "input": [
      "allTables = [\"REC01\",\"REC11\",\"REC21\",\"REC22\",\"REC41\",\"REC42\",\"REC43\",\"REC44\",\"REC51\",\n",
      "             \"REC71\",\"REC75\",\"REC91\",\"REC94\",\"REC95\",\"RECH0\",\"RECH1\",\"RECH2\",\"RECH3\",\n",
      "             \"RECH4\",\"RECHM2\"]\n",
      "# \"RECH5\",\"RECH6\", missed as they contain nothing new"
     ],
     "language": "python",
     "metadata": {},
     "outputs": [],
     "prompt_number": 2
    },
    {
     "cell_type": "code",
     "collapsed": false,
     "input": [
      "# Build a dictionary of the columns that have been requested for each table\n",
      "tableVars = defaultdict(list)\n",
      "with open(varsFile) as varfile:\n",
      "    reader = csv.DictReader(varfile,delimiter=',') # delim ; in original\n",
      "    for row in reader:\n",
      "        varname = row['Name']\n",
      "        recname = row['RecordName']\n",
      "        if recname in allTables:\n",
      "            tableVars[recname].append(varname)"
     ],
     "language": "python",
     "metadata": {},
     "outputs": [],
     "prompt_number": 4
    },
    {
     "cell_type": "code",
     "collapsed": false,
     "input": [
      "# get files to read from survey_db_list\n",
      "with open(svyFile) as svyfile:\n",
      "    reader = csv.DictReader(svyfile)\n",
      "    svys = [row['DHS_id'] for row in reader]\n"
     ],
     "language": "python",
     "metadata": {},
     "outputs": [],
     "prompt_number": 6
    },
    {
     "cell_type": "heading",
     "level": 3,
     "metadata": {},
     "source": [
      "Process the surveys"
     ]
    },
    {
     "cell_type": "code",
     "collapsed": false,
     "input": [
      "skipDB = False"
     ],
     "language": "python",
     "metadata": {},
     "outputs": [],
     "prompt_number": 9
    },
    {
     "cell_type": "markdown",
     "metadata": {},
     "source": [
      "* Load all CSV files for a survey into individual tables in the in-memory DB \n",
      "* Create indexes\n",
      "* Create an output table that is the result of joining them all\n",
      "* Write that to disk."
     ]
    },
    {
     "cell_type": "code",
     "collapsed": false,
     "input": [
      "for svyID in svys:\n",
      "    print \"Survey \"+str(svyID)\n",
      "    # Use an in-memory sqlite db to load the tables and join them \n",
      "    db = sqlite3.connect(':memory:')\n",
      "    cursor = db.cursor()\n",
      "    srcTableInfos = {}\n",
      "    outname = os.path.join(outDir,\"DonalDeathData\"+str(svyID)+\".csv\")\n",
      "    for tblID, tblCols in tableVars.iteritems():\n",
      "        # Find the individual file required\n",
      "        tblFiles = glob.glob(tblPattern.format(svyID, tblID))\n",
      "        if len(tblFiles) != 1:\n",
      "            print (\"Survey \"+svyID+\" table \"+tblID+\" does not exist!\")\n",
      "            continue\n",
      "        print tblID +\"... \",\n",
      "        tblFile = tblFiles[0]\n",
      "        # Load the file to a DB table and also build a TableInfo for working with it\n",
      "        with open(tblFile) as tbl:\n",
      "            reader = csv.DictReader(tbl)\n",
      "            # ensure we get the ID variables which are CASEID or HIDX / BIDX etc\n",
      "            # Note that there are aalso HA0 and HC0 in RECH5/RECH6 but we don't actually\n",
      "            # need those tables (The only cols Donal requested cols from those tables \n",
      "            # are duplicated in the woman tableS)\n",
      "            ids = [v for v in reader.fieldnames if v.find(\"ID\") != -1]\n",
      "            for i in ids:\n",
      "                if i not in tblCols:\n",
      "                    tblCols.insert(0, i)\n",
      "            # Create a tableinfo object which will handle building the sql necessary\n",
      "            # for interacting with this table in the database\n",
      "            srcTable = TableInfo(tblID, ids, tblCols)\n",
      "            srcTableInfos[tblID] = srcTable\n",
      "\n",
      "            if (skipDB):\n",
      "                # For debugging\n",
      "                continue\n",
      "\n",
      "            # Create the table in the database\n",
      "            createSql = srcTable.GetCreateTableSQL()\n",
      "            cursor.execute(createSql)\n",
      "            orderedCols = srcTable.AllColumns()\n",
      "            \n",
      "            # Populate the data into the DB from the CSV reader\n",
      "            insertSql = srcTable.GetInsertSQLTemplate()\n",
      "            # Use \"N/A\" for any columns that are not present in this survey\n",
      "            data = [([row.get(i, 'N/A') for i in orderedCols]) for row in reader ]\n",
      "            cursor.executemany(insertSql, data)\n",
      "            \n",
      "            # Create indexes in the DB on the relevant join columns\n",
      "            idxSql = srcTable.GetCreateIndexSQL()\n",
      "            cursor.executescript(idxSql)\n",
      "        db.commit()\n",
      "        \n",
      "    # Get a list of all table names with REC21 at the start. This will be the \n",
      "    # \"master table\" i.e. one output row for each row in REC21.\n",
      "    tblNames = [i for i in sorted(srcTableInfos) if i not in ['REC21']]\n",
      "    tblNames.insert(0, 'REC21')\n",
      "    \n",
      "    # Perform the join!\n",
      "    multi = MultiTableJoiner(\"outputTbl\", [srcTableInfos[n] for n in tblNames] )\n",
      "    cursor.execute(multi.GetCreateIntoSQL())\n",
      "    \n",
      "    # Write the results out to CSV\n",
      "    cursor.execute(\"select * from outputTbl\")\n",
      "    colNames = [description[0] for description in cursor.description]\n",
      "    with open(outname, \"wb\") as f:\n",
      "        writer = UnicodeWriter(f)\n",
      "        writer.writerow(colNames)\n",
      "        writer.writerows(cursor)\n",
      "    db.close()\n",
      "    print \"\""
     ],
     "language": "python",
     "metadata": {},
     "outputs": [
      {
       "output_type": "stream",
       "stream": "stdout",
       "text": [
        "Survey 147\n",
        "REC21... "
       ]
      },
      {
       "output_type": "stream",
       "stream": "stdout",
       "text": [
        " REC22...  "
       ]
      },
      {
       "output_type": "stream",
       "stream": "stdout",
       "text": [
        "RECH3...  "
       ]
      },
      {
       "output_type": "stream",
       "stream": "stdout",
       "text": [
        "REC51...  "
       ]
      },
      {
       "output_type": "stream",
       "stream": "stdout",
       "text": [
        "RECH1...  "
       ]
      },
      {
       "output_type": "stream",
       "stream": "stdout",
       "text": [
        "RECH0...  "
       ]
      },
      {
       "output_type": "stream",
       "stream": "stdout",
       "text": [
        "REC11...  "
       ]
      },
      {
       "output_type": "stream",
       "stream": "stdout",
       "text": [
        "RECH2...  "
       ]
      },
      {
       "output_type": "stream",
       "stream": "stdout",
       "text": [
        "REC01...  "
       ]
      },
      {
       "output_type": "stream",
       "stream": "stdout",
       "text": [
        "REC91...  "
       ]
      },
      {
       "output_type": "stream",
       "stream": "stdout",
       "text": [
        "RECH4...  "
       ]
      },
      {
       "output_type": "stream",
       "stream": "stdout",
       "text": [
        "REC94...  "
       ]
      },
      {
       "output_type": "stream",
       "stream": "stdout",
       "text": [
        "Survey 147 table REC95 does not exist!\n",
        "REC75... "
       ]
      },
      {
       "output_type": "stream",
       "stream": "stdout",
       "text": [
        " REC43...  "
       ]
      },
      {
       "output_type": "stream",
       "stream": "stdout",
       "text": [
        "REC42...  "
       ]
      },
      {
       "output_type": "stream",
       "stream": "stdout",
       "text": [
        "REC41...  "
       ]
      },
      {
       "output_type": "stream",
       "stream": "stdout",
       "text": [
        "REC71...  "
       ]
      },
      {
       "output_type": "stream",
       "stream": "stdout",
       "text": [
        "Survey 147 table RECHM2 does not exist!\n",
        "REC44... "
       ]
      },
      {
       "output_type": "stream",
       "stream": "stdout",
       "text": [
        " 364\n",
        "364\n"
       ]
      },
      {
       "output_type": "stream",
       "stream": "stdout",
       "text": [
        "\n",
        "Survey 158\n",
        "REC21... "
       ]
      },
      {
       "output_type": "stream",
       "stream": "stdout",
       "text": [
        " REC22...  "
       ]
      },
      {
       "output_type": "stream",
       "stream": "stdout",
       "text": [
        "RECH3...  "
       ]
      },
      {
       "output_type": "stream",
       "stream": "stdout",
       "text": [
        "REC51...  "
       ]
      },
      {
       "output_type": "stream",
       "stream": "stdout",
       "text": [
        "RECH1...  "
       ]
      },
      {
       "output_type": "stream",
       "stream": "stdout",
       "text": [
        "RECH0...  "
       ]
      },
      {
       "output_type": "stream",
       "stream": "stdout",
       "text": [
        "REC11...  "
       ]
      },
      {
       "output_type": "stream",
       "stream": "stdout",
       "text": [
        "RECH2...  "
       ]
      },
      {
       "output_type": "stream",
       "stream": "stdout",
       "text": [
        "REC01...  "
       ]
      },
      {
       "output_type": "stream",
       "stream": "stdout",
       "text": [
        "REC91...  "
       ]
      },
      {
       "output_type": "stream",
       "stream": "stdout",
       "text": [
        "RECH4...  "
       ]
      },
      {
       "output_type": "stream",
       "stream": "stdout",
       "text": [
        "REC94...  "
       ]
      },
      {
       "output_type": "stream",
       "stream": "stdout",
       "text": [
        "REC95...  "
       ]
      },
      {
       "output_type": "stream",
       "stream": "stdout",
       "text": [
        "REC75...  "
       ]
      },
      {
       "output_type": "stream",
       "stream": "stdout",
       "text": [
        "REC43...  "
       ]
      },
      {
       "output_type": "stream",
       "stream": "stdout",
       "text": [
        "REC42...  "
       ]
      },
      {
       "output_type": "stream",
       "stream": "stdout",
       "text": [
        "REC41...  "
       ]
      },
      {
       "output_type": "stream",
       "stream": "stdout",
       "text": [
        "REC71...  "
       ]
      },
      {
       "output_type": "stream",
       "stream": "stdout",
       "text": [
        "Survey 158 table RECHM2 does not exist!\n",
        "REC44... "
       ]
      },
      {
       "output_type": "stream",
       "stream": "stdout",
       "text": [
        " 427\n",
        "427\n"
       ]
      },
      {
       "output_type": "stream",
       "stream": "stdout",
       "text": [
        "\n",
        "Survey 159\n",
        "REC21... "
       ]
      },
      {
       "output_type": "stream",
       "stream": "stdout",
       "text": [
        " REC22...  "
       ]
      },
      {
       "output_type": "stream",
       "stream": "stdout",
       "text": [
        "RECH3...  "
       ]
      },
      {
       "output_type": "stream",
       "stream": "stdout",
       "text": [
        "REC51...  "
       ]
      },
      {
       "output_type": "stream",
       "stream": "stdout",
       "text": [
        "RECH1...  "
       ]
      },
      {
       "output_type": "stream",
       "stream": "stdout",
       "text": [
        "RECH0...  "
       ]
      },
      {
       "output_type": "stream",
       "stream": "stdout",
       "text": [
        "REC11...  "
       ]
      },
      {
       "output_type": "stream",
       "stream": "stdout",
       "text": [
        "RECH2...  "
       ]
      },
      {
       "output_type": "stream",
       "stream": "stdout",
       "text": [
        "REC01...  "
       ]
      },
      {
       "output_type": "stream",
       "stream": "stdout",
       "text": [
        "REC91...  "
       ]
      },
      {
       "output_type": "stream",
       "stream": "stdout",
       "text": [
        "RECH4...  "
       ]
      },
      {
       "output_type": "stream",
       "stream": "stdout",
       "text": [
        "Survey 159 table REC94 does not exist!\n",
        "REC95... "
       ]
      },
      {
       "output_type": "stream",
       "stream": "stdout",
       "text": [
        " REC75...  "
       ]
      },
      {
       "output_type": "stream",
       "stream": "stdout",
       "text": [
        "REC43...  "
       ]
      },
      {
       "output_type": "stream",
       "stream": "stdout",
       "text": [
        "REC42...  "
       ]
      },
      {
       "output_type": "stream",
       "stream": "stdout",
       "text": [
        "REC41...  "
       ]
      },
      {
       "output_type": "stream",
       "stream": "stdout",
       "text": [
        "REC71...  "
       ]
      },
      {
       "output_type": "stream",
       "stream": "stdout",
       "text": [
        "Survey 159 table RECHM2 does not exist!\n",
        "REC44... "
       ]
      },
      {
       "output_type": "stream",
       "stream": "stdout",
       "text": [
        " 403\n",
        "403\n"
       ]
      },
      {
       "output_type": "stream",
       "stream": "stdout",
       "text": [
        "\n",
        "Survey 165\n",
        "REC21... "
       ]
      },
      {
       "output_type": "stream",
       "stream": "stdout",
       "text": [
        " REC22...  "
       ]
      },
      {
       "output_type": "stream",
       "stream": "stdout",
       "text": [
        "RECH3...  "
       ]
      },
      {
       "output_type": "stream",
       "stream": "stdout",
       "text": [
        "REC51...  "
       ]
      },
      {
       "output_type": "stream",
       "stream": "stdout",
       "text": [
        "RECH1...  "
       ]
      },
      {
       "output_type": "stream",
       "stream": "stdout",
       "text": [
        "RECH0...  "
       ]
      },
      {
       "output_type": "stream",
       "stream": "stdout",
       "text": [
        "REC11...  "
       ]
      },
      {
       "output_type": "stream",
       "stream": "stdout",
       "text": [
        "RECH2...  "
       ]
      },
      {
       "output_type": "stream",
       "stream": "stdout",
       "text": [
        "REC01...  "
       ]
      },
      {
       "output_type": "stream",
       "stream": "stdout",
       "text": [
        "REC91...  "
       ]
      },
      {
       "output_type": "stream",
       "stream": "stdout",
       "text": [
        "RECH4...  "
       ]
      },
      {
       "output_type": "stream",
       "stream": "stdout",
       "text": [
        "Survey 165 table REC94 does not exist!\n",
        "REC95... "
       ]
      },
      {
       "output_type": "stream",
       "stream": "stdout",
       "text": [
        " REC75...  "
       ]
      },
      {
       "output_type": "stream",
       "stream": "stdout",
       "text": [
        "REC43...  "
       ]
      },
      {
       "output_type": "stream",
       "stream": "stdout",
       "text": [
        "REC42...  "
       ]
      },
      {
       "output_type": "stream",
       "stream": "stdout",
       "text": [
        "REC41...  "
       ]
      },
      {
       "output_type": "stream",
       "stream": "stdout",
       "text": [
        "REC71...  "
       ]
      },
      {
       "output_type": "stream",
       "stream": "stdout",
       "text": [
        "Survey 165 table RECHM2 does not exist!\n",
        "REC44... "
       ]
      },
      {
       "output_type": "stream",
       "stream": "stdout",
       "text": [
        " 404\n",
        "404\n"
       ]
      },
      {
       "output_type": "stream",
       "stream": "stdout",
       "text": [
        "\n",
        "Survey 169\n",
        "REC21... "
       ]
      },
      {
       "output_type": "stream",
       "stream": "stdout",
       "text": [
        " REC22...  "
       ]
      },
      {
       "output_type": "stream",
       "stream": "stdout",
       "text": [
        "RECH3...  "
       ]
      },
      {
       "output_type": "stream",
       "stream": "stdout",
       "text": [
        "REC51...  "
       ]
      },
      {
       "output_type": "stream",
       "stream": "stdout",
       "text": [
        "RECH1...  "
       ]
      },
      {
       "output_type": "stream",
       "stream": "stdout",
       "text": [
        "RECH0...  "
       ]
      },
      {
       "output_type": "stream",
       "stream": "stdout",
       "text": [
        "REC11...  "
       ]
      },
      {
       "output_type": "stream",
       "stream": "stdout",
       "text": [
        "RECH2...  "
       ]
      },
      {
       "output_type": "stream",
       "stream": "stdout",
       "text": [
        "REC01...  "
       ]
      },
      {
       "output_type": "stream",
       "stream": "stdout",
       "text": [
        "REC91...  "
       ]
      },
      {
       "output_type": "stream",
       "stream": "stdout",
       "text": [
        "RECH4...  "
       ]
      },
      {
       "output_type": "stream",
       "stream": "stdout",
       "text": [
        "REC94...  "
       ]
      },
      {
       "output_type": "stream",
       "stream": "stdout",
       "text": [
        "REC95...  "
       ]
      },
      {
       "output_type": "stream",
       "stream": "stdout",
       "text": [
        "REC75...  "
       ]
      },
      {
       "output_type": "stream",
       "stream": "stdout",
       "text": [
        "REC43...  "
       ]
      },
      {
       "output_type": "stream",
       "stream": "stdout",
       "text": [
        "REC42...  "
       ]
      },
      {
       "output_type": "stream",
       "stream": "stdout",
       "text": [
        "REC41...  "
       ]
      },
      {
       "output_type": "stream",
       "stream": "stdout",
       "text": [
        "REC71...  "
       ]
      },
      {
       "output_type": "stream",
       "stream": "stdout",
       "text": [
        "Survey 169 table RECHM2 does not exist!\n",
        "REC44... "
       ]
      },
      {
       "output_type": "stream",
       "stream": "stdout",
       "text": [
        " 428\n",
        "428\n"
       ]
      },
      {
       "output_type": "stream",
       "stream": "stdout",
       "text": [
        "\n",
        "Survey 205\n",
        "REC21... "
       ]
      },
      {
       "output_type": "stream",
       "stream": "stdout",
       "text": [
        " REC22...  "
       ]
      },
      {
       "output_type": "stream",
       "stream": "stdout",
       "text": [
        "RECH3...  "
       ]
      },
      {
       "output_type": "stream",
       "stream": "stdout",
       "text": [
        "REC51...  "
       ]
      },
      {
       "output_type": "stream",
       "stream": "stdout",
       "text": [
        "RECH1...  "
       ]
      },
      {
       "output_type": "stream",
       "stream": "stdout",
       "text": [
        "RECH0...  "
       ]
      },
      {
       "output_type": "stream",
       "stream": "stdout",
       "text": [
        "REC11...  "
       ]
      },
      {
       "output_type": "stream",
       "stream": "stdout",
       "text": [
        "RECH2...  "
       ]
      },
      {
       "output_type": "stream",
       "stream": "stdout",
       "text": [
        "REC01...  "
       ]
      },
      {
       "output_type": "stream",
       "stream": "stdout",
       "text": [
        "REC91...  "
       ]
      },
      {
       "output_type": "stream",
       "stream": "stdout",
       "text": [
        "RECH4...  "
       ]
      },
      {
       "output_type": "stream",
       "stream": "stdout",
       "text": [
        "REC94...  "
       ]
      },
      {
       "output_type": "stream",
       "stream": "stdout",
       "text": [
        "Survey 205 table REC95 does not exist!\n",
        "REC75... "
       ]
      },
      {
       "output_type": "stream",
       "stream": "stdout",
       "text": [
        " REC43...  "
       ]
      },
      {
       "output_type": "stream",
       "stream": "stdout",
       "text": [
        "REC42...  "
       ]
      },
      {
       "output_type": "stream",
       "stream": "stdout",
       "text": [
        "REC41...  "
       ]
      },
      {
       "output_type": "stream",
       "stream": "stdout",
       "text": [
        "REC71...  "
       ]
      },
      {
       "output_type": "stream",
       "stream": "stdout",
       "text": [
        "Survey 205 table RECHM2 does not exist!\n",
        "REC44... "
       ]
      },
      {
       "output_type": "stream",
       "stream": "stdout",
       "text": [
        " 366\n",
        "366\n"
       ]
      },
      {
       "output_type": "stream",
       "stream": "stdout",
       "text": [
        "\n",
        "Survey 206\n",
        "REC21... "
       ]
      },
      {
       "output_type": "stream",
       "stream": "stdout",
       "text": [
        " REC22...  "
       ]
      },
      {
       "output_type": "stream",
       "stream": "stdout",
       "text": [
        "RECH3...  "
       ]
      },
      {
       "output_type": "stream",
       "stream": "stdout",
       "text": [
        "REC51...  "
       ]
      },
      {
       "output_type": "stream",
       "stream": "stdout",
       "text": [
        "RECH1...  "
       ]
      },
      {
       "output_type": "stream",
       "stream": "stdout",
       "text": [
        "RECH0...  "
       ]
      },
      {
       "output_type": "stream",
       "stream": "stdout",
       "text": [
        "REC11...  "
       ]
      },
      {
       "output_type": "stream",
       "stream": "stdout",
       "text": [
        "RECH2...  "
       ]
      },
      {
       "output_type": "stream",
       "stream": "stdout",
       "text": [
        "REC01...  "
       ]
      },
      {
       "output_type": "stream",
       "stream": "stdout",
       "text": [
        "REC91...  "
       ]
      },
      {
       "output_type": "stream",
       "stream": "stdout",
       "text": [
        "RECH4...  "
       ]
      },
      {
       "output_type": "stream",
       "stream": "stdout",
       "text": [
        "REC94...  "
       ]
      },
      {
       "output_type": "stream",
       "stream": "stdout",
       "text": [
        "REC95...  "
       ]
      },
      {
       "output_type": "stream",
       "stream": "stdout",
       "text": [
        "REC75...  "
       ]
      },
      {
       "output_type": "stream",
       "stream": "stdout",
       "text": [
        "REC43...  "
       ]
      },
      {
       "output_type": "stream",
       "stream": "stdout",
       "text": [
        "REC42...  "
       ]
      },
      {
       "output_type": "stream",
       "stream": "stdout",
       "text": [
        "REC41...  "
       ]
      },
      {
       "output_type": "stream",
       "stream": "stdout",
       "text": [
        "REC71...  "
       ]
      },
      {
       "output_type": "stream",
       "stream": "stdout",
       "text": [
        "Survey 206 table RECHM2 does not exist!\n",
        "REC44... "
       ]
      },
      {
       "output_type": "stream",
       "stream": "stdout",
       "text": [
        " 428\n",
        "428\n"
       ]
      },
      {
       "output_type": "stream",
       "stream": "stdout",
       "text": [
        "\n",
        "Survey 207\n",
        "REC21... "
       ]
      },
      {
       "output_type": "stream",
       "stream": "stdout",
       "text": [
        " REC22...  "
       ]
      },
      {
       "output_type": "stream",
       "stream": "stdout",
       "text": [
        "RECH3...  "
       ]
      },
      {
       "output_type": "stream",
       "stream": "stdout",
       "text": [
        "REC51...  "
       ]
      },
      {
       "output_type": "stream",
       "stream": "stdout",
       "text": [
        "RECH1...  "
       ]
      },
      {
       "output_type": "stream",
       "stream": "stdout",
       "text": [
        "RECH0...  "
       ]
      },
      {
       "output_type": "stream",
       "stream": "stdout",
       "text": [
        "REC11...  "
       ]
      },
      {
       "output_type": "stream",
       "stream": "stdout",
       "text": [
        "RECH2...  "
       ]
      },
      {
       "output_type": "stream",
       "stream": "stdout",
       "text": [
        "REC01...  "
       ]
      },
      {
       "output_type": "stream",
       "stream": "stdout",
       "text": [
        "REC91...  "
       ]
      },
      {
       "output_type": "stream",
       "stream": "stdout",
       "text": [
        "RECH4...  "
       ]
      },
      {
       "output_type": "stream",
       "stream": "stdout",
       "text": [
        "REC94...  "
       ]
      },
      {
       "output_type": "stream",
       "stream": "stdout",
       "text": [
        "REC95...  "
       ]
      },
      {
       "output_type": "stream",
       "stream": "stdout",
       "text": [
        "REC75...  "
       ]
      },
      {
       "output_type": "stream",
       "stream": "stdout",
       "text": [
        "REC43...  "
       ]
      },
      {
       "output_type": "stream",
       "stream": "stdout",
       "text": [
        "REC42...  "
       ]
      },
      {
       "output_type": "stream",
       "stream": "stdout",
       "text": [
        "REC41...  "
       ]
      },
      {
       "output_type": "stream",
       "stream": "stdout",
       "text": [
        "REC71...  "
       ]
      },
      {
       "output_type": "stream",
       "stream": "stdout",
       "text": [
        "Survey 207 table RECHM2 does not exist!\n",
        "REC44... "
       ]
      },
      {
       "output_type": "stream",
       "stream": "stdout",
       "text": [
        " 428\n",
        "428\n"
       ]
      },
      {
       "output_type": "stream",
       "stream": "stdout",
       "text": [
        "\n",
        "Survey 211\n",
        "REC21... "
       ]
      },
      {
       "output_type": "stream",
       "stream": "stdout",
       "text": [
        " REC22...  "
       ]
      },
      {
       "output_type": "stream",
       "stream": "stdout",
       "text": [
        "RECH3...  "
       ]
      },
      {
       "output_type": "stream",
       "stream": "stdout",
       "text": [
        "REC51...  "
       ]
      },
      {
       "output_type": "stream",
       "stream": "stdout",
       "text": [
        "RECH1...  "
       ]
      },
      {
       "output_type": "stream",
       "stream": "stdout",
       "text": [
        "RECH0...  "
       ]
      },
      {
       "output_type": "stream",
       "stream": "stdout",
       "text": [
        "REC11...  "
       ]
      },
      {
       "output_type": "stream",
       "stream": "stdout",
       "text": [
        "RECH2...  "
       ]
      },
      {
       "output_type": "stream",
       "stream": "stdout",
       "text": [
        "REC01...  "
       ]
      },
      {
       "output_type": "stream",
       "stream": "stdout",
       "text": [
        "REC91...  "
       ]
      },
      {
       "output_type": "stream",
       "stream": "stdout",
       "text": [
        "RECH4...  "
       ]
      },
      {
       "output_type": "stream",
       "stream": "stdout",
       "text": [
        "REC94...  "
       ]
      },
      {
       "output_type": "stream",
       "stream": "stdout",
       "text": [
        "Survey 211 table REC95 does not exist!\n",
        "REC75... "
       ]
      },
      {
       "output_type": "stream",
       "stream": "stdout",
       "text": [
        " REC43...  "
       ]
      },
      {
       "output_type": "stream",
       "stream": "stdout",
       "text": [
        "REC42...  "
       ]
      },
      {
       "output_type": "stream",
       "stream": "stdout",
       "text": [
        "REC41...  "
       ]
      },
      {
       "output_type": "stream",
       "stream": "stdout",
       "text": [
        "REC71...  "
       ]
      },
      {
       "output_type": "stream",
       "stream": "stdout",
       "text": [
        "Survey 211 table RECHM2 does not exist!\n",
        "REC44... "
       ]
      },
      {
       "output_type": "stream",
       "stream": "stdout",
       "text": [
        " 366\n",
        "366\n"
       ]
      },
      {
       "output_type": "stream",
       "stream": "stdout",
       "text": [
        "\n",
        "Survey 216\n",
        "REC21... "
       ]
      },
      {
       "output_type": "stream",
       "stream": "stdout",
       "text": [
        " REC22...  "
       ]
      },
      {
       "output_type": "stream",
       "stream": "stdout",
       "text": [
        "RECH3...  "
       ]
      },
      {
       "output_type": "stream",
       "stream": "stdout",
       "text": [
        "REC51...  "
       ]
      },
      {
       "output_type": "stream",
       "stream": "stdout",
       "text": [
        "RECH1...  "
       ]
      },
      {
       "output_type": "stream",
       "stream": "stdout",
       "text": [
        "RECH0...  "
       ]
      },
      {
       "output_type": "stream",
       "stream": "stdout",
       "text": [
        "REC11...  "
       ]
      },
      {
       "output_type": "stream",
       "stream": "stdout",
       "text": [
        "RECH2...  "
       ]
      },
      {
       "output_type": "stream",
       "stream": "stdout",
       "text": [
        "REC01...  "
       ]
      },
      {
       "output_type": "stream",
       "stream": "stdout",
       "text": [
        "REC91...  "
       ]
      },
      {
       "output_type": "stream",
       "stream": "stdout",
       "text": [
        "RECH4...  "
       ]
      },
      {
       "output_type": "stream",
       "stream": "stdout",
       "text": [
        "REC94...  "
       ]
      },
      {
       "output_type": "stream",
       "stream": "stdout",
       "text": [
        "REC95...  "
       ]
      },
      {
       "output_type": "stream",
       "stream": "stdout",
       "text": [
        "REC75...  "
       ]
      },
      {
       "output_type": "stream",
       "stream": "stdout",
       "text": [
        "REC43...  "
       ]
      },
      {
       "output_type": "stream",
       "stream": "stdout",
       "text": [
        "REC42...  "
       ]
      },
      {
       "output_type": "stream",
       "stream": "stdout",
       "text": [
        "REC41...  "
       ]
      },
      {
       "output_type": "stream",
       "stream": "stdout",
       "text": [
        "REC71...  "
       ]
      },
      {
       "output_type": "stream",
       "stream": "stdout",
       "text": [
        "Survey 216 table RECHM2 does not exist!\n",
        "REC44... "
       ]
      },
      {
       "output_type": "stream",
       "stream": "stdout",
       "text": [
        " 428\n",
        "428\n"
       ]
      },
      {
       "output_type": "stream",
       "stream": "stdout",
       "text": [
        "\n",
        "Survey 223\n",
        "REC21... "
       ]
      },
      {
       "output_type": "stream",
       "stream": "stdout",
       "text": [
        " REC22...  "
       ]
      },
      {
       "output_type": "stream",
       "stream": "stdout",
       "text": [
        "RECH3...  "
       ]
      },
      {
       "output_type": "stream",
       "stream": "stdout",
       "text": [
        "REC51...  "
       ]
      },
      {
       "output_type": "stream",
       "stream": "stdout",
       "text": [
        "RECH1...  "
       ]
      },
      {
       "output_type": "stream",
       "stream": "stdout",
       "text": [
        "RECH0...  "
       ]
      },
      {
       "output_type": "stream",
       "stream": "stdout",
       "text": [
        "REC11...  "
       ]
      },
      {
       "output_type": "stream",
       "stream": "stdout",
       "text": [
        "RECH2...  "
       ]
      },
      {
       "output_type": "stream",
       "stream": "stdout",
       "text": [
        "REC01...  "
       ]
      },
      {
       "output_type": "stream",
       "stream": "stdout",
       "text": [
        "REC91...  "
       ]
      },
      {
       "output_type": "stream",
       "stream": "stdout",
       "text": [
        "RECH4...  "
       ]
      },
      {
       "output_type": "stream",
       "stream": "stdout",
       "text": [
        "REC94...  "
       ]
      },
      {
       "output_type": "stream",
       "stream": "stdout",
       "text": [
        "REC95...  "
       ]
      },
      {
       "output_type": "stream",
       "stream": "stdout",
       "text": [
        "REC75...  "
       ]
      },
      {
       "output_type": "stream",
       "stream": "stdout",
       "text": [
        "REC43...  "
       ]
      },
      {
       "output_type": "stream",
       "stream": "stdout",
       "text": [
        "REC42...  "
       ]
      },
      {
       "output_type": "stream",
       "stream": "stdout",
       "text": [
        "REC41...  "
       ]
      },
      {
       "output_type": "stream",
       "stream": "stdout",
       "text": [
        "REC71...  "
       ]
      },
      {
       "output_type": "stream",
       "stream": "stdout",
       "text": [
        "Survey 223 table RECHM2 does not exist!\n",
        "REC44... "
       ]
      },
      {
       "output_type": "stream",
       "stream": "stdout",
       "text": [
        " 429\n",
        "429\n"
       ]
      },
      {
       "output_type": "stream",
       "stream": "stdout",
       "text": [
        "\n",
        "Survey 232\n",
        "REC21... "
       ]
      },
      {
       "output_type": "stream",
       "stream": "stdout",
       "text": [
        " REC22...  "
       ]
      },
      {
       "output_type": "stream",
       "stream": "stdout",
       "text": [
        "RECH3...  "
       ]
      },
      {
       "output_type": "stream",
       "stream": "stdout",
       "text": [
        "REC51...  "
       ]
      },
      {
       "output_type": "stream",
       "stream": "stdout",
       "text": [
        "RECH1...  "
       ]
      },
      {
       "output_type": "stream",
       "stream": "stdout",
       "text": [
        "RECH0...  "
       ]
      },
      {
       "output_type": "stream",
       "stream": "stdout",
       "text": [
        "REC11...  "
       ]
      },
      {
       "output_type": "stream",
       "stream": "stdout",
       "text": [
        "RECH2...  "
       ]
      },
      {
       "output_type": "stream",
       "stream": "stdout",
       "text": [
        "REC01...  "
       ]
      },
      {
       "output_type": "stream",
       "stream": "stdout",
       "text": [
        "REC91...  "
       ]
      },
      {
       "output_type": "stream",
       "stream": "stdout",
       "text": [
        "RECH4...  "
       ]
      },
      {
       "output_type": "stream",
       "stream": "stdout",
       "text": [
        "REC94...  "
       ]
      },
      {
       "output_type": "stream",
       "stream": "stdout",
       "text": [
        "REC95...  "
       ]
      },
      {
       "output_type": "stream",
       "stream": "stdout",
       "text": [
        "REC75...  "
       ]
      },
      {
       "output_type": "stream",
       "stream": "stdout",
       "text": [
        "REC43...  "
       ]
      },
      {
       "output_type": "stream",
       "stream": "stdout",
       "text": [
        "REC42...  "
       ]
      },
      {
       "output_type": "stream",
       "stream": "stdout",
       "text": [
        "REC41...  "
       ]
      },
      {
       "output_type": "stream",
       "stream": "stdout",
       "text": [
        "REC71...  "
       ]
      },
      {
       "output_type": "stream",
       "stream": "stdout",
       "text": [
        "Survey 232 table RECHM2 does not exist!\n",
        "REC44... "
       ]
      },
      {
       "output_type": "stream",
       "stream": "stdout",
       "text": [
        " 429\n",
        "429\n"
       ]
      },
      {
       "output_type": "stream",
       "stream": "stdout",
       "text": [
        "\n",
        "Survey 233\n",
        "REC21... "
       ]
      },
      {
       "output_type": "stream",
       "stream": "stdout",
       "text": [
        " REC22...  "
       ]
      },
      {
       "output_type": "stream",
       "stream": "stdout",
       "text": [
        "RECH3...  "
       ]
      },
      {
       "output_type": "stream",
       "stream": "stdout",
       "text": [
        "REC51...  "
       ]
      },
      {
       "output_type": "stream",
       "stream": "stdout",
       "text": [
        "RECH1...  "
       ]
      },
      {
       "output_type": "stream",
       "stream": "stdout",
       "text": [
        "RECH0...  "
       ]
      },
      {
       "output_type": "stream",
       "stream": "stdout",
       "text": [
        "REC11...  "
       ]
      },
      {
       "output_type": "stream",
       "stream": "stdout",
       "text": [
        "RECH2...  "
       ]
      },
      {
       "output_type": "stream",
       "stream": "stdout",
       "text": [
        "REC01...  "
       ]
      },
      {
       "output_type": "stream",
       "stream": "stdout",
       "text": [
        "REC91...  "
       ]
      },
      {
       "output_type": "stream",
       "stream": "stdout",
       "text": [
        "RECH4...  "
       ]
      },
      {
       "output_type": "stream",
       "stream": "stdout",
       "text": [
        "REC94...  "
       ]
      },
      {
       "output_type": "stream",
       "stream": "stdout",
       "text": [
        "REC95...  "
       ]
      },
      {
       "output_type": "stream",
       "stream": "stdout",
       "text": [
        "REC75...  "
       ]
      },
      {
       "output_type": "stream",
       "stream": "stdout",
       "text": [
        "REC43...  "
       ]
      },
      {
       "output_type": "stream",
       "stream": "stdout",
       "text": [
        "REC42...  "
       ]
      },
      {
       "output_type": "stream",
       "stream": "stdout",
       "text": [
        "REC41...  "
       ]
      },
      {
       "output_type": "stream",
       "stream": "stdout",
       "text": [
        "REC71...  "
       ]
      },
      {
       "output_type": "stream",
       "stream": "stdout",
       "text": [
        "Survey 233 table RECHM2 does not exist!\n",
        "REC44... "
       ]
      },
      {
       "output_type": "stream",
       "stream": "stdout",
       "text": [
        " 429\n",
        "429\n"
       ]
      },
      {
       "output_type": "stream",
       "stream": "stdout",
       "text": [
        "\n",
        "Survey 235\n",
        "REC21... "
       ]
      },
      {
       "output_type": "stream",
       "stream": "stdout",
       "text": [
        " REC22...  "
       ]
      },
      {
       "output_type": "stream",
       "stream": "stdout",
       "text": [
        "RECH3...  "
       ]
      },
      {
       "output_type": "stream",
       "stream": "stdout",
       "text": [
        "REC51...  "
       ]
      },
      {
       "output_type": "stream",
       "stream": "stdout",
       "text": [
        "RECH1...  "
       ]
      },
      {
       "output_type": "stream",
       "stream": "stdout",
       "text": [
        "RECH0...  "
       ]
      },
      {
       "output_type": "stream",
       "stream": "stdout",
       "text": [
        "REC11...  "
       ]
      },
      {
       "output_type": "stream",
       "stream": "stdout",
       "text": [
        "RECH2...  "
       ]
      },
      {
       "output_type": "stream",
       "stream": "stdout",
       "text": [
        "REC01...  "
       ]
      },
      {
       "output_type": "stream",
       "stream": "stdout",
       "text": [
        "REC91...  "
       ]
      },
      {
       "output_type": "stream",
       "stream": "stdout",
       "text": [
        "RECH4...  "
       ]
      },
      {
       "output_type": "stream",
       "stream": "stdout",
       "text": [
        "REC94...  "
       ]
      },
      {
       "output_type": "stream",
       "stream": "stdout",
       "text": [
        "REC95...  "
       ]
      },
      {
       "output_type": "stream",
       "stream": "stdout",
       "text": [
        "REC75...  "
       ]
      },
      {
       "output_type": "stream",
       "stream": "stdout",
       "text": [
        "REC43...  "
       ]
      },
      {
       "output_type": "stream",
       "stream": "stdout",
       "text": [
        "REC42...  "
       ]
      },
      {
       "output_type": "stream",
       "stream": "stdout",
       "text": [
        "REC41...  "
       ]
      },
      {
       "output_type": "stream",
       "stream": "stdout",
       "text": [
        "REC71...  "
       ]
      },
      {
       "output_type": "stream",
       "stream": "stdout",
       "text": [
        "Survey 235 table RECHM2 does not exist!\n",
        "REC44... "
       ]
      },
      {
       "output_type": "stream",
       "stream": "stdout",
       "text": [
        " 429\n",
        "429\n"
       ]
      },
      {
       "output_type": "stream",
       "stream": "stdout",
       "text": [
        "\n",
        "Survey 248\n",
        "REC21... "
       ]
      },
      {
       "output_type": "stream",
       "stream": "stdout",
       "text": [
        " REC22...  "
       ]
      },
      {
       "output_type": "stream",
       "stream": "stdout",
       "text": [
        "RECH3...  "
       ]
      },
      {
       "output_type": "stream",
       "stream": "stdout",
       "text": [
        "REC51...  "
       ]
      },
      {
       "output_type": "stream",
       "stream": "stdout",
       "text": [
        "RECH1...  "
       ]
      },
      {
       "output_type": "stream",
       "stream": "stdout",
       "text": [
        "RECH0...  "
       ]
      },
      {
       "output_type": "stream",
       "stream": "stdout",
       "text": [
        "REC11...  "
       ]
      },
      {
       "output_type": "stream",
       "stream": "stdout",
       "text": [
        "RECH2...  "
       ]
      },
      {
       "output_type": "stream",
       "stream": "stdout",
       "text": [
        "REC01...  "
       ]
      },
      {
       "output_type": "stream",
       "stream": "stdout",
       "text": [
        "REC91...  "
       ]
      },
      {
       "output_type": "stream",
       "stream": "stdout",
       "text": [
        "RECH4...  "
       ]
      },
      {
       "output_type": "stream",
       "stream": "stdout",
       "text": [
        "REC94...  "
       ]
      },
      {
       "output_type": "stream",
       "stream": "stdout",
       "text": [
        "REC95...  "
       ]
      },
      {
       "output_type": "stream",
       "stream": "stdout",
       "text": [
        "REC75...  "
       ]
      },
      {
       "output_type": "stream",
       "stream": "stdout",
       "text": [
        "REC43...  "
       ]
      },
      {
       "output_type": "stream",
       "stream": "stdout",
       "text": [
        "REC42...  "
       ]
      },
      {
       "output_type": "stream",
       "stream": "stdout",
       "text": [
        "REC41...  "
       ]
      },
      {
       "output_type": "stream",
       "stream": "stdout",
       "text": [
        "REC71...  "
       ]
      },
      {
       "output_type": "stream",
       "stream": "stdout",
       "text": [
        "Survey 248 table RECHM2 does not exist!\n",
        "REC44... "
       ]
      },
      {
       "output_type": "stream",
       "stream": "stdout",
       "text": [
        " 431\n",
        "431\n"
       ]
      },
      {
       "output_type": "stream",
       "stream": "stdout",
       "text": [
        "\n",
        "Survey 249\n",
        "REC21... "
       ]
      },
      {
       "output_type": "stream",
       "stream": "stdout",
       "text": [
        " REC22...  "
       ]
      },
      {
       "output_type": "stream",
       "stream": "stdout",
       "text": [
        "RECH3...  "
       ]
      },
      {
       "output_type": "stream",
       "stream": "stdout",
       "text": [
        "REC51...  "
       ]
      },
      {
       "output_type": "stream",
       "stream": "stdout",
       "text": [
        "RECH1...  "
       ]
      },
      {
       "output_type": "stream",
       "stream": "stdout",
       "text": [
        "RECH0...  "
       ]
      },
      {
       "output_type": "stream",
       "stream": "stdout",
       "text": [
        "REC11...  "
       ]
      },
      {
       "output_type": "stream",
       "stream": "stdout",
       "text": [
        "RECH2...  "
       ]
      },
      {
       "output_type": "stream",
       "stream": "stdout",
       "text": [
        "REC01...  "
       ]
      },
      {
       "output_type": "stream",
       "stream": "stdout",
       "text": [
        "REC91...  "
       ]
      },
      {
       "output_type": "stream",
       "stream": "stdout",
       "text": [
        "RECH4...  "
       ]
      },
      {
       "output_type": "stream",
       "stream": "stdout",
       "text": [
        "REC94...  "
       ]
      },
      {
       "output_type": "stream",
       "stream": "stdout",
       "text": [
        "REC95...  "
       ]
      },
      {
       "output_type": "stream",
       "stream": "stdout",
       "text": [
        "REC75...  "
       ]
      },
      {
       "output_type": "stream",
       "stream": "stdout",
       "text": [
        "REC43...  "
       ]
      },
      {
       "output_type": "stream",
       "stream": "stdout",
       "text": [
        "REC42...  "
       ]
      },
      {
       "output_type": "stream",
       "stream": "stdout",
       "text": [
        "REC41...  "
       ]
      },
      {
       "output_type": "stream",
       "stream": "stdout",
       "text": [
        "REC71...  "
       ]
      },
      {
       "output_type": "stream",
       "stream": "stdout",
       "text": [
        "Survey 249 table RECHM2 does not exist!\n",
        "REC44... "
       ]
      },
      {
       "output_type": "stream",
       "stream": "stdout",
       "text": [
        " 431\n",
        "431\n"
       ]
      },
      {
       "output_type": "stream",
       "stream": "stdout",
       "text": [
        "\n",
        "Survey 251\n",
        "REC21... "
       ]
      },
      {
       "output_type": "stream",
       "stream": "stdout",
       "text": [
        " REC22...  "
       ]
      },
      {
       "output_type": "stream",
       "stream": "stdout",
       "text": [
        "RECH3...  "
       ]
      },
      {
       "output_type": "stream",
       "stream": "stdout",
       "text": [
        "REC51...  "
       ]
      },
      {
       "output_type": "stream",
       "stream": "stdout",
       "text": [
        "RECH1...  "
       ]
      },
      {
       "output_type": "stream",
       "stream": "stdout",
       "text": [
        "RECH0...  "
       ]
      },
      {
       "output_type": "stream",
       "stream": "stdout",
       "text": [
        "REC11...  "
       ]
      },
      {
       "output_type": "stream",
       "stream": "stdout",
       "text": [
        "RECH2...  "
       ]
      },
      {
       "output_type": "stream",
       "stream": "stdout",
       "text": [
        "REC01...  "
       ]
      },
      {
       "output_type": "stream",
       "stream": "stdout",
       "text": [
        "REC91...  "
       ]
      },
      {
       "output_type": "stream",
       "stream": "stdout",
       "text": [
        "RECH4...  "
       ]
      },
      {
       "output_type": "stream",
       "stream": "stdout",
       "text": [
        "REC94...  "
       ]
      },
      {
       "output_type": "stream",
       "stream": "stdout",
       "text": [
        "REC95...  "
       ]
      },
      {
       "output_type": "stream",
       "stream": "stdout",
       "text": [
        "REC75...  "
       ]
      },
      {
       "output_type": "stream",
       "stream": "stdout",
       "text": [
        "REC43...  "
       ]
      },
      {
       "output_type": "stream",
       "stream": "stdout",
       "text": [
        "REC42...  "
       ]
      },
      {
       "output_type": "stream",
       "stream": "stdout",
       "text": [
        "REC41...  "
       ]
      },
      {
       "output_type": "stream",
       "stream": "stdout",
       "text": [
        "REC71...  "
       ]
      },
      {
       "output_type": "stream",
       "stream": "stdout",
       "text": [
        "Survey 251 table RECHM2 does not exist!\n",
        "REC44... "
       ]
      },
      {
       "output_type": "stream",
       "stream": "stdout",
       "text": [
        " 431\n",
        "431\n"
       ]
      },
      {
       "output_type": "stream",
       "stream": "stdout",
       "text": [
        "\n",
        "Survey 252\n",
        "REC21... "
       ]
      },
      {
       "output_type": "stream",
       "stream": "stdout",
       "text": [
        " REC22...  "
       ]
      },
      {
       "output_type": "stream",
       "stream": "stdout",
       "text": [
        "RECH3...  "
       ]
      },
      {
       "output_type": "stream",
       "stream": "stdout",
       "text": [
        "REC51...  "
       ]
      },
      {
       "output_type": "stream",
       "stream": "stdout",
       "text": [
        "RECH1...  "
       ]
      },
      {
       "output_type": "stream",
       "stream": "stdout",
       "text": [
        "RECH0...  "
       ]
      },
      {
       "output_type": "stream",
       "stream": "stdout",
       "text": [
        "REC11...  "
       ]
      },
      {
       "output_type": "stream",
       "stream": "stdout",
       "text": [
        "RECH2...  "
       ]
      },
      {
       "output_type": "stream",
       "stream": "stdout",
       "text": [
        "REC01...  "
       ]
      },
      {
       "output_type": "stream",
       "stream": "stdout",
       "text": [
        "REC91...  "
       ]
      },
      {
       "output_type": "stream",
       "stream": "stdout",
       "text": [
        "RECH4...  "
       ]
      },
      {
       "output_type": "stream",
       "stream": "stdout",
       "text": [
        "REC94...  "
       ]
      },
      {
       "output_type": "stream",
       "stream": "stdout",
       "text": [
        "REC95...  "
       ]
      },
      {
       "output_type": "stream",
       "stream": "stdout",
       "text": [
        "REC75...  "
       ]
      },
      {
       "output_type": "stream",
       "stream": "stdout",
       "text": [
        "REC43...  "
       ]
      },
      {
       "output_type": "stream",
       "stream": "stdout",
       "text": [
        "REC42...  "
       ]
      },
      {
       "output_type": "stream",
       "stream": "stdout",
       "text": [
        "REC41...  "
       ]
      },
      {
       "output_type": "stream",
       "stream": "stdout",
       "text": [
        "REC71...  "
       ]
      },
      {
       "output_type": "stream",
       "stream": "stdout",
       "text": [
        "Survey 252 table RECHM2 does not exist!\n",
        "REC44... "
       ]
      },
      {
       "output_type": "stream",
       "stream": "stdout",
       "text": [
        " 431\n",
        "431\n"
       ]
      },
      {
       "output_type": "stream",
       "stream": "stdout",
       "text": [
        "\n",
        "Survey 256\n",
        "REC21... "
       ]
      },
      {
       "output_type": "stream",
       "stream": "stdout",
       "text": [
        " REC22...  "
       ]
      },
      {
       "output_type": "stream",
       "stream": "stdout",
       "text": [
        "RECH3...  "
       ]
      },
      {
       "output_type": "stream",
       "stream": "stdout",
       "text": [
        "REC51...  "
       ]
      },
      {
       "output_type": "stream",
       "stream": "stdout",
       "text": [
        "RECH1...  "
       ]
      },
      {
       "output_type": "stream",
       "stream": "stdout",
       "text": [
        "RECH0...  "
       ]
      },
      {
       "output_type": "stream",
       "stream": "stdout",
       "text": [
        "REC11...  "
       ]
      },
      {
       "output_type": "stream",
       "stream": "stdout",
       "text": [
        "RECH2...  "
       ]
      },
      {
       "output_type": "stream",
       "stream": "stdout",
       "text": [
        "REC01...  "
       ]
      },
      {
       "output_type": "stream",
       "stream": "stdout",
       "text": [
        "REC91...  "
       ]
      },
      {
       "output_type": "stream",
       "stream": "stdout",
       "text": [
        "RECH4...  "
       ]
      },
      {
       "output_type": "stream",
       "stream": "stdout",
       "text": [
        "REC94...  "
       ]
      },
      {
       "output_type": "stream",
       "stream": "stdout",
       "text": [
        "REC95...  "
       ]
      },
      {
       "output_type": "stream",
       "stream": "stdout",
       "text": [
        "REC75...  "
       ]
      },
      {
       "output_type": "stream",
       "stream": "stdout",
       "text": [
        "REC43...  "
       ]
      },
      {
       "output_type": "stream",
       "stream": "stdout",
       "text": [
        "REC42...  "
       ]
      },
      {
       "output_type": "stream",
       "stream": "stdout",
       "text": [
        "REC41...  "
       ]
      },
      {
       "output_type": "stream",
       "stream": "stdout",
       "text": [
        "REC71...  "
       ]
      },
      {
       "output_type": "stream",
       "stream": "stdout",
       "text": [
        "Survey 256 table RECHM2 does not exist!\n",
        "REC44... "
       ]
      },
      {
       "output_type": "stream",
       "stream": "stdout",
       "text": [
        " 431\n",
        "431\n"
       ]
      },
      {
       "output_type": "stream",
       "stream": "stdout",
       "text": [
        "\n",
        "Survey 259\n",
        "REC21... "
       ]
      },
      {
       "output_type": "stream",
       "stream": "stdout",
       "text": [
        " REC22...  "
       ]
      },
      {
       "output_type": "stream",
       "stream": "stdout",
       "text": [
        "RECH3...  "
       ]
      },
      {
       "output_type": "stream",
       "stream": "stdout",
       "text": [
        "REC51...  "
       ]
      },
      {
       "output_type": "stream",
       "stream": "stdout",
       "text": [
        "RECH1...  "
       ]
      },
      {
       "output_type": "stream",
       "stream": "stdout",
       "text": [
        "RECH0...  "
       ]
      },
      {
       "output_type": "stream",
       "stream": "stdout",
       "text": [
        "REC11...  "
       ]
      },
      {
       "output_type": "stream",
       "stream": "stdout",
       "text": [
        "RECH2...  "
       ]
      },
      {
       "output_type": "stream",
       "stream": "stdout",
       "text": [
        "REC01...  "
       ]
      },
      {
       "output_type": "stream",
       "stream": "stdout",
       "text": [
        "REC91...  "
       ]
      },
      {
       "output_type": "stream",
       "stream": "stdout",
       "text": [
        "RECH4...  "
       ]
      },
      {
       "output_type": "stream",
       "stream": "stdout",
       "text": [
        "REC94...  "
       ]
      },
      {
       "output_type": "stream",
       "stream": "stdout",
       "text": [
        "REC95...  "
       ]
      },
      {
       "output_type": "stream",
       "stream": "stdout",
       "text": [
        "REC75...  "
       ]
      },
      {
       "output_type": "stream",
       "stream": "stdout",
       "text": [
        "REC43...  "
       ]
      },
      {
       "output_type": "stream",
       "stream": "stdout",
       "text": [
        "REC42...  "
       ]
      },
      {
       "output_type": "stream",
       "stream": "stdout",
       "text": [
        "REC41...  "
       ]
      },
      {
       "output_type": "stream",
       "stream": "stdout",
       "text": [
        "REC71...  "
       ]
      },
      {
       "output_type": "stream",
       "stream": "stdout",
       "text": [
        "Survey 259 table RECHM2 does not exist!\n",
        "REC44... "
       ]
      },
      {
       "output_type": "stream",
       "stream": "stdout",
       "text": [
        " 431\n",
        "431\n"
       ]
      },
      {
       "output_type": "stream",
       "stream": "stdout",
       "text": [
        "\n",
        "Survey 260\n",
        "REC21... "
       ]
      },
      {
       "output_type": "stream",
       "stream": "stdout",
       "text": [
        " REC22...  "
       ]
      },
      {
       "output_type": "stream",
       "stream": "stdout",
       "text": [
        "RECH3...  "
       ]
      },
      {
       "output_type": "stream",
       "stream": "stdout",
       "text": [
        "REC51...  "
       ]
      },
      {
       "output_type": "stream",
       "stream": "stdout",
       "text": [
        "RECH1...  "
       ]
      },
      {
       "output_type": "stream",
       "stream": "stdout",
       "text": [
        "RECH0...  "
       ]
      },
      {
       "output_type": "stream",
       "stream": "stdout",
       "text": [
        "REC11...  "
       ]
      },
      {
       "output_type": "stream",
       "stream": "stdout",
       "text": [
        "RECH2...  "
       ]
      },
      {
       "output_type": "stream",
       "stream": "stdout",
       "text": [
        "REC01...  "
       ]
      },
      {
       "output_type": "stream",
       "stream": "stdout",
       "text": [
        "REC91...  "
       ]
      },
      {
       "output_type": "stream",
       "stream": "stdout",
       "text": [
        "RECH4...  "
       ]
      },
      {
       "output_type": "stream",
       "stream": "stdout",
       "text": [
        "REC94...  "
       ]
      },
      {
       "output_type": "stream",
       "stream": "stdout",
       "text": [
        "REC95...  "
       ]
      },
      {
       "output_type": "stream",
       "stream": "stdout",
       "text": [
        "REC75...  "
       ]
      },
      {
       "output_type": "stream",
       "stream": "stdout",
       "text": [
        "REC43...  "
       ]
      },
      {
       "output_type": "stream",
       "stream": "stdout",
       "text": [
        "REC42...  "
       ]
      },
      {
       "output_type": "stream",
       "stream": "stdout",
       "text": [
        "REC41...  "
       ]
      },
      {
       "output_type": "stream",
       "stream": "stdout",
       "text": [
        "REC71...  "
       ]
      },
      {
       "output_type": "stream",
       "stream": "stdout",
       "text": [
        "Survey 260 table RECHM2 does not exist!\n",
        "REC44... "
       ]
      },
      {
       "output_type": "stream",
       "stream": "stdout",
       "text": [
        " 431\n",
        "431\n"
       ]
      },
      {
       "output_type": "stream",
       "stream": "stdout",
       "text": [
        "\n",
        "Survey 266\n",
        "REC21... "
       ]
      },
      {
       "output_type": "stream",
       "stream": "stdout",
       "text": [
        " REC22...  "
       ]
      },
      {
       "output_type": "stream",
       "stream": "stdout",
       "text": [
        "RECH3...  "
       ]
      },
      {
       "output_type": "stream",
       "stream": "stdout",
       "text": [
        "REC51...  "
       ]
      },
      {
       "output_type": "stream",
       "stream": "stdout",
       "text": [
        "RECH1...  "
       ]
      },
      {
       "output_type": "stream",
       "stream": "stdout",
       "text": [
        "RECH0...  "
       ]
      },
      {
       "output_type": "stream",
       "stream": "stdout",
       "text": [
        "REC11...  "
       ]
      },
      {
       "output_type": "stream",
       "stream": "stdout",
       "text": [
        "RECH2...  "
       ]
      },
      {
       "output_type": "stream",
       "stream": "stdout",
       "text": [
        "REC01...  "
       ]
      },
      {
       "output_type": "stream",
       "stream": "stdout",
       "text": [
        "REC91...  "
       ]
      },
      {
       "output_type": "stream",
       "stream": "stdout",
       "text": [
        "RECH4...  "
       ]
      },
      {
       "output_type": "stream",
       "stream": "stdout",
       "text": [
        "REC94...  "
       ]
      },
      {
       "output_type": "stream",
       "stream": "stdout",
       "text": [
        "REC95...  "
       ]
      },
      {
       "output_type": "stream",
       "stream": "stdout",
       "text": [
        "REC75...  "
       ]
      },
      {
       "output_type": "stream",
       "stream": "stdout",
       "text": [
        "REC43...  "
       ]
      },
      {
       "output_type": "stream",
       "stream": "stdout",
       "text": [
        "REC42...  "
       ]
      },
      {
       "output_type": "stream",
       "stream": "stdout",
       "text": [
        "REC41...  "
       ]
      },
      {
       "output_type": "stream",
       "stream": "stdout",
       "text": [
        "REC71...  "
       ]
      },
      {
       "output_type": "stream",
       "stream": "stdout",
       "text": [
        "Survey 266 table RECHM2 does not exist!\n",
        "REC44... "
       ]
      },
      {
       "output_type": "stream",
       "stream": "stdout",
       "text": [
        " 431\n",
        "431\n"
       ]
      },
      {
       "output_type": "stream",
       "stream": "stdout",
       "text": [
        "\n",
        "Survey 271\n",
        "REC21... "
       ]
      },
      {
       "output_type": "stream",
       "stream": "stdout",
       "text": [
        " REC22...  "
       ]
      },
      {
       "output_type": "stream",
       "stream": "stdout",
       "text": [
        "RECH3...  "
       ]
      },
      {
       "output_type": "stream",
       "stream": "stdout",
       "text": [
        "REC51...  "
       ]
      },
      {
       "output_type": "stream",
       "stream": "stdout",
       "text": [
        "RECH1...  "
       ]
      },
      {
       "output_type": "stream",
       "stream": "stdout",
       "text": [
        "RECH0...  "
       ]
      },
      {
       "output_type": "stream",
       "stream": "stdout",
       "text": [
        "REC11...  "
       ]
      },
      {
       "output_type": "stream",
       "stream": "stdout",
       "text": [
        "RECH2...  "
       ]
      },
      {
       "output_type": "stream",
       "stream": "stdout",
       "text": [
        "REC01...  "
       ]
      },
      {
       "output_type": "stream",
       "stream": "stdout",
       "text": [
        "REC91...  "
       ]
      },
      {
       "output_type": "stream",
       "stream": "stdout",
       "text": [
        "RECH4...  "
       ]
      },
      {
       "output_type": "stream",
       "stream": "stdout",
       "text": [
        "Survey 271 table REC94 does not exist!\n",
        "REC95... "
       ]
      },
      {
       "output_type": "stream",
       "stream": "stdout",
       "text": [
        " REC75...  "
       ]
      },
      {
       "output_type": "stream",
       "stream": "stdout",
       "text": [
        "REC43...  "
       ]
      },
      {
       "output_type": "stream",
       "stream": "stdout",
       "text": [
        "REC42...  "
       ]
      },
      {
       "output_type": "stream",
       "stream": "stdout",
       "text": [
        "REC41...  "
       ]
      },
      {
       "output_type": "stream",
       "stream": "stdout",
       "text": [
        "REC71...  "
       ]
      },
      {
       "output_type": "stream",
       "stream": "stdout",
       "text": [
        "Survey 271 table RECHM2 does not exist!\n",
        "REC44... "
       ]
      },
      {
       "output_type": "stream",
       "stream": "stdout",
       "text": [
        " 407\n",
        "407\n"
       ]
      },
      {
       "output_type": "stream",
       "stream": "stdout",
       "text": [
        "\n",
        "Survey 276\n",
        "REC21... "
       ]
      },
      {
       "output_type": "stream",
       "stream": "stdout",
       "text": [
        " REC22...  "
       ]
      },
      {
       "output_type": "stream",
       "stream": "stdout",
       "text": [
        "RECH3...  "
       ]
      },
      {
       "output_type": "stream",
       "stream": "stdout",
       "text": [
        "REC51...  "
       ]
      },
      {
       "output_type": "stream",
       "stream": "stdout",
       "text": [
        "RECH1...  "
       ]
      },
      {
       "output_type": "stream",
       "stream": "stdout",
       "text": [
        "RECH0...  "
       ]
      },
      {
       "output_type": "stream",
       "stream": "stdout",
       "text": [
        "REC11...  "
       ]
      },
      {
       "output_type": "stream",
       "stream": "stdout",
       "text": [
        "RECH2...  "
       ]
      },
      {
       "output_type": "stream",
       "stream": "stdout",
       "text": [
        "REC01...  "
       ]
      },
      {
       "output_type": "stream",
       "stream": "stdout",
       "text": [
        "REC91...  "
       ]
      },
      {
       "output_type": "stream",
       "stream": "stdout",
       "text": [
        "RECH4...  "
       ]
      },
      {
       "output_type": "stream",
       "stream": "stdout",
       "text": [
        "REC94...  "
       ]
      },
      {
       "output_type": "stream",
       "stream": "stdout",
       "text": [
        "REC95...  "
       ]
      },
      {
       "output_type": "stream",
       "stream": "stdout",
       "text": [
        "REC75...  "
       ]
      },
      {
       "output_type": "stream",
       "stream": "stdout",
       "text": [
        "REC43...  "
       ]
      },
      {
       "output_type": "stream",
       "stream": "stdout",
       "text": [
        "REC42...  "
       ]
      },
      {
       "output_type": "stream",
       "stream": "stdout",
       "text": [
        "REC41...  "
       ]
      },
      {
       "output_type": "stream",
       "stream": "stdout",
       "text": [
        "REC71...  "
       ]
      },
      {
       "output_type": "stream",
       "stream": "stdout",
       "text": [
        "Survey 276 table RECHM2 does not exist!\n",
        "REC44... "
       ]
      },
      {
       "output_type": "stream",
       "stream": "stdout",
       "text": [
        " 433\n",
        "433\n"
       ]
      },
      {
       "output_type": "stream",
       "stream": "stdout",
       "text": [
        "\n",
        "Survey 277\n",
        "REC21... "
       ]
      },
      {
       "output_type": "stream",
       "stream": "stdout",
       "text": [
        " REC22...  "
       ]
      },
      {
       "output_type": "stream",
       "stream": "stdout",
       "text": [
        "RECH3...  "
       ]
      },
      {
       "output_type": "stream",
       "stream": "stdout",
       "text": [
        "REC51...  "
       ]
      },
      {
       "output_type": "stream",
       "stream": "stdout",
       "text": [
        "RECH1...  "
       ]
      },
      {
       "output_type": "stream",
       "stream": "stdout",
       "text": [
        "RECH0...  "
       ]
      },
      {
       "output_type": "stream",
       "stream": "stdout",
       "text": [
        "REC11...  "
       ]
      },
      {
       "output_type": "stream",
       "stream": "stdout",
       "text": [
        "RECH2...  "
       ]
      },
      {
       "output_type": "stream",
       "stream": "stdout",
       "text": [
        "REC01...  "
       ]
      },
      {
       "output_type": "stream",
       "stream": "stdout",
       "text": [
        "REC91...  "
       ]
      },
      {
       "output_type": "stream",
       "stream": "stdout",
       "text": [
        "RECH4...  "
       ]
      },
      {
       "output_type": "stream",
       "stream": "stdout",
       "text": [
        "REC94...  "
       ]
      },
      {
       "output_type": "stream",
       "stream": "stdout",
       "text": [
        "REC95...  "
       ]
      },
      {
       "output_type": "stream",
       "stream": "stdout",
       "text": [
        "REC75...  "
       ]
      },
      {
       "output_type": "stream",
       "stream": "stdout",
       "text": [
        "REC43...  "
       ]
      },
      {
       "output_type": "stream",
       "stream": "stdout",
       "text": [
        "REC42...  "
       ]
      },
      {
       "output_type": "stream",
       "stream": "stdout",
       "text": [
        "REC41...  "
       ]
      },
      {
       "output_type": "stream",
       "stream": "stdout",
       "text": [
        "REC71...  "
       ]
      },
      {
       "output_type": "stream",
       "stream": "stdout",
       "text": [
        "Survey 277 table RECHM2 does not exist!\n",
        "REC44... "
       ]
      },
      {
       "output_type": "stream",
       "stream": "stdout",
       "text": [
        " 433\n",
        "433\n"
       ]
      },
      {
       "output_type": "stream",
       "stream": "stdout",
       "text": [
        "\n",
        "Survey 278\n",
        "REC21... "
       ]
      },
      {
       "output_type": "stream",
       "stream": "stdout",
       "text": [
        " REC22...  "
       ]
      },
      {
       "output_type": "stream",
       "stream": "stdout",
       "text": [
        "RECH3...  "
       ]
      },
      {
       "output_type": "stream",
       "stream": "stdout",
       "text": [
        "REC51...  "
       ]
      },
      {
       "output_type": "stream",
       "stream": "stdout",
       "text": [
        "RECH1...  "
       ]
      },
      {
       "output_type": "stream",
       "stream": "stdout",
       "text": [
        "RECH0...  "
       ]
      },
      {
       "output_type": "stream",
       "stream": "stdout",
       "text": [
        "REC11...  "
       ]
      },
      {
       "output_type": "stream",
       "stream": "stdout",
       "text": [
        "RECH2...  "
       ]
      },
      {
       "output_type": "stream",
       "stream": "stdout",
       "text": [
        "REC01...  "
       ]
      },
      {
       "output_type": "stream",
       "stream": "stdout",
       "text": [
        "REC91...  "
       ]
      },
      {
       "output_type": "stream",
       "stream": "stdout",
       "text": [
        "RECH4...  "
       ]
      },
      {
       "output_type": "stream",
       "stream": "stdout",
       "text": [
        "REC94...  "
       ]
      },
      {
       "output_type": "stream",
       "stream": "stdout",
       "text": [
        "REC95...  "
       ]
      },
      {
       "output_type": "stream",
       "stream": "stdout",
       "text": [
        "REC75...  "
       ]
      },
      {
       "output_type": "stream",
       "stream": "stdout",
       "text": [
        "REC43...  "
       ]
      },
      {
       "output_type": "stream",
       "stream": "stdout",
       "text": [
        "REC42...  "
       ]
      },
      {
       "output_type": "stream",
       "stream": "stdout",
       "text": [
        "REC41...  "
       ]
      },
      {
       "output_type": "stream",
       "stream": "stdout",
       "text": [
        "REC71...  "
       ]
      },
      {
       "output_type": "stream",
       "stream": "stdout",
       "text": [
        "Survey 278 table RECHM2 does not exist!\n",
        "REC44... "
       ]
      },
      {
       "output_type": "stream",
       "stream": "stdout",
       "text": [
        " 433\n",
        "433\n"
       ]
      },
      {
       "output_type": "stream",
       "stream": "stdout",
       "text": [
        "\n",
        "Survey 282\n",
        "REC21... "
       ]
      },
      {
       "output_type": "stream",
       "stream": "stdout",
       "text": [
        " REC22...  "
       ]
      },
      {
       "output_type": "stream",
       "stream": "stdout",
       "text": [
        "RECH3...  "
       ]
      },
      {
       "output_type": "stream",
       "stream": "stdout",
       "text": [
        "Survey 282 table REC51 does not exist!\n",
        "RECH1... "
       ]
      },
      {
       "output_type": "stream",
       "stream": "stdout",
       "text": [
        " RECH0...  "
       ]
      },
      {
       "output_type": "stream",
       "stream": "stdout",
       "text": [
        "REC11...  "
       ]
      },
      {
       "output_type": "stream",
       "stream": "stdout",
       "text": [
        "RECH2...  "
       ]
      },
      {
       "output_type": "stream",
       "stream": "stdout",
       "text": [
        "REC01...  "
       ]
      },
      {
       "output_type": "stream",
       "stream": "stdout",
       "text": [
        "REC91...  "
       ]
      },
      {
       "output_type": "stream",
       "stream": "stdout",
       "text": [
        "Survey 282 table RECH4 does not exist!\n",
        "Survey 282 table REC94 does not exist!"
       ]
      },
      {
       "output_type": "stream",
       "stream": "stdout",
       "text": [
        "\n",
        "Survey 282 table REC95 does not exist!"
       ]
      },
      {
       "output_type": "stream",
       "stream": "stdout",
       "text": [
        "\n",
        "Survey 282 table REC75 does not exist!"
       ]
      },
      {
       "output_type": "stream",
       "stream": "stdout",
       "text": [
        "\n",
        "REC43... "
       ]
      },
      {
       "output_type": "stream",
       "stream": "stdout",
       "text": [
        " REC42...  "
       ]
      },
      {
       "output_type": "stream",
       "stream": "stdout",
       "text": [
        "REC41...  "
       ]
      },
      {
       "output_type": "stream",
       "stream": "stdout",
       "text": [
        "Survey 282 table REC71 does not exist!\n",
        "RECHM2... "
       ]
      },
      {
       "output_type": "stream",
       "stream": "stdout",
       "text": [
        " REC44...  "
       ]
      },
      {
       "output_type": "stream",
       "stream": "stdout",
       "text": [
        "309\n",
        "309\n"
       ]
      },
      {
       "output_type": "stream",
       "stream": "stdout",
       "text": [
        "\n",
        "Survey 284\n",
        "REC21... "
       ]
      },
      {
       "output_type": "stream",
       "stream": "stdout",
       "text": [
        " REC22...  "
       ]
      },
      {
       "output_type": "stream",
       "stream": "stdout",
       "text": [
        "RECH3...  "
       ]
      },
      {
       "output_type": "stream",
       "stream": "stdout",
       "text": [
        "REC51...  "
       ]
      },
      {
       "output_type": "stream",
       "stream": "stdout",
       "text": [
        "RECH1...  "
       ]
      },
      {
       "output_type": "stream",
       "stream": "stdout",
       "text": [
        "RECH0...  "
       ]
      },
      {
       "output_type": "stream",
       "stream": "stdout",
       "text": [
        "REC11...  "
       ]
      },
      {
       "output_type": "stream",
       "stream": "stdout",
       "text": [
        "RECH2...  "
       ]
      },
      {
       "output_type": "stream",
       "stream": "stdout",
       "text": [
        "REC01...  "
       ]
      },
      {
       "output_type": "stream",
       "stream": "stdout",
       "text": [
        "REC91...  "
       ]
      },
      {
       "output_type": "stream",
       "stream": "stdout",
       "text": [
        "Survey 284 table RECH4 does not exist!\n",
        "REC94... "
       ]
      },
      {
       "output_type": "stream",
       "stream": "stdout",
       "text": [
        " REC95...  "
       ]
      },
      {
       "output_type": "stream",
       "stream": "stdout",
       "text": [
        "REC75...  "
       ]
      },
      {
       "output_type": "stream",
       "stream": "stdout",
       "text": [
        "REC43...  "
       ]
      },
      {
       "output_type": "stream",
       "stream": "stdout",
       "text": [
        "REC42...  "
       ]
      },
      {
       "output_type": "stream",
       "stream": "stdout",
       "text": [
        "REC41...  "
       ]
      },
      {
       "output_type": "stream",
       "stream": "stdout",
       "text": [
        "REC71...  "
       ]
      },
      {
       "output_type": "stream",
       "stream": "stdout",
       "text": [
        "Survey 284 table RECHM2 does not exist!\n",
        "REC44... "
       ]
      },
      {
       "output_type": "stream",
       "stream": "stdout",
       "text": [
        " 431\n",
        "431\n"
       ]
      },
      {
       "output_type": "stream",
       "stream": "stdout",
       "text": [
        "\n",
        "Survey 296\n",
        "REC21... "
       ]
      },
      {
       "output_type": "stream",
       "stream": "stdout",
       "text": [
        " REC22...  "
       ]
      },
      {
       "output_type": "stream",
       "stream": "stdout",
       "text": [
        "RECH3...  "
       ]
      },
      {
       "output_type": "stream",
       "stream": "stdout",
       "text": [
        "REC51...  "
       ]
      },
      {
       "output_type": "stream",
       "stream": "stdout",
       "text": [
        "RECH1...  "
       ]
      },
      {
       "output_type": "stream",
       "stream": "stdout",
       "text": [
        "RECH0...  "
       ]
      },
      {
       "output_type": "stream",
       "stream": "stdout",
       "text": [
        "REC11...  "
       ]
      },
      {
       "output_type": "stream",
       "stream": "stdout",
       "text": [
        "RECH2...  "
       ]
      },
      {
       "output_type": "stream",
       "stream": "stdout",
       "text": [
        "REC01...  "
       ]
      },
      {
       "output_type": "stream",
       "stream": "stdout",
       "text": [
        "REC91...  "
       ]
      },
      {
       "output_type": "stream",
       "stream": "stdout",
       "text": [
        "RECH4...  "
       ]
      },
      {
       "output_type": "stream",
       "stream": "stdout",
       "text": [
        "Survey 296 table REC94 does not exist!\n",
        "REC95... "
       ]
      },
      {
       "output_type": "stream",
       "stream": "stdout",
       "text": [
        " REC75...  "
       ]
      },
      {
       "output_type": "stream",
       "stream": "stdout",
       "text": [
        "REC43...  "
       ]
      },
      {
       "output_type": "stream",
       "stream": "stdout",
       "text": [
        "REC42...  "
       ]
      },
      {
       "output_type": "stream",
       "stream": "stdout",
       "text": [
        "REC41...  "
       ]
      },
      {
       "output_type": "stream",
       "stream": "stdout",
       "text": [
        "REC71...  "
       ]
      },
      {
       "output_type": "stream",
       "stream": "stdout",
       "text": [
        "Survey 296 table RECHM2 does not exist!\n",
        "REC44... "
       ]
      },
      {
       "output_type": "stream",
       "stream": "stdout",
       "text": [
        " 409\n",
        "409\n"
       ]
      },
      {
       "output_type": "stream",
       "stream": "stdout",
       "text": [
        "\n",
        "Survey 300\n",
        "REC21... "
       ]
      },
      {
       "output_type": "stream",
       "stream": "stdout",
       "text": [
        " REC22...  "
       ]
      },
      {
       "output_type": "stream",
       "stream": "stdout",
       "text": [
        "RECH3...  "
       ]
      },
      {
       "output_type": "stream",
       "stream": "stdout",
       "text": [
        "REC51...  "
       ]
      },
      {
       "output_type": "stream",
       "stream": "stdout",
       "text": [
        "RECH1...  "
       ]
      },
      {
       "output_type": "stream",
       "stream": "stdout",
       "text": [
        "RECH0...  "
       ]
      },
      {
       "output_type": "stream",
       "stream": "stdout",
       "text": [
        "REC11...  "
       ]
      },
      {
       "output_type": "stream",
       "stream": "stdout",
       "text": [
        "RECH2...  "
       ]
      },
      {
       "output_type": "stream",
       "stream": "stdout",
       "text": [
        "REC01...  "
       ]
      },
      {
       "output_type": "stream",
       "stream": "stdout",
       "text": [
        "REC91...  "
       ]
      },
      {
       "output_type": "stream",
       "stream": "stdout",
       "text": [
        "RECH4...  "
       ]
      },
      {
       "output_type": "stream",
       "stream": "stdout",
       "text": [
        "REC94...  "
       ]
      },
      {
       "output_type": "stream",
       "stream": "stdout",
       "text": [
        "REC95...  "
       ]
      },
      {
       "output_type": "stream",
       "stream": "stdout",
       "text": [
        "REC75...  "
       ]
      },
      {
       "output_type": "stream",
       "stream": "stdout",
       "text": [
        "REC43...  "
       ]
      },
      {
       "output_type": "stream",
       "stream": "stdout",
       "text": [
        "REC42...  "
       ]
      },
      {
       "output_type": "stream",
       "stream": "stdout",
       "text": [
        "REC41...  "
       ]
      },
      {
       "output_type": "stream",
       "stream": "stdout",
       "text": [
        "REC71...  "
       ]
      },
      {
       "output_type": "stream",
       "stream": "stdout",
       "text": [
        "Survey 300 table RECHM2 does not exist!\n",
        "REC44... "
       ]
      },
      {
       "output_type": "stream",
       "stream": "stdout",
       "text": [
        " 433\n",
        "433\n"
       ]
      },
      {
       "output_type": "stream",
       "stream": "stdout",
       "text": [
        "\n",
        "Survey 301\n",
        "REC21... "
       ]
      },
      {
       "output_type": "stream",
       "stream": "stdout",
       "text": [
        " REC22...  "
       ]
      },
      {
       "output_type": "stream",
       "stream": "stdout",
       "text": [
        "RECH3...  "
       ]
      },
      {
       "output_type": "stream",
       "stream": "stdout",
       "text": [
        "REC51...  "
       ]
      },
      {
       "output_type": "stream",
       "stream": "stdout",
       "text": [
        "RECH1...  "
       ]
      },
      {
       "output_type": "stream",
       "stream": "stdout",
       "text": [
        "RECH0...  "
       ]
      },
      {
       "output_type": "stream",
       "stream": "stdout",
       "text": [
        "REC11...  "
       ]
      },
      {
       "output_type": "stream",
       "stream": "stdout",
       "text": [
        "RECH2...  "
       ]
      },
      {
       "output_type": "stream",
       "stream": "stdout",
       "text": [
        "REC01...  "
       ]
      },
      {
       "output_type": "stream",
       "stream": "stdout",
       "text": [
        "REC91...  "
       ]
      },
      {
       "output_type": "stream",
       "stream": "stdout",
       "text": [
        "RECH4...  "
       ]
      },
      {
       "output_type": "stream",
       "stream": "stdout",
       "text": [
        "REC94...  "
       ]
      },
      {
       "output_type": "stream",
       "stream": "stdout",
       "text": [
        "REC95...  "
       ]
      },
      {
       "output_type": "stream",
       "stream": "stdout",
       "text": [
        "REC75...  "
       ]
      },
      {
       "output_type": "stream",
       "stream": "stdout",
       "text": [
        "REC43...  "
       ]
      },
      {
       "output_type": "stream",
       "stream": "stdout",
       "text": [
        "REC42...  "
       ]
      },
      {
       "output_type": "stream",
       "stream": "stdout",
       "text": [
        "REC41...  "
       ]
      },
      {
       "output_type": "stream",
       "stream": "stdout",
       "text": [
        "REC71...  "
       ]
      },
      {
       "output_type": "stream",
       "stream": "stdout",
       "text": [
        "Survey 301 table RECHM2 does not exist!\n",
        "REC44... "
       ]
      },
      {
       "output_type": "stream",
       "stream": "stdout",
       "text": [
        " 433\n",
        "433\n"
       ]
      },
      {
       "output_type": "stream",
       "stream": "stdout",
       "text": [
        "\n",
        "Survey 302\n",
        "REC21... "
       ]
      },
      {
       "output_type": "stream",
       "stream": "stdout",
       "text": [
        " REC22...  "
       ]
      },
      {
       "output_type": "stream",
       "stream": "stdout",
       "text": [
        "RECH3...  "
       ]
      },
      {
       "output_type": "stream",
       "stream": "stdout",
       "text": [
        "REC51...  "
       ]
      },
      {
       "output_type": "stream",
       "stream": "stdout",
       "text": [
        "RECH1...  "
       ]
      },
      {
       "output_type": "stream",
       "stream": "stdout",
       "text": [
        "RECH0...  "
       ]
      },
      {
       "output_type": "stream",
       "stream": "stdout",
       "text": [
        "REC11...  "
       ]
      },
      {
       "output_type": "stream",
       "stream": "stdout",
       "text": [
        "RECH2...  "
       ]
      },
      {
       "output_type": "stream",
       "stream": "stdout",
       "text": [
        "REC01...  "
       ]
      },
      {
       "output_type": "stream",
       "stream": "stdout",
       "text": [
        "REC91...  "
       ]
      },
      {
       "output_type": "stream",
       "stream": "stdout",
       "text": [
        "RECH4...  "
       ]
      },
      {
       "output_type": "stream",
       "stream": "stdout",
       "text": [
        "REC94...  "
       ]
      },
      {
       "output_type": "stream",
       "stream": "stdout",
       "text": [
        "REC95...  "
       ]
      },
      {
       "output_type": "stream",
       "stream": "stdout",
       "text": [
        "REC75...  "
       ]
      },
      {
       "output_type": "stream",
       "stream": "stdout",
       "text": [
        "REC43...  "
       ]
      },
      {
       "output_type": "stream",
       "stream": "stdout",
       "text": [
        "REC42...  "
       ]
      },
      {
       "output_type": "stream",
       "stream": "stdout",
       "text": [
        "REC41...  "
       ]
      },
      {
       "output_type": "stream",
       "stream": "stdout",
       "text": [
        "REC71...  "
       ]
      },
      {
       "output_type": "stream",
       "stream": "stdout",
       "text": [
        "Survey 302 table RECHM2 does not exist!\n",
        "REC44... "
       ]
      },
      {
       "output_type": "stream",
       "stream": "stdout",
       "text": [
        " 433\n",
        "433\n"
       ]
      },
      {
       "output_type": "stream",
       "stream": "stdout",
       "text": [
        "\n",
        "Survey 317\n",
        "REC21... "
       ]
      },
      {
       "output_type": "stream",
       "stream": "stdout",
       "text": [
        " REC22...  "
       ]
      },
      {
       "output_type": "stream",
       "stream": "stdout",
       "text": [
        "RECH3...  "
       ]
      },
      {
       "output_type": "stream",
       "stream": "stdout",
       "text": [
        "REC51...  "
       ]
      },
      {
       "output_type": "stream",
       "stream": "stdout",
       "text": [
        "RECH1...  "
       ]
      },
      {
       "output_type": "stream",
       "stream": "stdout",
       "text": [
        "RECH0...  "
       ]
      },
      {
       "output_type": "stream",
       "stream": "stdout",
       "text": [
        "REC11...  "
       ]
      },
      {
       "output_type": "stream",
       "stream": "stdout",
       "text": [
        "RECH2...  "
       ]
      },
      {
       "output_type": "stream",
       "stream": "stdout",
       "text": [
        "REC01...  "
       ]
      },
      {
       "output_type": "stream",
       "stream": "stdout",
       "text": [
        "REC91...  "
       ]
      },
      {
       "output_type": "stream",
       "stream": "stdout",
       "text": [
        "RECH4...  "
       ]
      },
      {
       "output_type": "stream",
       "stream": "stdout",
       "text": [
        "REC94...  "
       ]
      },
      {
       "output_type": "stream",
       "stream": "stdout",
       "text": [
        "REC95...  "
       ]
      },
      {
       "output_type": "stream",
       "stream": "stdout",
       "text": [
        "REC75...  "
       ]
      },
      {
       "output_type": "stream",
       "stream": "stdout",
       "text": [
        "REC43...  "
       ]
      },
      {
       "output_type": "stream",
       "stream": "stdout",
       "text": [
        "REC42...  "
       ]
      },
      {
       "output_type": "stream",
       "stream": "stdout",
       "text": [
        "REC41...  "
       ]
      },
      {
       "output_type": "stream",
       "stream": "stdout",
       "text": [
        "REC71...  "
       ]
      },
      {
       "output_type": "stream",
       "stream": "stdout",
       "text": [
        "Survey 317 table RECHM2 does not exist!\n",
        "REC44... "
       ]
      },
      {
       "output_type": "stream",
       "stream": "stdout",
       "text": [
        " 434\n",
        "434\n"
       ]
      },
      {
       "output_type": "stream",
       "stream": "stdout",
       "text": [
        "\n",
        "Survey 323\n",
        "REC21... "
       ]
      },
      {
       "output_type": "stream",
       "stream": "stdout",
       "text": [
        " REC22...  "
       ]
      },
      {
       "output_type": "stream",
       "stream": "stdout",
       "text": [
        "RECH3...  "
       ]
      },
      {
       "output_type": "stream",
       "stream": "stdout",
       "text": [
        "REC51...  "
       ]
      },
      {
       "output_type": "stream",
       "stream": "stdout",
       "text": [
        "RECH1...  "
       ]
      },
      {
       "output_type": "stream",
       "stream": "stdout",
       "text": [
        "RECH0...  "
       ]
      },
      {
       "output_type": "stream",
       "stream": "stdout",
       "text": [
        "REC11...  "
       ]
      },
      {
       "output_type": "stream",
       "stream": "stdout",
       "text": [
        "RECH2...  "
       ]
      },
      {
       "output_type": "stream",
       "stream": "stdout",
       "text": [
        "REC01...  "
       ]
      },
      {
       "output_type": "stream",
       "stream": "stdout",
       "text": [
        "REC91...  "
       ]
      },
      {
       "output_type": "stream",
       "stream": "stdout",
       "text": [
        "Survey 323 table RECH4 does not exist!\n",
        "REC94... "
       ]
      },
      {
       "output_type": "stream",
       "stream": "stdout",
       "text": [
        " Survey 323 table REC95 does not exist!\n",
        "Survey 323 table REC75 does not exist!"
       ]
      },
      {
       "output_type": "stream",
       "stream": "stdout",
       "text": [
        "\n",
        "REC43... "
       ]
      },
      {
       "output_type": "stream",
       "stream": "stdout",
       "text": [
        " REC42...  "
       ]
      },
      {
       "output_type": "stream",
       "stream": "stdout",
       "text": [
        "REC41...  "
       ]
      },
      {
       "output_type": "stream",
       "stream": "stdout",
       "text": [
        "Survey 323 table REC71 does not exist!\n",
        "Survey 323 table RECHM2 does not exist!"
       ]
      },
      {
       "output_type": "stream",
       "stream": "stdout",
       "text": [
        "\n",
        "REC44... "
       ]
      },
      {
       "output_type": "stream",
       "stream": "stdout",
       "text": [
        " 341\n",
        "341\n"
       ]
      },
      {
       "output_type": "stream",
       "stream": "stdout",
       "text": [
        "\n",
        "Survey 328\n",
        "REC21... "
       ]
      },
      {
       "output_type": "stream",
       "stream": "stdout",
       "text": [
        " REC22...  "
       ]
      },
      {
       "output_type": "stream",
       "stream": "stdout",
       "text": [
        "RECH3...  "
       ]
      },
      {
       "output_type": "stream",
       "stream": "stdout",
       "text": [
        "REC51...  "
       ]
      },
      {
       "output_type": "stream",
       "stream": "stdout",
       "text": [
        "RECH1...  "
       ]
      },
      {
       "output_type": "stream",
       "stream": "stdout",
       "text": [
        "RECH0...  "
       ]
      },
      {
       "output_type": "stream",
       "stream": "stdout",
       "text": [
        "REC11...  "
       ]
      },
      {
       "output_type": "stream",
       "stream": "stdout",
       "text": [
        "RECH2...  "
       ]
      },
      {
       "output_type": "stream",
       "stream": "stdout",
       "text": [
        "REC01...  "
       ]
      },
      {
       "output_type": "stream",
       "stream": "stdout",
       "text": [
        "REC91...  "
       ]
      },
      {
       "output_type": "stream",
       "stream": "stdout",
       "text": [
        "RECH4...  "
       ]
      },
      {
       "output_type": "stream",
       "stream": "stdout",
       "text": [
        "Survey 328 table REC94 does not exist!\n",
        "REC95... "
       ]
      },
      {
       "output_type": "stream",
       "stream": "stdout",
       "text": [
        " REC75...  "
       ]
      },
      {
       "output_type": "stream",
       "stream": "stdout",
       "text": [
        "REC43...  "
       ]
      },
      {
       "output_type": "stream",
       "stream": "stdout",
       "text": [
        "REC42...  "
       ]
      },
      {
       "output_type": "stream",
       "stream": "stdout",
       "text": [
        "REC41...  "
       ]
      },
      {
       "output_type": "stream",
       "stream": "stdout",
       "text": [
        "REC71...  "
       ]
      },
      {
       "output_type": "stream",
       "stream": "stdout",
       "text": [
        "Survey 328 table RECHM2 does not exist!\n",
        "REC44... "
       ]
      },
      {
       "output_type": "stream",
       "stream": "stdout",
       "text": [
        " 410\n",
        "410\n"
       ]
      },
      {
       "output_type": "stream",
       "stream": "stdout",
       "text": [
        "\n",
        "Survey 330\n",
        "REC21... "
       ]
      },
      {
       "output_type": "stream",
       "stream": "stdout",
       "text": [
        " REC22...  "
       ]
      },
      {
       "output_type": "stream",
       "stream": "stdout",
       "text": [
        "RECH3...  "
       ]
      },
      {
       "output_type": "stream",
       "stream": "stdout",
       "text": [
        "Survey 330 table REC51 does not exist!\n",
        "RECH1... "
       ]
      },
      {
       "output_type": "stream",
       "stream": "stdout",
       "text": [
        " RECH0...  "
       ]
      },
      {
       "output_type": "stream",
       "stream": "stdout",
       "text": [
        "REC11...  "
       ]
      },
      {
       "output_type": "stream",
       "stream": "stdout",
       "text": [
        "RECH2...  "
       ]
      },
      {
       "output_type": "stream",
       "stream": "stdout",
       "text": [
        "REC01...  "
       ]
      },
      {
       "output_type": "stream",
       "stream": "stdout",
       "text": [
        "REC91...  "
       ]
      },
      {
       "output_type": "stream",
       "stream": "stdout",
       "text": [
        "RECH4...  "
       ]
      },
      {
       "output_type": "stream",
       "stream": "stdout",
       "text": [
        "REC94...  "
       ]
      },
      {
       "output_type": "stream",
       "stream": "stdout",
       "text": [
        "REC95...  "
       ]
      },
      {
       "output_type": "stream",
       "stream": "stdout",
       "text": [
        "Survey 330 table REC75 does not exist!\n",
        "REC43... "
       ]
      },
      {
       "output_type": "stream",
       "stream": "stdout",
       "text": [
        " REC42...  "
       ]
      },
      {
       "output_type": "stream",
       "stream": "stdout",
       "text": [
        "REC41...  "
       ]
      },
      {
       "output_type": "stream",
       "stream": "stdout",
       "text": [
        "Survey 330 table REC71 does not exist!\n",
        "RECHM2... "
       ]
      },
      {
       "output_type": "stream",
       "stream": "stdout",
       "text": [
        " REC44...  "
       ]
      },
      {
       "output_type": "stream",
       "stream": "stdout",
       "text": [
        "398\n",
        "398\n"
       ]
      },
      {
       "output_type": "stream",
       "stream": "stdout",
       "text": [
        "\n",
        "Survey 332\n",
        "REC21... "
       ]
      },
      {
       "output_type": "stream",
       "stream": "stdout",
       "text": [
        " REC22...  "
       ]
      },
      {
       "output_type": "stream",
       "stream": "stdout",
       "text": [
        "RECH3...  "
       ]
      },
      {
       "output_type": "stream",
       "stream": "stdout",
       "text": [
        "Survey 332 table REC51 does not exist!\n",
        "RECH1... "
       ]
      },
      {
       "output_type": "stream",
       "stream": "stdout",
       "text": [
        " RECH0...  "
       ]
      },
      {
       "output_type": "stream",
       "stream": "stdout",
       "text": [
        "REC11...  "
       ]
      },
      {
       "output_type": "stream",
       "stream": "stdout",
       "text": [
        "RECH2...  "
       ]
      },
      {
       "output_type": "stream",
       "stream": "stdout",
       "text": [
        "REC01...  "
       ]
      },
      {
       "output_type": "stream",
       "stream": "stdout",
       "text": [
        "REC91...  "
       ]
      },
      {
       "output_type": "stream",
       "stream": "stdout",
       "text": [
        "RECH4...  "
       ]
      },
      {
       "output_type": "stream",
       "stream": "stdout",
       "text": [
        "REC94...  "
       ]
      },
      {
       "output_type": "stream",
       "stream": "stdout",
       "text": [
        "REC95...  "
       ]
      },
      {
       "output_type": "stream",
       "stream": "stdout",
       "text": [
        "Survey 332 table REC75 does not exist!\n",
        "REC43... "
       ]
      },
      {
       "output_type": "stream",
       "stream": "stdout",
       "text": [
        " REC42...  "
       ]
      },
      {
       "output_type": "stream",
       "stream": "stdout",
       "text": [
        "REC41...  "
       ]
      },
      {
       "output_type": "stream",
       "stream": "stdout",
       "text": [
        "REC71...  "
       ]
      },
      {
       "output_type": "stream",
       "stream": "stdout",
       "text": [
        "RECHM2...  "
       ]
      },
      {
       "output_type": "stream",
       "stream": "stdout",
       "text": [
        "REC44...  "
       ]
      },
      {
       "output_type": "stream",
       "stream": "stdout",
       "text": [
        "409\n",
        "409\n"
       ]
      },
      {
       "output_type": "stream",
       "stream": "stdout",
       "text": [
        "\n",
        "Survey 333\n",
        "REC21... "
       ]
      },
      {
       "output_type": "stream",
       "stream": "stdout",
       "text": [
        " REC22...  "
       ]
      },
      {
       "output_type": "stream",
       "stream": "stdout",
       "text": [
        "RECH3...  "
       ]
      },
      {
       "output_type": "stream",
       "stream": "stdout",
       "text": [
        "REC51...  "
       ]
      },
      {
       "output_type": "stream",
       "stream": "stdout",
       "text": [
        "RECH1...  "
       ]
      },
      {
       "output_type": "stream",
       "stream": "stdout",
       "text": [
        "RECH0...  "
       ]
      },
      {
       "output_type": "stream",
       "stream": "stdout",
       "text": [
        "REC11...  "
       ]
      },
      {
       "output_type": "stream",
       "stream": "stdout",
       "text": [
        "RECH2...  "
       ]
      },
      {
       "output_type": "stream",
       "stream": "stdout",
       "text": [
        "REC01...  "
       ]
      },
      {
       "output_type": "stream",
       "stream": "stdout",
       "text": [
        "REC91...  "
       ]
      },
      {
       "output_type": "stream",
       "stream": "stdout",
       "text": [
        "RECH4...  "
       ]
      },
      {
       "output_type": "stream",
       "stream": "stdout",
       "text": [
        "REC94...  "
       ]
      },
      {
       "output_type": "stream",
       "stream": "stdout",
       "text": [
        "REC95...  "
       ]
      },
      {
       "output_type": "stream",
       "stream": "stdout",
       "text": [
        "REC75...  "
       ]
      },
      {
       "output_type": "stream",
       "stream": "stdout",
       "text": [
        "REC43...  "
       ]
      },
      {
       "output_type": "stream",
       "stream": "stdout",
       "text": [
        "REC42...  "
       ]
      },
      {
       "output_type": "stream",
       "stream": "stdout",
       "text": [
        "REC41...  "
       ]
      },
      {
       "output_type": "stream",
       "stream": "stdout",
       "text": [
        "REC71...  "
       ]
      },
      {
       "output_type": "stream",
       "stream": "stdout",
       "text": [
        "Survey 333 table RECHM2 does not exist!\n",
        "REC44... "
       ]
      },
      {
       "output_type": "stream",
       "stream": "stdout",
       "text": [
        " 434\n",
        "434\n"
       ]
      },
      {
       "output_type": "stream",
       "stream": "stdout",
       "text": [
        "\n",
        "Survey 337\n",
        "REC21... "
       ]
      },
      {
       "output_type": "stream",
       "stream": "stdout",
       "text": [
        " REC22...  "
       ]
      },
      {
       "output_type": "stream",
       "stream": "stdout",
       "text": [
        "RECH3...  "
       ]
      },
      {
       "output_type": "stream",
       "stream": "stdout",
       "text": [
        "REC51...  "
       ]
      },
      {
       "output_type": "stream",
       "stream": "stdout",
       "text": [
        "RECH1...  "
       ]
      },
      {
       "output_type": "stream",
       "stream": "stdout",
       "text": [
        "RECH0...  "
       ]
      },
      {
       "output_type": "stream",
       "stream": "stdout",
       "text": [
        "REC11...  "
       ]
      },
      {
       "output_type": "stream",
       "stream": "stdout",
       "text": [
        "RECH2...  "
       ]
      },
      {
       "output_type": "stream",
       "stream": "stdout",
       "text": [
        "REC01...  "
       ]
      },
      {
       "output_type": "stream",
       "stream": "stdout",
       "text": [
        "REC91...  "
       ]
      },
      {
       "output_type": "stream",
       "stream": "stdout",
       "text": [
        "RECH4...  "
       ]
      },
      {
       "output_type": "stream",
       "stream": "stdout",
       "text": [
        "REC94...  "
       ]
      },
      {
       "output_type": "stream",
       "stream": "stdout",
       "text": [
        "REC95...  "
       ]
      },
      {
       "output_type": "stream",
       "stream": "stdout",
       "text": [
        "REC75...  "
       ]
      },
      {
       "output_type": "stream",
       "stream": "stdout",
       "text": [
        "REC43...  "
       ]
      },
      {
       "output_type": "stream",
       "stream": "stdout",
       "text": [
        "REC42...  "
       ]
      },
      {
       "output_type": "stream",
       "stream": "stdout",
       "text": [
        "REC41...  "
       ]
      },
      {
       "output_type": "stream",
       "stream": "stdout",
       "text": [
        "REC71...  "
       ]
      },
      {
       "output_type": "stream",
       "stream": "stdout",
       "text": [
        "Survey 337 table RECHM2 does not exist!\n",
        "REC44... "
       ]
      },
      {
       "output_type": "stream",
       "stream": "stdout",
       "text": [
        " 434\n",
        "434\n"
       ]
      },
      {
       "output_type": "stream",
       "stream": "stdout",
       "text": [
        "\n",
        "Survey 338\n",
        "REC21... "
       ]
      },
      {
       "output_type": "stream",
       "stream": "stdout",
       "text": [
        " REC22...  "
       ]
      },
      {
       "output_type": "stream",
       "stream": "stdout",
       "text": [
        "RECH3...  "
       ]
      },
      {
       "output_type": "stream",
       "stream": "stdout",
       "text": [
        "Survey 338 table REC51 does not exist!\n",
        "RECH1... "
       ]
      },
      {
       "output_type": "stream",
       "stream": "stdout",
       "text": [
        " RECH0...  "
       ]
      },
      {
       "output_type": "stream",
       "stream": "stdout",
       "text": [
        "REC11...  "
       ]
      },
      {
       "output_type": "stream",
       "stream": "stdout",
       "text": [
        "RECH2...  "
       ]
      },
      {
       "output_type": "stream",
       "stream": "stdout",
       "text": [
        "REC01...  "
       ]
      },
      {
       "output_type": "stream",
       "stream": "stdout",
       "text": [
        "REC91...  "
       ]
      },
      {
       "output_type": "stream",
       "stream": "stdout",
       "text": [
        "Survey 338 table RECH4 does not exist!\n",
        "REC94... "
       ]
      },
      {
       "output_type": "stream",
       "stream": "stdout",
       "text": [
        " REC95...  "
       ]
      },
      {
       "output_type": "stream",
       "stream": "stdout",
       "text": [
        "Survey 338 table REC75 does not exist!\n",
        "REC43... "
       ]
      },
      {
       "output_type": "stream",
       "stream": "stdout",
       "text": [
        " REC42...  "
       ]
      },
      {
       "output_type": "stream",
       "stream": "stdout",
       "text": [
        "REC41...  "
       ]
      },
      {
       "output_type": "stream",
       "stream": "stdout",
       "text": [
        "Survey 338 table REC71 does not exist!\n",
        "Survey 338 table RECHM2 does not exist!"
       ]
      },
      {
       "output_type": "stream",
       "stream": "stdout",
       "text": [
        "\n",
        "REC44... "
       ]
      },
      {
       "output_type": "stream",
       "stream": "stdout",
       "text": [
        " 395\n",
        "395\n"
       ]
      },
      {
       "output_type": "stream",
       "stream": "stdout",
       "text": [
        "\n",
        "Survey 345\n",
        "REC21... "
       ]
      },
      {
       "output_type": "stream",
       "stream": "stdout",
       "text": [
        " REC22...  "
       ]
      },
      {
       "output_type": "stream",
       "stream": "stdout",
       "text": [
        "RECH3...  "
       ]
      },
      {
       "output_type": "stream",
       "stream": "stdout",
       "text": [
        "REC51...  "
       ]
      },
      {
       "output_type": "stream",
       "stream": "stdout",
       "text": [
        "RECH1...  "
       ]
      },
      {
       "output_type": "stream",
       "stream": "stdout",
       "text": [
        "RECH0...  "
       ]
      },
      {
       "output_type": "stream",
       "stream": "stdout",
       "text": [
        "REC11...  "
       ]
      },
      {
       "output_type": "stream",
       "stream": "stdout",
       "text": [
        "RECH2...  "
       ]
      },
      {
       "output_type": "stream",
       "stream": "stdout",
       "text": [
        "REC01...  "
       ]
      },
      {
       "output_type": "stream",
       "stream": "stdout",
       "text": [
        "REC91...  "
       ]
      },
      {
       "output_type": "stream",
       "stream": "stdout",
       "text": [
        "RECH4...  "
       ]
      },
      {
       "output_type": "stream",
       "stream": "stdout",
       "text": [
        "REC94...  "
       ]
      },
      {
       "output_type": "stream",
       "stream": "stdout",
       "text": [
        "REC95...  "
       ]
      },
      {
       "output_type": "stream",
       "stream": "stdout",
       "text": [
        "REC75...  "
       ]
      },
      {
       "output_type": "stream",
       "stream": "stdout",
       "text": [
        "REC43...  "
       ]
      },
      {
       "output_type": "stream",
       "stream": "stdout",
       "text": [
        "REC42...  "
       ]
      },
      {
       "output_type": "stream",
       "stream": "stdout",
       "text": [
        "REC41...  "
       ]
      },
      {
       "output_type": "stream",
       "stream": "stdout",
       "text": [
        "REC71...  "
       ]
      },
      {
       "output_type": "stream",
       "stream": "stdout",
       "text": [
        "Survey 345 table RECHM2 does not exist!\n",
        "REC44... "
       ]
      },
      {
       "output_type": "stream",
       "stream": "stdout",
       "text": [
        " 434\n",
        "434\n"
       ]
      },
      {
       "output_type": "stream",
       "stream": "stdout",
       "text": [
        "\n",
        "Survey 346\n",
        "REC21... "
       ]
      },
      {
       "output_type": "stream",
       "stream": "stdout",
       "text": [
        " REC22...  "
       ]
      },
      {
       "output_type": "stream",
       "stream": "stdout",
       "text": [
        "RECH3...  "
       ]
      },
      {
       "output_type": "stream",
       "stream": "stdout",
       "text": [
        "REC51...  "
       ]
      },
      {
       "output_type": "stream",
       "stream": "stdout",
       "text": [
        "RECH1...  "
       ]
      },
      {
       "output_type": "stream",
       "stream": "stdout",
       "text": [
        "RECH0...  "
       ]
      },
      {
       "output_type": "stream",
       "stream": "stdout",
       "text": [
        "REC11...  "
       ]
      },
      {
       "output_type": "stream",
       "stream": "stdout",
       "text": [
        "RECH2...  "
       ]
      },
      {
       "output_type": "stream",
       "stream": "stdout",
       "text": [
        "REC01...  "
       ]
      },
      {
       "output_type": "stream",
       "stream": "stdout",
       "text": [
        "REC91...  "
       ]
      },
      {
       "output_type": "stream",
       "stream": "stdout",
       "text": [
        "RECH4...  "
       ]
      },
      {
       "output_type": "stream",
       "stream": "stdout",
       "text": [
        "Survey 346 table REC94 does not exist!\n",
        "Survey 346 table REC95 does not exist!"
       ]
      },
      {
       "output_type": "stream",
       "stream": "stdout",
       "text": [
        "\n",
        "REC75... "
       ]
      },
      {
       "output_type": "stream",
       "stream": "stdout",
       "text": [
        " REC43...  "
       ]
      },
      {
       "output_type": "stream",
       "stream": "stdout",
       "text": [
        "REC42...  "
       ]
      },
      {
       "output_type": "stream",
       "stream": "stdout",
       "text": [
        "REC41...  "
       ]
      },
      {
       "output_type": "stream",
       "stream": "stdout",
       "text": [
        "REC71...  "
       ]
      },
      {
       "output_type": "stream",
       "stream": "stdout",
       "text": [
        "Survey 346 table RECHM2 does not exist!\n",
        "REC44... "
       ]
      },
      {
       "output_type": "stream",
       "stream": "stdout",
       "text": [
        " 348\n",
        "348\n"
       ]
      },
      {
       "output_type": "stream",
       "stream": "stdout",
       "text": [
        "\n",
        "Survey 359\n",
        "REC21... "
       ]
      },
      {
       "output_type": "stream",
       "stream": "stdout",
       "text": [
        " REC22...  "
       ]
      },
      {
       "output_type": "stream",
       "stream": "stdout",
       "text": [
        "RECH3...  "
       ]
      },
      {
       "output_type": "stream",
       "stream": "stdout",
       "text": [
        "REC51...  "
       ]
      },
      {
       "output_type": "stream",
       "stream": "stdout",
       "text": [
        "RECH1...  "
       ]
      },
      {
       "output_type": "stream",
       "stream": "stdout",
       "text": [
        "RECH0...  "
       ]
      },
      {
       "output_type": "stream",
       "stream": "stdout",
       "text": [
        "REC11...  "
       ]
      },
      {
       "output_type": "stream",
       "stream": "stdout",
       "text": [
        "RECH2...  "
       ]
      },
      {
       "output_type": "stream",
       "stream": "stdout",
       "text": [
        "REC01...  "
       ]
      },
      {
       "output_type": "stream",
       "stream": "stdout",
       "text": [
        "REC91...  "
       ]
      },
      {
       "output_type": "stream",
       "stream": "stdout",
       "text": [
        "RECH4...  "
       ]
      },
      {
       "output_type": "stream",
       "stream": "stdout",
       "text": [
        "REC94...  "
       ]
      },
      {
       "output_type": "stream",
       "stream": "stdout",
       "text": [
        "REC95...  "
       ]
      },
      {
       "output_type": "stream",
       "stream": "stdout",
       "text": [
        "REC75...  "
       ]
      },
      {
       "output_type": "stream",
       "stream": "stdout",
       "text": [
        "REC43...  "
       ]
      },
      {
       "output_type": "stream",
       "stream": "stdout",
       "text": [
        "REC42...  "
       ]
      },
      {
       "output_type": "stream",
       "stream": "stdout",
       "text": [
        "REC41...  "
       ]
      },
      {
       "output_type": "stream",
       "stream": "stdout",
       "text": [
        "REC71...  "
       ]
      },
      {
       "output_type": "stream",
       "stream": "stdout",
       "text": [
        "Survey 359 table RECHM2 does not exist!\n",
        "REC44... "
       ]
      },
      {
       "output_type": "stream",
       "stream": "stdout",
       "text": [
        " 434\n",
        "434\n"
       ]
      },
      {
       "output_type": "stream",
       "stream": "stdout",
       "text": [
        "\n",
        "Survey 361\n",
        "REC21... "
       ]
      },
      {
       "output_type": "stream",
       "stream": "stdout",
       "text": [
        " REC22...  "
       ]
      },
      {
       "output_type": "stream",
       "stream": "stdout",
       "text": [
        "RECH3...  "
       ]
      },
      {
       "output_type": "stream",
       "stream": "stdout",
       "text": [
        "Survey 361 table REC51 does not exist!\n",
        "RECH1... "
       ]
      },
      {
       "output_type": "stream",
       "stream": "stdout",
       "text": [
        " RECH0...  "
       ]
      },
      {
       "output_type": "stream",
       "stream": "stdout",
       "text": [
        "REC11...  "
       ]
      },
      {
       "output_type": "stream",
       "stream": "stdout",
       "text": [
        "RECH2...  "
       ]
      },
      {
       "output_type": "stream",
       "stream": "stdout",
       "text": [
        "REC01...  "
       ]
      },
      {
       "output_type": "stream",
       "stream": "stdout",
       "text": [
        "REC91...  "
       ]
      },
      {
       "output_type": "stream",
       "stream": "stdout",
       "text": [
        "RECH4...  "
       ]
      },
      {
       "output_type": "stream",
       "stream": "stdout",
       "text": [
        "REC94...  "
       ]
      },
      {
       "output_type": "stream",
       "stream": "stdout",
       "text": [
        "Survey 361 table REC95 does not exist!\n",
        "Survey 361 table REC75 does not exist!"
       ]
      },
      {
       "output_type": "stream",
       "stream": "stdout",
       "text": [
        "\n",
        "REC43... "
       ]
      },
      {
       "output_type": "stream",
       "stream": "stdout",
       "text": [
        " REC42...  "
       ]
      },
      {
       "output_type": "stream",
       "stream": "stdout",
       "text": [
        "REC41...  "
       ]
      },
      {
       "output_type": "stream",
       "stream": "stdout",
       "text": [
        "Survey 361 table REC71 does not exist!\n",
        "Survey 361 table RECHM2 does not exist!"
       ]
      },
      {
       "output_type": "stream",
       "stream": "stdout",
       "text": [
        "\n",
        "REC44... "
       ]
      },
      {
       "output_type": "stream",
       "stream": "stdout",
       "text": [
        " 335\n",
        "335\n"
       ]
      },
      {
       "output_type": "stream",
       "stream": "stdout",
       "text": [
        "\n",
        "Survey 362\n",
        "REC21... "
       ]
      },
      {
       "output_type": "stream",
       "stream": "stdout",
       "text": [
        " REC22...  "
       ]
      },
      {
       "output_type": "stream",
       "stream": "stdout",
       "text": [
        "RECH3...  "
       ]
      },
      {
       "output_type": "stream",
       "stream": "stdout",
       "text": [
        "REC51...  "
       ]
      },
      {
       "output_type": "stream",
       "stream": "stdout",
       "text": [
        "RECH1...  "
       ]
      },
      {
       "output_type": "stream",
       "stream": "stdout",
       "text": [
        "RECH0...  "
       ]
      },
      {
       "output_type": "stream",
       "stream": "stdout",
       "text": [
        "REC11...  "
       ]
      },
      {
       "output_type": "stream",
       "stream": "stdout",
       "text": [
        "RECH2...  "
       ]
      },
      {
       "output_type": "stream",
       "stream": "stdout",
       "text": [
        "REC01...  "
       ]
      },
      {
       "output_type": "stream",
       "stream": "stdout",
       "text": [
        "REC91...  "
       ]
      },
      {
       "output_type": "stream",
       "stream": "stdout",
       "text": [
        "RECH4...  "
       ]
      },
      {
       "output_type": "stream",
       "stream": "stdout",
       "text": [
        "Survey 362 table REC94 does not exist!\n",
        "REC95... "
       ]
      },
      {
       "output_type": "stream",
       "stream": "stdout",
       "text": [
        " REC75...  "
       ]
      },
      {
       "output_type": "stream",
       "stream": "stdout",
       "text": [
        "REC43...  "
       ]
      },
      {
       "output_type": "stream",
       "stream": "stdout",
       "text": [
        "REC42...  "
       ]
      },
      {
       "output_type": "stream",
       "stream": "stdout",
       "text": [
        "REC41...  "
       ]
      },
      {
       "output_type": "stream",
       "stream": "stdout",
       "text": [
        "REC71...  "
       ]
      },
      {
       "output_type": "stream",
       "stream": "stdout",
       "text": [
        "Survey 362 table RECHM2 does not exist!\n",
        "REC44... "
       ]
      },
      {
       "output_type": "stream",
       "stream": "stdout",
       "text": [
        " 410\n",
        "410\n"
       ]
      },
      {
       "output_type": "stream",
       "stream": "stdout",
       "text": [
        "\n",
        "Survey 363\n",
        "REC21... "
       ]
      },
      {
       "output_type": "stream",
       "stream": "stdout",
       "text": [
        " REC22...  "
       ]
      },
      {
       "output_type": "stream",
       "stream": "stdout",
       "text": [
        "RECH3...  "
       ]
      },
      {
       "output_type": "stream",
       "stream": "stdout",
       "text": [
        "REC51...  "
       ]
      },
      {
       "output_type": "stream",
       "stream": "stdout",
       "text": [
        "RECH1...  "
       ]
      },
      {
       "output_type": "stream",
       "stream": "stdout",
       "text": [
        "RECH0...  "
       ]
      },
      {
       "output_type": "stream",
       "stream": "stdout",
       "text": [
        "REC11...  "
       ]
      },
      {
       "output_type": "stream",
       "stream": "stdout",
       "text": [
        "RECH2...  "
       ]
      },
      {
       "output_type": "stream",
       "stream": "stdout",
       "text": [
        "REC01...  "
       ]
      },
      {
       "output_type": "stream",
       "stream": "stdout",
       "text": [
        "REC91...  "
       ]
      },
      {
       "output_type": "stream",
       "stream": "stdout",
       "text": [
        "RECH4...  "
       ]
      },
      {
       "output_type": "stream",
       "stream": "stdout",
       "text": [
        "REC94...  "
       ]
      },
      {
       "output_type": "stream",
       "stream": "stdout",
       "text": [
        "Survey 363 table REC95 does not exist!\n",
        "REC75... "
       ]
      },
      {
       "output_type": "stream",
       "stream": "stdout",
       "text": [
        " REC43...  "
       ]
      },
      {
       "output_type": "stream",
       "stream": "stdout",
       "text": [
        "REC42...  "
       ]
      },
      {
       "output_type": "stream",
       "stream": "stdout",
       "text": [
        "REC41...  "
       ]
      },
      {
       "output_type": "stream",
       "stream": "stdout",
       "text": [
        "REC71...  "
       ]
      },
      {
       "output_type": "stream",
       "stream": "stdout",
       "text": [
        "Survey 363 table RECHM2 does not exist!\n",
        "REC44... "
       ]
      },
      {
       "output_type": "stream",
       "stream": "stdout",
       "text": [
        " 372\n",
        "372\n"
       ]
      },
      {
       "output_type": "stream",
       "stream": "stdout",
       "text": [
        "\n",
        "Survey 364\n",
        "REC21... "
       ]
      },
      {
       "output_type": "stream",
       "stream": "stdout",
       "text": [
        " REC22...  "
       ]
      },
      {
       "output_type": "stream",
       "stream": "stdout",
       "text": [
        "RECH3...  "
       ]
      },
      {
       "output_type": "stream",
       "stream": "stdout",
       "text": [
        "REC51...  "
       ]
      },
      {
       "output_type": "stream",
       "stream": "stdout",
       "text": [
        "RECH1...  "
       ]
      },
      {
       "output_type": "stream",
       "stream": "stdout",
       "text": [
        "RECH0...  "
       ]
      },
      {
       "output_type": "stream",
       "stream": "stdout",
       "text": [
        "REC11...  "
       ]
      },
      {
       "output_type": "stream",
       "stream": "stdout",
       "text": [
        "RECH2...  "
       ]
      },
      {
       "output_type": "stream",
       "stream": "stdout",
       "text": [
        "REC01...  "
       ]
      },
      {
       "output_type": "stream",
       "stream": "stdout",
       "text": [
        "REC91...  "
       ]
      },
      {
       "output_type": "stream",
       "stream": "stdout",
       "text": [
        "RECH4...  "
       ]
      },
      {
       "output_type": "stream",
       "stream": "stdout",
       "text": [
        "REC94...  "
       ]
      },
      {
       "output_type": "stream",
       "stream": "stdout",
       "text": [
        "REC95...  "
       ]
      },
      {
       "output_type": "stream",
       "stream": "stdout",
       "text": [
        "REC75...  "
       ]
      },
      {
       "output_type": "stream",
       "stream": "stdout",
       "text": [
        "REC43...  "
       ]
      },
      {
       "output_type": "stream",
       "stream": "stdout",
       "text": [
        "REC42...  "
       ]
      },
      {
       "output_type": "stream",
       "stream": "stdout",
       "text": [
        "REC41...  "
       ]
      },
      {
       "output_type": "stream",
       "stream": "stdout",
       "text": [
        "REC71...  "
       ]
      },
      {
       "output_type": "stream",
       "stream": "stdout",
       "text": [
        "Survey 364 table RECHM2 does not exist!\n",
        "REC44... "
       ]
      },
      {
       "output_type": "stream",
       "stream": "stdout",
       "text": [
        " 434\n",
        "434\n"
       ]
      },
      {
       "output_type": "stream",
       "stream": "stdout",
       "text": [
        "\n",
        "Survey 365\n",
        "REC21... "
       ]
      },
      {
       "output_type": "stream",
       "stream": "stdout",
       "text": [
        " REC22...  "
       ]
      },
      {
       "output_type": "stream",
       "stream": "stdout",
       "text": [
        "RECH3...  "
       ]
      },
      {
       "output_type": "stream",
       "stream": "stdout",
       "text": [
        "REC51...  "
       ]
      },
      {
       "output_type": "stream",
       "stream": "stdout",
       "text": [
        "RECH1...  "
       ]
      },
      {
       "output_type": "stream",
       "stream": "stdout",
       "text": [
        "RECH0...  "
       ]
      },
      {
       "output_type": "stream",
       "stream": "stdout",
       "text": [
        "REC11...  "
       ]
      },
      {
       "output_type": "stream",
       "stream": "stdout",
       "text": [
        "RECH2...  "
       ]
      },
      {
       "output_type": "stream",
       "stream": "stdout",
       "text": [
        "REC01...  "
       ]
      },
      {
       "output_type": "stream",
       "stream": "stdout",
       "text": [
        "REC91...  "
       ]
      },
      {
       "output_type": "stream",
       "stream": "stdout",
       "text": [
        "RECH4...  "
       ]
      },
      {
       "output_type": "stream",
       "stream": "stdout",
       "text": [
        "REC94...  "
       ]
      },
      {
       "output_type": "stream",
       "stream": "stdout",
       "text": [
        "REC95...  "
       ]
      },
      {
       "output_type": "stream",
       "stream": "stdout",
       "text": [
        "REC75...  "
       ]
      },
      {
       "output_type": "stream",
       "stream": "stdout",
       "text": [
        "REC43...  "
       ]
      },
      {
       "output_type": "stream",
       "stream": "stdout",
       "text": [
        "REC42...  "
       ]
      },
      {
       "output_type": "stream",
       "stream": "stdout",
       "text": [
        "REC41...  "
       ]
      },
      {
       "output_type": "stream",
       "stream": "stdout",
       "text": [
        "REC71...  "
       ]
      },
      {
       "output_type": "stream",
       "stream": "stdout",
       "text": [
        "Survey 365 table RECHM2 does not exist!\n",
        "REC44... "
       ]
      },
      {
       "output_type": "stream",
       "stream": "stdout",
       "text": [
        " 434\n",
        "434\n"
       ]
      },
      {
       "output_type": "stream",
       "stream": "stdout",
       "text": [
        "\n",
        "Survey 367\n",
        "REC21... "
       ]
      },
      {
       "output_type": "stream",
       "stream": "stdout",
       "text": [
        " REC22...  "
       ]
      },
      {
       "output_type": "stream",
       "stream": "stdout",
       "text": [
        "RECH3...  "
       ]
      },
      {
       "output_type": "stream",
       "stream": "stdout",
       "text": [
        "REC51...  "
       ]
      },
      {
       "output_type": "stream",
       "stream": "stdout",
       "text": [
        "RECH1...  "
       ]
      },
      {
       "output_type": "stream",
       "stream": "stdout",
       "text": [
        "RECH0...  "
       ]
      },
      {
       "output_type": "stream",
       "stream": "stdout",
       "text": [
        "REC11...  "
       ]
      },
      {
       "output_type": "stream",
       "stream": "stdout",
       "text": [
        "RECH2...  "
       ]
      },
      {
       "output_type": "stream",
       "stream": "stdout",
       "text": [
        "REC01...  "
       ]
      },
      {
       "output_type": "stream",
       "stream": "stdout",
       "text": [
        "REC91...  "
       ]
      },
      {
       "output_type": "stream",
       "stream": "stdout",
       "text": [
        "RECH4...  "
       ]
      },
      {
       "output_type": "stream",
       "stream": "stdout",
       "text": [
        "Survey 367 table REC94 does not exist!\n",
        "REC95... "
       ]
      },
      {
       "output_type": "stream",
       "stream": "stdout",
       "text": [
        " REC75...  "
       ]
      },
      {
       "output_type": "stream",
       "stream": "stdout",
       "text": [
        "REC43...  "
       ]
      },
      {
       "output_type": "stream",
       "stream": "stdout",
       "text": [
        "REC42...  "
       ]
      },
      {
       "output_type": "stream",
       "stream": "stdout",
       "text": [
        "REC41...  "
       ]
      },
      {
       "output_type": "stream",
       "stream": "stdout",
       "text": [
        "REC71...  "
       ]
      },
      {
       "output_type": "stream",
       "stream": "stdout",
       "text": [
        "Survey 367 table RECHM2 does not exist!\n",
        "REC44... "
       ]
      },
      {
       "output_type": "stream",
       "stream": "stdout",
       "text": [
        " 410\n",
        "410\n"
       ]
      },
      {
       "output_type": "stream",
       "stream": "stdout",
       "text": [
        "\n",
        "Survey 391\n",
        "REC21... "
       ]
      },
      {
       "output_type": "stream",
       "stream": "stdout",
       "text": [
        " REC22...  "
       ]
      },
      {
       "output_type": "stream",
       "stream": "stdout",
       "text": [
        "RECH3...  "
       ]
      },
      {
       "output_type": "stream",
       "stream": "stdout",
       "text": [
        "REC51...  "
       ]
      },
      {
       "output_type": "stream",
       "stream": "stdout",
       "text": [
        "RECH1...  "
       ]
      },
      {
       "output_type": "stream",
       "stream": "stdout",
       "text": [
        "RECH0...  "
       ]
      },
      {
       "output_type": "stream",
       "stream": "stdout",
       "text": [
        "REC11...  "
       ]
      },
      {
       "output_type": "stream",
       "stream": "stdout",
       "text": [
        "RECH2...  "
       ]
      },
      {
       "output_type": "stream",
       "stream": "stdout",
       "text": [
        "REC01...  "
       ]
      },
      {
       "output_type": "stream",
       "stream": "stdout",
       "text": [
        "REC91...  "
       ]
      },
      {
       "output_type": "stream",
       "stream": "stdout",
       "text": [
        "RECH4...  "
       ]
      },
      {
       "output_type": "stream",
       "stream": "stdout",
       "text": [
        "REC94...  "
       ]
      },
      {
       "output_type": "stream",
       "stream": "stdout",
       "text": [
        "REC95...  "
       ]
      },
      {
       "output_type": "stream",
       "stream": "stdout",
       "text": [
        "REC75...  "
       ]
      },
      {
       "output_type": "stream",
       "stream": "stdout",
       "text": [
        "REC43...  "
       ]
      },
      {
       "output_type": "stream",
       "stream": "stdout",
       "text": [
        "REC42...  "
       ]
      },
      {
       "output_type": "stream",
       "stream": "stdout",
       "text": [
        "REC41...  "
       ]
      },
      {
       "output_type": "stream",
       "stream": "stdout",
       "text": [
        "REC71...  "
       ]
      },
      {
       "output_type": "stream",
       "stream": "stdout",
       "text": [
        "Survey 391 table RECHM2 does not exist!\n",
        "REC44... "
       ]
      },
      {
       "output_type": "stream",
       "stream": "stdout",
       "text": [
        " 434\n",
        "434\n"
       ]
      },
      {
       "output_type": "stream",
       "stream": "stdout",
       "text": [
        "\n",
        "Survey 392\n",
        "REC21... "
       ]
      },
      {
       "output_type": "stream",
       "stream": "stdout",
       "text": [
        " REC22...  "
       ]
      },
      {
       "output_type": "stream",
       "stream": "stdout",
       "text": [
        "RECH3...  "
       ]
      },
      {
       "output_type": "stream",
       "stream": "stdout",
       "text": [
        "Survey 392 table REC51 does not exist!\n",
        "RECH1... "
       ]
      },
      {
       "output_type": "stream",
       "stream": "stdout",
       "text": [
        " RECH0...  "
       ]
      },
      {
       "output_type": "stream",
       "stream": "stdout",
       "text": [
        "REC11...  "
       ]
      },
      {
       "output_type": "stream",
       "stream": "stdout",
       "text": [
        "RECH2...  "
       ]
      },
      {
       "output_type": "stream",
       "stream": "stdout",
       "text": [
        "REC01...  "
       ]
      },
      {
       "output_type": "stream",
       "stream": "stdout",
       "text": [
        "REC91...  "
       ]
      },
      {
       "output_type": "stream",
       "stream": "stdout",
       "text": [
        "RECH4...  "
       ]
      },
      {
       "output_type": "stream",
       "stream": "stdout",
       "text": [
        "Survey 392 table REC94 does not exist!\n",
        "Survey 392 table REC95 does not exist!"
       ]
      },
      {
       "output_type": "stream",
       "stream": "stdout",
       "text": [
        "\n",
        "Survey 392 table REC75 does not exist!"
       ]
      },
      {
       "output_type": "stream",
       "stream": "stdout",
       "text": [
        "\n",
        "REC43... "
       ]
      },
      {
       "output_type": "stream",
       "stream": "stdout",
       "text": [
        " REC42...  "
       ]
      },
      {
       "output_type": "stream",
       "stream": "stdout",
       "text": [
        "REC41...  "
       ]
      },
      {
       "output_type": "stream",
       "stream": "stdout",
       "text": [
        "Survey 392 table REC71 does not exist!\n",
        "Survey 392 table RECHM2 does not exist!"
       ]
      },
      {
       "output_type": "stream",
       "stream": "stdout",
       "text": [
        "\n",
        "Survey 392 table REC44 does not exist!"
       ]
      },
      {
       "output_type": "stream",
       "stream": "stdout",
       "text": [
        "\n",
        "294\n",
        "294\n"
       ]
      },
      {
       "output_type": "stream",
       "stream": "stdout",
       "text": [
        "\n",
        "Survey 395\n",
        "REC21... "
       ]
      },
      {
       "output_type": "stream",
       "stream": "stdout",
       "text": [
        " REC22...  "
       ]
      },
      {
       "output_type": "stream",
       "stream": "stdout",
       "text": [
        "RECH3...  "
       ]
      },
      {
       "output_type": "stream",
       "stream": "stdout",
       "text": [
        "Survey 395 table REC51 does not exist!\n",
        "RECH1... "
       ]
      },
      {
       "output_type": "stream",
       "stream": "stdout",
       "text": [
        " RECH0...  "
       ]
      },
      {
       "output_type": "stream",
       "stream": "stdout",
       "text": [
        "REC11...  "
       ]
      },
      {
       "output_type": "stream",
       "stream": "stdout",
       "text": [
        "RECH2...  "
       ]
      },
      {
       "output_type": "stream",
       "stream": "stdout",
       "text": [
        "REC01...  "
       ]
      },
      {
       "output_type": "stream",
       "stream": "stdout",
       "text": [
        "REC91...  "
       ]
      },
      {
       "output_type": "stream",
       "stream": "stdout",
       "text": [
        "RECH4...  "
       ]
      },
      {
       "output_type": "stream",
       "stream": "stdout",
       "text": [
        "REC94...  "
       ]
      },
      {
       "output_type": "stream",
       "stream": "stdout",
       "text": [
        "REC95...  "
       ]
      },
      {
       "output_type": "stream",
       "stream": "stdout",
       "text": [
        "Survey 395 table REC75 does not exist!\n",
        "REC43... "
       ]
      },
      {
       "output_type": "stream",
       "stream": "stdout",
       "text": [
        " REC42...  "
       ]
      },
      {
       "output_type": "stream",
       "stream": "stdout",
       "text": [
        "REC41...  "
       ]
      },
      {
       "output_type": "stream",
       "stream": "stdout",
       "text": [
        "Survey 395 table REC71 does not exist!\n",
        "RECHM2... "
       ]
      },
      {
       "output_type": "stream",
       "stream": "stdout",
       "text": [
        " REC44...  "
       ]
      },
      {
       "output_type": "stream",
       "stream": "stdout",
       "text": [
        "398\n",
        "398\n"
       ]
      },
      {
       "output_type": "stream",
       "stream": "stdout",
       "text": [
        "\n",
        "Survey 396\n",
        "REC21... "
       ]
      },
      {
       "output_type": "stream",
       "stream": "stdout",
       "text": [
        " REC22...  "
       ]
      },
      {
       "output_type": "stream",
       "stream": "stdout",
       "text": [
        "RECH3...  "
       ]
      },
      {
       "output_type": "stream",
       "stream": "stdout",
       "text": [
        "Survey 396 table REC51 does not exist!\n",
        "RECH1... "
       ]
      },
      {
       "output_type": "stream",
       "stream": "stdout",
       "text": [
        " RECH0...  "
       ]
      },
      {
       "output_type": "stream",
       "stream": "stdout",
       "text": [
        "REC11...  "
       ]
      },
      {
       "output_type": "stream",
       "stream": "stdout",
       "text": [
        "RECH2...  "
       ]
      },
      {
       "output_type": "stream",
       "stream": "stdout",
       "text": [
        "REC01...  "
       ]
      },
      {
       "output_type": "stream",
       "stream": "stdout",
       "text": [
        "REC91...  "
       ]
      },
      {
       "output_type": "stream",
       "stream": "stdout",
       "text": [
        "RECH4...  "
       ]
      },
      {
       "output_type": "stream",
       "stream": "stdout",
       "text": [
        "REC94...  "
       ]
      },
      {
       "output_type": "stream",
       "stream": "stdout",
       "text": [
        "Survey 396 table REC95 does not exist!\n",
        "Survey 396 table REC75 does not exist!"
       ]
      },
      {
       "output_type": "stream",
       "stream": "stdout",
       "text": [
        "\n",
        "REC43... "
       ]
      },
      {
       "output_type": "stream",
       "stream": "stdout",
       "text": [
        " REC42...  "
       ]
      },
      {
       "output_type": "stream",
       "stream": "stdout",
       "text": [
        "REC41...  "
       ]
      },
      {
       "output_type": "stream",
       "stream": "stdout",
       "text": [
        "Survey 396 table REC71 does not exist!\n",
        "Survey 396 table RECHM2 does not exist!"
       ]
      },
      {
       "output_type": "stream",
       "stream": "stdout",
       "text": [
        "\n",
        "REC44... "
       ]
      },
      {
       "output_type": "stream",
       "stream": "stdout",
       "text": [
        " 343\n",
        "343\n"
       ]
      },
      {
       "output_type": "stream",
       "stream": "stdout",
       "text": [
        "\n",
        "Survey 399\n",
        "REC21... "
       ]
      },
      {
       "output_type": "stream",
       "stream": "stdout",
       "text": [
        " REC22...  "
       ]
      },
      {
       "output_type": "stream",
       "stream": "stdout",
       "text": [
        "RECH3...  "
       ]
      },
      {
       "output_type": "stream",
       "stream": "stdout",
       "text": [
        "REC51...  "
       ]
      },
      {
       "output_type": "stream",
       "stream": "stdout",
       "text": [
        "RECH1...  "
       ]
      },
      {
       "output_type": "stream",
       "stream": "stdout",
       "text": [
        "RECH0...  "
       ]
      },
      {
       "output_type": "stream",
       "stream": "stdout",
       "text": [
        "REC11...  "
       ]
      },
      {
       "output_type": "stream",
       "stream": "stdout",
       "text": [
        "RECH2...  "
       ]
      },
      {
       "output_type": "stream",
       "stream": "stdout",
       "text": [
        "REC01...  "
       ]
      },
      {
       "output_type": "stream",
       "stream": "stdout",
       "text": [
        "REC91...  "
       ]
      },
      {
       "output_type": "stream",
       "stream": "stdout",
       "text": [
        "RECH4...  "
       ]
      },
      {
       "output_type": "stream",
       "stream": "stdout",
       "text": [
        "REC94...  "
       ]
      },
      {
       "output_type": "stream",
       "stream": "stdout",
       "text": [
        "Survey 399 table REC95 does not exist!\n",
        "REC75... "
       ]
      },
      {
       "output_type": "stream",
       "stream": "stdout",
       "text": [
        " REC43...  "
       ]
      },
      {
       "output_type": "stream",
       "stream": "stdout",
       "text": [
        "REC42...  "
       ]
      },
      {
       "output_type": "stream",
       "stream": "stdout",
       "text": [
        "REC41...  "
       ]
      },
      {
       "output_type": "stream",
       "stream": "stdout",
       "text": [
        "REC71...  "
       ]
      },
      {
       "output_type": "stream",
       "stream": "stdout",
       "text": [
        "Survey 399 table RECHM2 does not exist!\n",
        "REC44... "
       ]
      },
      {
       "output_type": "stream",
       "stream": "stdout",
       "text": [
        " 380\n",
        "380\n"
       ]
      },
      {
       "output_type": "stream",
       "stream": "stdout",
       "text": [
        "\n",
        "Survey 402\n",
        "REC21... "
       ]
      },
      {
       "output_type": "stream",
       "stream": "stdout",
       "text": [
        " REC22...  "
       ]
      },
      {
       "output_type": "stream",
       "stream": "stdout",
       "text": [
        "RECH3...  "
       ]
      },
      {
       "output_type": "stream",
       "stream": "stdout",
       "text": [
        "REC51...  "
       ]
      },
      {
       "output_type": "stream",
       "stream": "stdout",
       "text": [
        "RECH1...  "
       ]
      },
      {
       "output_type": "stream",
       "stream": "stdout",
       "text": [
        "RECH0...  "
       ]
      },
      {
       "output_type": "stream",
       "stream": "stdout",
       "text": [
        "REC11...  "
       ]
      },
      {
       "output_type": "stream",
       "stream": "stdout",
       "text": [
        "RECH2...  "
       ]
      },
      {
       "output_type": "stream",
       "stream": "stdout",
       "text": [
        "REC01...  "
       ]
      },
      {
       "output_type": "stream",
       "stream": "stdout",
       "text": [
        "REC91...  "
       ]
      },
      {
       "output_type": "stream",
       "stream": "stdout",
       "text": [
        "RECH4...  "
       ]
      },
      {
       "output_type": "stream",
       "stream": "stdout",
       "text": [
        "REC94...  "
       ]
      },
      {
       "output_type": "stream",
       "stream": "stdout",
       "text": [
        "REC95...  "
       ]
      },
      {
       "output_type": "stream",
       "stream": "stdout",
       "text": [
        "REC75...  "
       ]
      },
      {
       "output_type": "stream",
       "stream": "stdout",
       "text": [
        "REC43...  "
       ]
      },
      {
       "output_type": "stream",
       "stream": "stdout",
       "text": [
        "REC42...  "
       ]
      },
      {
       "output_type": "stream",
       "stream": "stdout",
       "text": [
        "REC41...  "
       ]
      },
      {
       "output_type": "stream",
       "stream": "stdout",
       "text": [
        "REC71...  "
       ]
      },
      {
       "output_type": "stream",
       "stream": "stdout",
       "text": [
        "Survey 402 table RECHM2 does not exist!\n",
        "REC44... "
       ]
      },
      {
       "output_type": "stream",
       "stream": "stdout",
       "text": [
        " 442\n",
        "442\n"
       ]
      },
      {
       "output_type": "stream",
       "stream": "stdout",
       "text": [
        "\n",
        "Survey 405\n",
        "REC21... "
       ]
      },
      {
       "output_type": "stream",
       "stream": "stdout",
       "text": [
        " REC22...  "
       ]
      },
      {
       "output_type": "stream",
       "stream": "stdout",
       "text": [
        "RECH3...  "
       ]
      },
      {
       "output_type": "stream",
       "stream": "stdout",
       "text": [
        "REC51...  "
       ]
      },
      {
       "output_type": "stream",
       "stream": "stdout",
       "text": [
        "RECH1...  "
       ]
      },
      {
       "output_type": "stream",
       "stream": "stdout",
       "text": [
        "RECH0...  "
       ]
      },
      {
       "output_type": "stream",
       "stream": "stdout",
       "text": [
        "REC11...  "
       ]
      },
      {
       "output_type": "stream",
       "stream": "stdout",
       "text": [
        "RECH2...  "
       ]
      },
      {
       "output_type": "stream",
       "stream": "stdout",
       "text": [
        "REC01...  "
       ]
      },
      {
       "output_type": "stream",
       "stream": "stdout",
       "text": [
        "REC91...  "
       ]
      },
      {
       "output_type": "stream",
       "stream": "stdout",
       "text": [
        "RECH4...  "
       ]
      },
      {
       "output_type": "stream",
       "stream": "stdout",
       "text": [
        "Survey 405 table REC94 does not exist!\n",
        "REC95... "
       ]
      },
      {
       "output_type": "stream",
       "stream": "stdout",
       "text": [
        " REC75...  "
       ]
      },
      {
       "output_type": "stream",
       "stream": "stdout",
       "text": [
        "REC43...  "
       ]
      },
      {
       "output_type": "stream",
       "stream": "stdout",
       "text": [
        "REC42...  "
       ]
      },
      {
       "output_type": "stream",
       "stream": "stdout",
       "text": [
        "REC41...  "
       ]
      },
      {
       "output_type": "stream",
       "stream": "stdout",
       "text": [
        "REC71...  "
       ]
      },
      {
       "output_type": "stream",
       "stream": "stdout",
       "text": [
        "Survey 405 table RECHM2 does not exist!\n",
        "REC44... "
       ]
      },
      {
       "output_type": "stream",
       "stream": "stdout",
       "text": [
        " 418\n",
        "418\n"
       ]
      },
      {
       "output_type": "stream",
       "stream": "stdout",
       "text": [
        "\n",
        "Survey 406\n",
        "REC21... "
       ]
      },
      {
       "output_type": "stream",
       "stream": "stdout",
       "text": [
        " REC22...  "
       ]
      },
      {
       "output_type": "stream",
       "stream": "stdout",
       "text": [
        "RECH3...  "
       ]
      },
      {
       "output_type": "stream",
       "stream": "stdout",
       "text": [
        "REC51...  "
       ]
      },
      {
       "output_type": "stream",
       "stream": "stdout",
       "text": [
        "RECH1...  "
       ]
      },
      {
       "output_type": "stream",
       "stream": "stdout",
       "text": [
        "RECH0...  "
       ]
      },
      {
       "output_type": "stream",
       "stream": "stdout",
       "text": [
        "REC11...  "
       ]
      },
      {
       "output_type": "stream",
       "stream": "stdout",
       "text": [
        "RECH2...  "
       ]
      },
      {
       "output_type": "stream",
       "stream": "stdout",
       "text": [
        "REC01...  "
       ]
      },
      {
       "output_type": "stream",
       "stream": "stdout",
       "text": [
        "REC91...  "
       ]
      },
      {
       "output_type": "stream",
       "stream": "stdout",
       "text": [
        "RECH4...  "
       ]
      },
      {
       "output_type": "stream",
       "stream": "stdout",
       "text": [
        "REC94...  "
       ]
      },
      {
       "output_type": "stream",
       "stream": "stdout",
       "text": [
        "REC95...  "
       ]
      },
      {
       "output_type": "stream",
       "stream": "stdout",
       "text": [
        "REC75...  "
       ]
      },
      {
       "output_type": "stream",
       "stream": "stdout",
       "text": [
        "REC43...  "
       ]
      },
      {
       "output_type": "stream",
       "stream": "stdout",
       "text": [
        "REC42...  "
       ]
      },
      {
       "output_type": "stream",
       "stream": "stdout",
       "text": [
        "REC41...  "
       ]
      },
      {
       "output_type": "stream",
       "stream": "stdout",
       "text": [
        "REC71...  "
       ]
      },
      {
       "output_type": "stream",
       "stream": "stdout",
       "text": [
        "Survey 406 table RECHM2 does not exist!\n",
        "REC44... "
       ]
      },
      {
       "output_type": "stream",
       "stream": "stdout",
       "text": [
        " 443\n",
        "443\n"
       ]
      },
      {
       "output_type": "stream",
       "stream": "stdout",
       "text": [
        "\n",
        "Survey 407\n",
        "REC21... "
       ]
      },
      {
       "output_type": "stream",
       "stream": "stdout",
       "text": [
        " REC22...  "
       ]
      },
      {
       "output_type": "stream",
       "stream": "stdout",
       "text": [
        "RECH3...  "
       ]
      },
      {
       "output_type": "stream",
       "stream": "stdout",
       "text": [
        "REC51...  "
       ]
      },
      {
       "output_type": "stream",
       "stream": "stdout",
       "text": [
        "RECH1...  "
       ]
      },
      {
       "output_type": "stream",
       "stream": "stdout",
       "text": [
        "RECH0...  "
       ]
      },
      {
       "output_type": "stream",
       "stream": "stdout",
       "text": [
        "REC11...  "
       ]
      },
      {
       "output_type": "stream",
       "stream": "stdout",
       "text": [
        "RECH2...  "
       ]
      },
      {
       "output_type": "stream",
       "stream": "stdout",
       "text": [
        "REC01...  "
       ]
      },
      {
       "output_type": "stream",
       "stream": "stdout",
       "text": [
        "REC91...  "
       ]
      },
      {
       "output_type": "stream",
       "stream": "stdout",
       "text": [
        "RECH4...  "
       ]
      },
      {
       "output_type": "stream",
       "stream": "stdout",
       "text": [
        "REC94...  "
       ]
      },
      {
       "output_type": "stream",
       "stream": "stdout",
       "text": [
        "REC95...  "
       ]
      },
      {
       "output_type": "stream",
       "stream": "stdout",
       "text": [
        "REC75...  "
       ]
      },
      {
       "output_type": "stream",
       "stream": "stdout",
       "text": [
        "REC43...  "
       ]
      },
      {
       "output_type": "stream",
       "stream": "stdout",
       "text": [
        "REC42...  "
       ]
      },
      {
       "output_type": "stream",
       "stream": "stdout",
       "text": [
        "REC41...  "
       ]
      },
      {
       "output_type": "stream",
       "stream": "stdout",
       "text": [
        "REC71...  "
       ]
      },
      {
       "output_type": "stream",
       "stream": "stdout",
       "text": [
        "Survey 407 table RECHM2 does not exist!\n",
        "REC44... "
       ]
      },
      {
       "output_type": "stream",
       "stream": "stdout",
       "text": [
        " 443\n",
        "443\n"
       ]
      },
      {
       "output_type": "stream",
       "stream": "stdout",
       "text": [
        "\n",
        "Survey 420\n",
        "REC21... "
       ]
      },
      {
       "output_type": "stream",
       "stream": "stdout",
       "text": [
        " REC22...  "
       ]
      },
      {
       "output_type": "stream",
       "stream": "stdout",
       "text": [
        "RECH3...  "
       ]
      },
      {
       "output_type": "stream",
       "stream": "stdout",
       "text": [
        "REC51...  "
       ]
      },
      {
       "output_type": "stream",
       "stream": "stdout",
       "text": [
        "RECH1...  "
       ]
      },
      {
       "output_type": "stream",
       "stream": "stdout",
       "text": [
        "RECH0...  "
       ]
      },
      {
       "output_type": "stream",
       "stream": "stdout",
       "text": [
        "REC11...  "
       ]
      },
      {
       "output_type": "stream",
       "stream": "stdout",
       "text": [
        "RECH2...  "
       ]
      },
      {
       "output_type": "stream",
       "stream": "stdout",
       "text": [
        "REC01...  "
       ]
      },
      {
       "output_type": "stream",
       "stream": "stdout",
       "text": [
        "REC91...  "
       ]
      },
      {
       "output_type": "stream",
       "stream": "stdout",
       "text": [
        "RECH4...  "
       ]
      },
      {
       "output_type": "stream",
       "stream": "stdout",
       "text": [
        "REC94...  "
       ]
      },
      {
       "output_type": "stream",
       "stream": "stdout",
       "text": [
        "REC95...  "
       ]
      },
      {
       "output_type": "stream",
       "stream": "stdout",
       "text": [
        "REC75...  "
       ]
      },
      {
       "output_type": "stream",
       "stream": "stdout",
       "text": [
        "REC43...  "
       ]
      },
      {
       "output_type": "stream",
       "stream": "stdout",
       "text": [
        "REC42...  "
       ]
      },
      {
       "output_type": "stream",
       "stream": "stdout",
       "text": [
        "REC41...  "
       ]
      },
      {
       "output_type": "stream",
       "stream": "stdout",
       "text": [
        "REC71...  "
       ]
      },
      {
       "output_type": "stream",
       "stream": "stdout",
       "text": [
        "Survey 420 table RECHM2 does not exist!\n",
        "REC44... "
       ]
      },
      {
       "output_type": "stream",
       "stream": "stdout",
       "text": [
        " 443\n",
        "443\n"
       ]
      },
      {
       "output_type": "stream",
       "stream": "stdout",
       "text": [
        "\n",
        "Survey 423\n",
        "REC21... "
       ]
      },
      {
       "output_type": "stream",
       "stream": "stdout",
       "text": [
        " REC22...  "
       ]
      },
      {
       "output_type": "stream",
       "stream": "stdout",
       "text": [
        "RECH3...  "
       ]
      },
      {
       "output_type": "stream",
       "stream": "stdout",
       "text": [
        "REC51...  "
       ]
      },
      {
       "output_type": "stream",
       "stream": "stdout",
       "text": [
        "RECH1...  "
       ]
      },
      {
       "output_type": "stream",
       "stream": "stdout",
       "text": [
        "RECH0...  "
       ]
      },
      {
       "output_type": "stream",
       "stream": "stdout",
       "text": [
        "REC11...  "
       ]
      },
      {
       "output_type": "stream",
       "stream": "stdout",
       "text": [
        "RECH2...  "
       ]
      },
      {
       "output_type": "stream",
       "stream": "stdout",
       "text": [
        "REC01...  "
       ]
      },
      {
       "output_type": "stream",
       "stream": "stdout",
       "text": [
        "REC91...  "
       ]
      },
      {
       "output_type": "stream",
       "stream": "stdout",
       "text": [
        "RECH4...  "
       ]
      },
      {
       "output_type": "stream",
       "stream": "stdout",
       "text": [
        "REC94...  "
       ]
      },
      {
       "output_type": "stream",
       "stream": "stdout",
       "text": [
        "REC95...  "
       ]
      },
      {
       "output_type": "stream",
       "stream": "stdout",
       "text": [
        "REC75...  "
       ]
      },
      {
       "output_type": "stream",
       "stream": "stdout",
       "text": [
        "REC43...  "
       ]
      },
      {
       "output_type": "stream",
       "stream": "stdout",
       "text": [
        "REC42...  "
       ]
      },
      {
       "output_type": "stream",
       "stream": "stdout",
       "text": [
        "REC41...  "
       ]
      },
      {
       "output_type": "stream",
       "stream": "stdout",
       "text": [
        "REC71...  "
       ]
      },
      {
       "output_type": "stream",
       "stream": "stdout",
       "text": [
        "Survey 423 table RECHM2 does not exist!\n",
        "REC44... "
       ]
      },
      {
       "output_type": "stream",
       "stream": "stdout",
       "text": [
        " 443\n",
        "443\n"
       ]
      },
      {
       "output_type": "stream",
       "stream": "stdout",
       "text": [
        "\n",
        "Survey 432\n",
        "REC21... "
       ]
      },
      {
       "output_type": "stream",
       "stream": "stdout",
       "text": [
        " REC22...  "
       ]
      },
      {
       "output_type": "stream",
       "stream": "stdout",
       "text": [
        "RECH3...  "
       ]
      },
      {
       "output_type": "stream",
       "stream": "stdout",
       "text": [
        "Survey 432 table REC51 does not exist!\n",
        "RECH1... "
       ]
      },
      {
       "output_type": "stream",
       "stream": "stdout",
       "text": [
        " RECH0...  "
       ]
      },
      {
       "output_type": "stream",
       "stream": "stdout",
       "text": [
        "REC11...  "
       ]
      },
      {
       "output_type": "stream",
       "stream": "stdout",
       "text": [
        "RECH2...  "
       ]
      },
      {
       "output_type": "stream",
       "stream": "stdout",
       "text": [
        "REC01...  "
       ]
      },
      {
       "output_type": "stream",
       "stream": "stdout",
       "text": [
        "REC91...  "
       ]
      },
      {
       "output_type": "stream",
       "stream": "stdout",
       "text": [
        "Survey 432 table RECH4 does not exist!\n",
        "Survey 432 table REC94 does not exist!"
       ]
      },
      {
       "output_type": "stream",
       "stream": "stdout",
       "text": [
        "\n",
        "REC95... "
       ]
      },
      {
       "output_type": "stream",
       "stream": "stdout",
       "text": [
        " Survey 432 table REC75 does not exist!\n",
        "REC43... "
       ]
      },
      {
       "output_type": "stream",
       "stream": "stdout",
       "text": [
        " REC42...  "
       ]
      },
      {
       "output_type": "stream",
       "stream": "stdout",
       "text": [
        "REC41...  "
       ]
      },
      {
       "output_type": "stream",
       "stream": "stdout",
       "text": [
        "Survey 432 table REC71 does not exist!\n",
        "Survey 432 table RECHM2 does not exist!"
       ]
      },
      {
       "output_type": "stream",
       "stream": "stdout",
       "text": [
        "\n",
        "REC44... "
       ]
      },
      {
       "output_type": "stream",
       "stream": "stdout",
       "text": [
        " 380\n",
        "380\n"
       ]
      },
      {
       "output_type": "stream",
       "stream": "stdout",
       "text": [
        "\n",
        "Survey 435\n",
        "REC21... "
       ]
      },
      {
       "output_type": "stream",
       "stream": "stdout",
       "text": [
        " REC22...  "
       ]
      },
      {
       "output_type": "stream",
       "stream": "stdout",
       "text": [
        "RECH3...  "
       ]
      },
      {
       "output_type": "stream",
       "stream": "stdout",
       "text": [
        "REC51...  "
       ]
      },
      {
       "output_type": "stream",
       "stream": "stdout",
       "text": [
        "RECH1...  "
       ]
      },
      {
       "output_type": "stream",
       "stream": "stdout",
       "text": [
        "RECH0...  "
       ]
      },
      {
       "output_type": "stream",
       "stream": "stdout",
       "text": [
        "REC11...  "
       ]
      },
      {
       "output_type": "stream",
       "stream": "stdout",
       "text": [
        "RECH2...  "
       ]
      },
      {
       "output_type": "stream",
       "stream": "stdout",
       "text": [
        "REC01...  "
       ]
      },
      {
       "output_type": "stream",
       "stream": "stdout",
       "text": [
        "REC91...  "
       ]
      },
      {
       "output_type": "stream",
       "stream": "stdout",
       "text": [
        "RECH4...  "
       ]
      },
      {
       "output_type": "stream",
       "stream": "stdout",
       "text": [
        "Survey 435 table REC94 does not exist!\n",
        "REC95... "
       ]
      },
      {
       "output_type": "stream",
       "stream": "stdout",
       "text": [
        " REC75...  "
       ]
      },
      {
       "output_type": "stream",
       "stream": "stdout",
       "text": [
        "REC43...  "
       ]
      },
      {
       "output_type": "stream",
       "stream": "stdout",
       "text": [
        "REC42...  "
       ]
      },
      {
       "output_type": "stream",
       "stream": "stdout",
       "text": [
        "REC41...  "
       ]
      },
      {
       "output_type": "stream",
       "stream": "stdout",
       "text": [
        "REC71...  "
       ]
      },
      {
       "output_type": "stream",
       "stream": "stdout",
       "text": [
        "Survey 435 table RECHM2 does not exist!\n",
        "REC44... "
       ]
      },
      {
       "output_type": "stream",
       "stream": "stdout",
       "text": [
        " 421\n",
        "421\n"
       ]
      },
      {
       "output_type": "stream",
       "stream": "stdout",
       "text": [
        "\n",
        "Survey 438\n",
        "REC21... "
       ]
      },
      {
       "output_type": "stream",
       "stream": "stdout",
       "text": [
        " REC22...  "
       ]
      },
      {
       "output_type": "stream",
       "stream": "stdout",
       "text": [
        "RECH3...  "
       ]
      },
      {
       "output_type": "stream",
       "stream": "stdout",
       "text": [
        "REC51...  "
       ]
      },
      {
       "output_type": "stream",
       "stream": "stdout",
       "text": [
        "RECH1...  "
       ]
      },
      {
       "output_type": "stream",
       "stream": "stdout",
       "text": [
        "RECH0...  "
       ]
      },
      {
       "output_type": "stream",
       "stream": "stdout",
       "text": [
        "REC11...  "
       ]
      },
      {
       "output_type": "stream",
       "stream": "stdout",
       "text": [
        "RECH2...  "
       ]
      },
      {
       "output_type": "stream",
       "stream": "stdout",
       "text": [
        "REC01...  "
       ]
      },
      {
       "output_type": "stream",
       "stream": "stdout",
       "text": [
        "REC91...  "
       ]
      },
      {
       "output_type": "stream",
       "stream": "stdout",
       "text": [
        "RECH4...  "
       ]
      },
      {
       "output_type": "stream",
       "stream": "stdout",
       "text": [
        "REC94...  "
       ]
      },
      {
       "output_type": "stream",
       "stream": "stdout",
       "text": [
        "REC95...  "
       ]
      },
      {
       "output_type": "stream",
       "stream": "stdout",
       "text": [
        "REC75...  "
       ]
      },
      {
       "output_type": "stream",
       "stream": "stdout",
       "text": [
        "REC43...  "
       ]
      },
      {
       "output_type": "stream",
       "stream": "stdout",
       "text": [
        "REC42...  "
       ]
      },
      {
       "output_type": "stream",
       "stream": "stdout",
       "text": [
        "REC41...  "
       ]
      },
      {
       "output_type": "stream",
       "stream": "stdout",
       "text": [
        "REC71...  "
       ]
      },
      {
       "output_type": "stream",
       "stream": "stdout",
       "text": [
        "Survey 438 table RECHM2 does not exist!\n",
        "REC44... "
       ]
      },
      {
       "output_type": "stream",
       "stream": "stdout",
       "text": [
        " 445\n",
        "445\n"
       ]
      },
      {
       "output_type": "stream",
       "stream": "stdout",
       "text": [
        "\n",
        "Survey 446\n",
        "REC21... "
       ]
      },
      {
       "output_type": "stream",
       "stream": "stdout",
       "text": [
        " REC22...  "
       ]
      },
      {
       "output_type": "stream",
       "stream": "stdout",
       "text": [
        "RECH3...  "
       ]
      },
      {
       "output_type": "stream",
       "stream": "stdout",
       "text": [
        "Survey 446 table REC51 does not exist!\n",
        "RECH1... "
       ]
      },
      {
       "output_type": "stream",
       "stream": "stdout",
       "text": [
        " RECH0...  "
       ]
      },
      {
       "output_type": "stream",
       "stream": "stdout",
       "text": [
        "REC11...  "
       ]
      },
      {
       "output_type": "stream",
       "stream": "stdout",
       "text": [
        "RECH2...  "
       ]
      },
      {
       "output_type": "stream",
       "stream": "stdout",
       "text": [
        "REC01...  "
       ]
      },
      {
       "output_type": "stream",
       "stream": "stdout",
       "text": [
        "REC91...  "
       ]
      },
      {
       "output_type": "stream",
       "stream": "stdout",
       "text": [
        "RECH4...  "
       ]
      },
      {
       "output_type": "stream",
       "stream": "stdout",
       "text": [
        "REC94...  "
       ]
      },
      {
       "output_type": "stream",
       "stream": "stdout",
       "text": [
        "REC95...  "
       ]
      },
      {
       "output_type": "stream",
       "stream": "stdout",
       "text": [
        "Survey 446 table REC75 does not exist!\n",
        "REC43... "
       ]
      },
      {
       "output_type": "stream",
       "stream": "stdout",
       "text": [
        " REC42...  "
       ]
      },
      {
       "output_type": "stream",
       "stream": "stdout",
       "text": [
        "REC41...  "
       ]
      },
      {
       "output_type": "stream",
       "stream": "stdout",
       "text": [
        "Survey 446 table REC71 does not exist!\n",
        "Survey 446 table RECHM2 does not exist!"
       ]
      },
      {
       "output_type": "stream",
       "stream": "stdout",
       "text": [
        "\n",
        "REC44... "
       ]
      },
      {
       "output_type": "stream",
       "stream": "stdout",
       "text": [
        " 408\n",
        "408\n"
       ]
      },
      {
       "output_type": "stream",
       "stream": "stdout",
       "text": [
        "\n",
        "Survey 456\n",
        "REC21... "
       ]
      },
      {
       "output_type": "stream",
       "stream": "stdout",
       "text": [
        " REC22...  "
       ]
      },
      {
       "output_type": "stream",
       "stream": "stdout",
       "text": [
        "RECH3...  "
       ]
      },
      {
       "output_type": "stream",
       "stream": "stdout",
       "text": [
        "Survey 456 table REC51 does not exist!\n",
        "RECH1... "
       ]
      },
      {
       "output_type": "stream",
       "stream": "stdout",
       "text": [
        " RECH0...  "
       ]
      },
      {
       "output_type": "stream",
       "stream": "stdout",
       "text": [
        "REC11...  "
       ]
      },
      {
       "output_type": "stream",
       "stream": "stdout",
       "text": [
        "RECH2...  "
       ]
      },
      {
       "output_type": "stream",
       "stream": "stdout",
       "text": [
        "REC01...  "
       ]
      },
      {
       "output_type": "stream",
       "stream": "stdout",
       "text": [
        "REC91...  "
       ]
      },
      {
       "output_type": "stream",
       "stream": "stdout",
       "text": [
        "RECH4...  "
       ]
      },
      {
       "output_type": "stream",
       "stream": "stdout",
       "text": [
        "REC94...  "
       ]
      },
      {
       "output_type": "stream",
       "stream": "stdout",
       "text": [
        "Survey 456 table REC95 does not exist!\n",
        "Survey 456 table REC75 does not exist!"
       ]
      },
      {
       "output_type": "stream",
       "stream": "stdout",
       "text": [
        "\n",
        "REC43... "
       ]
      },
      {
       "output_type": "stream",
       "stream": "stdout",
       "text": [
        " REC42...  "
       ]
      },
      {
       "output_type": "stream",
       "stream": "stdout",
       "text": [
        "REC41...  "
       ]
      },
      {
       "output_type": "stream",
       "stream": "stdout",
       "text": [
        "Survey 456 table REC71 does not exist!\n",
        "Survey 456 table RECHM2 does not exist!"
       ]
      },
      {
       "output_type": "stream",
       "stream": "stdout",
       "text": [
        "\n",
        "REC44... "
       ]
      },
      {
       "output_type": "stream",
       "stream": "stdout",
       "text": [
        " 351\n",
        "351\n"
       ]
      },
      {
       "output_type": "stream",
       "stream": "stdout",
       "text": [
        "\n"
       ]
      }
     ],
     "prompt_number": 10
    },
    {
     "cell_type": "heading",
     "level": 3,
     "metadata": {},
     "source": [
      "Workings below this point - all redundant"
     ]
    },
    {
     "cell_type": "markdown",
     "metadata": {},
     "source": [
      "Now the best thing to do would be then to join each of the other tables in turn and update, for example:"
     ]
    },
    {
     "cell_type": "code",
     "collapsed": false,
     "input": [
      "inTable = srcTableInfos['REC43']\n",
      "cp = TableToTableFieldCopier(outTable, inTable, inTable.OutputColumns())\n",
      "\n",
      "update = cp.GetUpdateSQL_Join()\n",
      "cursor.execute(update)\n",
      "db.commit()"
     ],
     "language": "python",
     "metadata": {},
     "outputs": [
      {
       "ename": "OperationalError",
       "evalue": "near \"INNER\": syntax error",
       "output_type": "pyerr",
       "traceback": [
        "\u001b[1;31m---------------------------------------------------------------------------\u001b[0m\n\u001b[1;31mOperationalError\u001b[0m                          Traceback (most recent call last)",
        "\u001b[1;32m<ipython-input-90-7392b406013b>\u001b[0m in \u001b[0;36m<module>\u001b[1;34m()\u001b[0m\n\u001b[0;32m      6\u001b[0m \u001b[0mupdate\u001b[0m \u001b[1;33m=\u001b[0m \u001b[0mcp\u001b[0m\u001b[1;33m.\u001b[0m\u001b[0mGetUpdateSQL_Join\u001b[0m\u001b[1;33m(\u001b[0m\u001b[1;33m)\u001b[0m\u001b[1;33m\u001b[0m\u001b[0m\n\u001b[0;32m      7\u001b[0m \u001b[1;31m# UPDATE {0} o INNER JOIN {1} i on o.{2} = i.{3} SET o.{4} = i.{5};\u001b[0m\u001b[1;33m\u001b[0m\u001b[1;33m\u001b[0m\u001b[0m\n\u001b[1;32m----> 8\u001b[1;33m \u001b[0mcursor\u001b[0m\u001b[1;33m.\u001b[0m\u001b[0mexecute\u001b[0m\u001b[1;33m(\u001b[0m\u001b[0mupdate\u001b[0m\u001b[1;33m)\u001b[0m\u001b[1;33m\u001b[0m\u001b[0m\n\u001b[0m\u001b[0;32m      9\u001b[0m \u001b[0mdb\u001b[0m\u001b[1;33m.\u001b[0m\u001b[0mcommit\u001b[0m\u001b[1;33m(\u001b[0m\u001b[1;33m)\u001b[0m\u001b[1;33m\u001b[0m\u001b[0m\n",
        "\u001b[1;31mOperationalError\u001b[0m: near \"INNER\": syntax error"
       ]
      }
     ],
     "prompt_number": 90
    },
    {
     "cell_type": "markdown",
     "metadata": {},
     "source": [
      "But that doesn't work because it turns out SQLite doesn't support join in an update query. Nice to know."
     ]
    },
    {
     "cell_type": "code",
     "collapsed": false,
     "input": [
      "inTable = srcTableInfos['REC43']\n",
      "cp = TableToTableFieldCopier(outTable, inTable, inTable.OutputColumns())\n"
     ],
     "language": "python",
     "metadata": {},
     "outputs": [],
     "prompt_number": 101
    },
    {
     "cell_type": "markdown",
     "metadata": {},
     "source": [
      "Instead we might try REPLACE INTO. But that doesn't work because it adds duplicate rows."
     ]
    },
    {
     "cell_type": "code",
     "collapsed": false,
     "input": [
      "inTable = srcTableInfos['REC43']\n",
      "cp = TableToTableFieldCopier(outTable, inTable, inTable.OutputColumns())\n",
      "\n",
      "update = cp.GetUpdateSQL_Replace()\n",
      "cursor.execute(update)\n",
      "db.commit()\n"
     ],
     "language": "python",
     "metadata": {},
     "outputs": []
    }
   ],
   "metadata": {}
  }
 ]
}